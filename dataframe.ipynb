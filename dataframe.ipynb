{
 "cells": [
  {
   "cell_type": "markdown",
   "id": "888b8939-9800-4619-8f29-00edf6275f38",
   "metadata": {},
   "source": [
    "Ce fichier vise à créer un DataFrame propre à partir de toutes les informations récoltées.\n",
    "\n",
    "Eventuellement, nous ferons un DataFrame avec les recettes, et un Dataframe avec les qualités nutritionnelles des ingrédients."
   ]
  },
  {
   "cell_type": "code",
   "execution_count": 4,
   "id": "25d823d9-0cc9-44b2-8335-1816d7cc841d",
   "metadata": {},
   "outputs": [],
   "source": [
    "#Import des modules\n",
    "import pandas as pd\n",
    "\n",
    "\n",
    "#Import des fonctions qu'on a créées nous-mêmes\n",
    "from scrapping_marmiton import *"
   ]
  },
  {
   "cell_type": "markdown",
   "id": "5f43d4d4-6c24-48b2-a86c-a629f2cd13e3",
   "metadata": {},
   "source": [
    "Pour commencer, récupérons toutes les recettes végétariennes, sous la forme d'un dictionnaire, grâce à la fonction \"find_all_recipes\"."
   ]
  },
  {
   "cell_type": "code",
   "execution_count": 8,
   "id": "028434c4-dd99-488f-93ff-050cbdab0d27",
   "metadata": {},
   "outputs": [
    {
     "data": {
      "application/vnd.jupyter.widget-view+json": {
       "model_id": "05ec703ba9f040ae9fd9023f655db1a8",
       "version_major": 2,
       "version_minor": 0
      },
      "text/plain": [
       "  0%|          | 0/12 [00:00<?, ?it/s]"
      ]
     },
     "metadata": {},
     "output_type": "display_data"
    }
   ],
   "source": [
    "research = \"vegetarien\"\n",
    "dict_all = find_all_recipes(research, 1)\n",
    "\n",
    "#ATTENTION : le nombre indiqué en deuxième argument de la fonction find_all_recipes correspond au nombre de pages, pas au nombre de recettes...\n",
    "#On récupère donc 12 recette ici"
   ]
  },
  {
   "cell_type": "markdown",
   "id": "616f21e1-5ede-473d-a9ad-4ccbac63b741",
   "metadata": {},
   "source": [
    "Désormais, il faut transformer tout ça en DF. On s'occupera de la conversion plus tard, l'idée serait peut-être de faire un fichier conversion.py avec les fonctions nécessaires, plutôt qu'un notebook."
   ]
  },
  {
   "cell_type": "code",
   "execution_count": 41,
   "id": "b2f57b3d-8e46-482e-b49f-63c039e0ac5e",
   "metadata": {},
   "outputs": [
    {
     "data": {
      "application/vnd.jupyter.widget-view+json": {
       "model_id": "d6d0623e67db40c180e13bfd1157c032",
       "version_major": 2,
       "version_minor": 0
      },
      "text/plain": [
       "  0%|          | 0/12 [00:00<?, ?it/s]"
      ]
     },
     "metadata": {},
     "output_type": "display_data"
    },
    {
     "name": "stdout",
     "output_type": "stream",
     "text": [
      "            Ingrédients Quantités                      Nom recette\n",
      "0               tomates         6  Lasagnes végétariennes (facile)\n",
      "1            courgettes         4  Lasagnes végétariennes (facile)\n",
      "2                poivre            Lasagnes végétariennes (facile)\n",
      "3                   sel            Lasagnes végétariennes (facile)\n",
      "4    herbes de Provence            Lasagnes végétariennes (facile)\n",
      "..                  ...       ...                              ...\n",
      "157                thym                 Tarte du soir végétarienne\n",
      "158              origan                 Tarte du soir végétarienne\n",
      "159     bûche de chèvre         1       Tarte du soir végétarienne\n",
      "160         pâte brisée         1       Tarte du soir végétarienne\n",
      "161               oeufs         2       Tarte du soir végétarienne\n",
      "\n",
      "[162 rows x 3 columns]\n"
     ]
    }
   ],
   "source": [
    "#Creating a list with all the scrapped recipes names\n",
    "research = \"vegetarien\"\n",
    "dict_all = find_all_recipes(research, 1)\n",
    "recipes_names = list(dict_all.keys())\n",
    "\n",
    "df_recipes = []\n",
    "for i in range(len(recipes_names)):\n",
    "    dict_recipe = dict_all[recipes_names[i]]\n",
    "    ingredients = list(dict_recipe['recette'].keys())\n",
    "    qtes = list(dict_recipe['recette'].values())\n",
    "    \n",
    "    dict_iq = {'Ingrédients' : ingredients, 'Quantités' : qtes}\n",
    "    df = pd.DataFrame(dict_iq)\n",
    "    df['Nom recette'] = recipes_names[i]\n",
    "    \n",
    "    df_recipes.append(df)\n",
    "    \n",
    "full_df = pd.concat(df_recipes, axis=0, ignore_index=True)\n",
    "print(full_df)"
   ]
  },
  {
   "cell_type": "code",
   "execution_count": null,
   "id": "41b06240-744d-4d60-a9e8-17a651b9a178",
   "metadata": {},
   "outputs": [],
   "source": []
  }
 ],
 "metadata": {
  "kernelspec": {
   "display_name": "Python 3 (ipykernel)",
   "language": "python",
   "name": "python3"
  },
  "language_info": {
   "codemirror_mode": {
    "name": "ipython",
    "version": 3
   },
   "file_extension": ".py",
   "mimetype": "text/x-python",
   "name": "python",
   "nbconvert_exporter": "python",
   "pygments_lexer": "ipython3",
   "version": "3.10.4"
  }
 },
 "nbformat": 4,
 "nbformat_minor": 5
}
