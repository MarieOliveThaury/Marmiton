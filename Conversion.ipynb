{
 "cells": [
  {
   "cell_type": "code",
   "execution_count": 19,
   "id": "fb86e8fd-db2c-4fe7-af9e-456a9cf74a06",
   "metadata": {},
   "outputs": [],
   "source": [
    "# This file aims at converting units that are not grammes in grammes\n",
    "# we consider here that : 1 c.à.c = 5 g and 1 c.à.s = 15 grammes"
   ]
  },
  {
   "cell_type": "code",
   "execution_count": 1,
   "id": "82cdd7f2-b306-4ac8-b1da-ab3222b69827",
   "metadata": {},
   "outputs": [
    {
     "name": "stdout",
     "output_type": "stream",
     "text": [
      "Requirement already satisfied: lxml in /opt/mamba/lib/python3.10/site-packages (4.9.1)\n"
     ]
    }
   ],
   "source": [
    "!pip install lxml "
   ]
  },
  {
   "cell_type": "code",
   "execution_count": null,
   "id": "738bd0e4-140c-42d1-a827-97e9dc6981da",
   "metadata": {},
   "outputs": [],
   "source": [
    "from scrapping import *\n",
    "import re\n"
   ]
  },
  {
   "cell_type": "code",
   "execution_count": null,
   "id": "e814eee6-6776-4fd4-9c8f-70971d702710",
   "metadata": {},
   "outputs": [],
   "source": [
    "corres = open(\"Poids.txt\", \"r\")\n",
    "poids=corres.readlines()\n",
    "dicopoids={}\n",
    "for ligne in poids:\n",
    "    dicopoids[str(''.join(z for z in ligne if not z.isdigit()).replace(\" \\n\", \"\").lower())]=int(\"\".join(re.findall('\\d',str(ligne))))\n",
    "     "
   ]
  },
  {
   "cell_type": "code",
   "execution_count": null,
   "id": "fff76581-aed9-477a-81a9-6ca2035db543",
   "metadata": {},
   "outputs": [],
   "source": [
    "dicopoids"
   ]
  },
  {
   "cell_type": "code",
   "execution_count": 17,
   "id": "ef538c8a-5085-4848-862e-c739e11ab23e",
   "metadata": {},
   "outputs": [
    {
     "name": "stderr",
     "output_type": "stream",
     "text": [
      " 75%|███████▌  | 691/921 [02:42<00:54,  4.25it/s]\n"
     ]
    },
    {
     "ename": "AttributeError",
     "evalue": "'NoneType' object has no attribute 'findAll'",
     "output_type": "error",
     "traceback": [
      "\u001b[0;31m---------------------------------------------------------------------------\u001b[0m",
      "\u001b[0;31mAttributeError\u001b[0m                            Traceback (most recent call last)",
      "Cell \u001b[0;32mIn [17], line 3\u001b[0m\n\u001b[1;32m      1\u001b[0m url_test \u001b[38;5;241m=\u001b[39m \u001b[38;5;124m\"\u001b[39m\u001b[38;5;124mhttps://www.marmiton.org/recettes/recette_moelleux-au-chocolat-sans-beurre-sans-sucre_14748.aspx\u001b[39m\u001b[38;5;124m\"\u001b[39m\n\u001b[0;32m----> 3\u001b[0m test\u001b[38;5;241m=\u001b[39m\u001b[43mfind_all_recipes\u001b[49m\u001b[43m(\u001b[49m\u001b[38;5;124;43m\"\u001b[39;49m\u001b[38;5;124;43mpoisson\u001b[39;49m\u001b[38;5;124;43m\"\u001b[39;49m\u001b[43m)\u001b[49m\n",
      "File \u001b[0;32m~/work/Marmiton/scrapping.py:88\u001b[0m, in \u001b[0;36mfind_all_recipes\u001b[0;34m(search)\u001b[0m\n\u001b[1;32m     86\u001b[0m all_recipes \u001b[38;5;241m=\u001b[39m {}\n\u001b[1;32m     87\u001b[0m \u001b[38;5;28;01mfor\u001b[39;00m dish \u001b[38;5;129;01min\u001b[39;00m tqdm(list_dishes_url) : \n\u001b[0;32m---> 88\u001b[0m     all_recipes[find_recipe(dish)[\u001b[38;5;241m0\u001b[39m]] \u001b[38;5;241m=\u001b[39m \u001b[43mfind_recipe\u001b[49m\u001b[43m(\u001b[49m\u001b[43mdish\u001b[49m\u001b[43m)\u001b[49m[\u001b[38;5;241m1\u001b[39m] \n\u001b[1;32m     89\u001b[0m     \u001b[38;5;66;03m#we should add other features like the mark, the nb of people, the number of opinions...\u001b[39;00m\n\u001b[1;32m     91\u001b[0m \u001b[38;5;28;01mreturn\u001b[39;00m all_recipes\n",
      "File \u001b[0;32m~/work/Marmiton/scrapping.py:59\u001b[0m, in \u001b[0;36mfind_recipe\u001b[0;34m(dish_url)\u001b[0m\n\u001b[1;32m     57\u001b[0m ingredients_table \u001b[38;5;241m=\u001b[39m soup\u001b[38;5;241m.\u001b[39mfind(\u001b[38;5;124m'\u001b[39m\u001b[38;5;124mdiv\u001b[39m\u001b[38;5;124m'\u001b[39m, {\u001b[38;5;124m'\u001b[39m\u001b[38;5;124mclass\u001b[39m\u001b[38;5;124m'\u001b[39m : \u001b[38;5;124m'\u001b[39m\u001b[38;5;124mMuiGrid-root RCP__sc-vgpd2s-6 ghZzUe MuiGrid-container MuiGrid-spacing-xs-2\u001b[39m\u001b[38;5;124m'\u001b[39m})\n\u001b[1;32m     58\u001b[0m \u001b[38;5;66;03m#1 : for the ingredients \u001b[39;00m\n\u001b[0;32m---> 59\u001b[0m ingredients1 \u001b[38;5;241m=\u001b[39m \u001b[43mingredients_table\u001b[49m\u001b[38;5;241;43m.\u001b[39;49m\u001b[43mfindAll\u001b[49m(\u001b[38;5;124m'\u001b[39m\u001b[38;5;124mspan\u001b[39m\u001b[38;5;124m'\u001b[39m, {\u001b[38;5;124m'\u001b[39m\u001b[38;5;124mclass\u001b[39m\u001b[38;5;124m'\u001b[39m : \u001b[38;5;124m'\u001b[39m\u001b[38;5;124mRCP__sc-8cqrvd-3 itCXhd\u001b[39m\u001b[38;5;124m'\u001b[39m})\n\u001b[1;32m     60\u001b[0m ingredients2 \u001b[38;5;241m=\u001b[39m ingredients_table\u001b[38;5;241m.\u001b[39mfindAll(\u001b[38;5;124m'\u001b[39m\u001b[38;5;124mspan\u001b[39m\u001b[38;5;124m'\u001b[39m, {\u001b[38;5;124m'\u001b[39m\u001b[38;5;124mclass\u001b[39m\u001b[38;5;124m'\u001b[39m : \u001b[38;5;124m'\u001b[39m\u001b[38;5;124mRCP__sc-8cqrvd-3 cDbUWZ\u001b[39m\u001b[38;5;124m'\u001b[39m})\n\u001b[1;32m     61\u001b[0m ingredients \u001b[38;5;241m=\u001b[39m ingredients1 \u001b[38;5;241m+\u001b[39m ingredients2\n",
      "\u001b[0;31mAttributeError\u001b[0m: 'NoneType' object has no attribute 'findAll'"
     ]
    }
   ],
   "source": [
    "url_test = \"https://www.marmiton.org/recettes/recette_moelleux-au-chocolat-sans-beurre-sans-sucre_14748.aspx\"\n",
    "\n",
    "test=find_all_recipes(\"poisson\")\n",
    "\n"
   ]
  },
  {
   "cell_type": "code",
   "execution_count": null,
   "id": "3b8ceb4f-4dfe-4c61-9e07-9f2ad664994b",
   "metadata": {},
   "outputs": [],
   "source": [
    "test.items()"
   ]
  },
  {
   "cell_type": "code",
   "execution_count": 12,
   "id": "9914eca0-47de-43af-9b45-839718a2ef3b",
   "metadata": {},
   "outputs": [],
   "source": [
    "def convert(dico):\n",
    "    for x,y in dico.items():\n",
    "        for k,v in y.items():\n",
    "            \n",
    "            if v != '':\n",
    "                n=int((\"\".join(re.findall('\\d',str(v)))))\n",
    "                \n",
    "                l=str(''.join(z for z in v if not z.isdigit()))\n",
    "                \n",
    "                if l=='c.à.s rase':\n",
    "                    y.update({k:str(15*n)+\"g\"})\n",
    "                elif k==\"jaune d'oeuf\":\n",
    "                    y.update({k:str(20*n)+\"g\"})\n",
    "                elif k==\"oeuf\":\n",
    "                    y.update({k:str(55*n)+\"g\"})\n",
    "                elif l=='c.à.c':\n",
    "                    y.update({k:str(5*n)+\"g\"})\n",
    "                elif l=='tranche':\n",
    "                    y.update({k:str(32*n)+\"g\"})\n",
    "                elif 'brin' or 'trait' in l:\n",
    "                    y.update({k:str(5*n)+\"g\"})\n",
    "                elif l=='ml':\n",
    "                    y.update({k:str(1*n)+\"g\"})\n",
    "                elif l=='cl':\n",
    "                    y.update({k:str(10*n)+\"g\"})\n",
    "                elif l=='dl':\n",
    "                    y.update({k:str(100*n)+\"g\"}) \n",
    "                elif l=='l':\n",
    "                    y.update({k:str(1000*n)+\"g\"})    \n",
    "                elif l=='c.à.s':\n",
    "                    y.update({k:str(15*n)+\"g\"})\n",
    "                elif l=='cuillères':\n",
    "                    y.update({k:str(15*n)+\"g\"})\n",
    "                if l!='g':    \n",
    "                    for a,b in dicopoids.items():\n",
    "                        if a in k:\n",
    "                            y.update({k:str(b*n)+\"g\"})\n",
    "            elif v==\"\": #on définit une valeur standardisé pour les éléments manquants. Ces élements sont souvent utilisés en des quantités limitées.\n",
    "                y.update({k:str(2)+\"g\"})\n",
    "                    \n",
    "                    \n",
    "            \n",
    "            \n",
    "                \n",
    "            \n",
    "            "
   ]
  },
  {
   "cell_type": "code",
   "execution_count": null,
   "id": "c645b916-da34-4fe0-98e1-26b0fa3ec4f2",
   "metadata": {},
   "outputs": [],
   "source": []
  },
  {
   "cell_type": "code",
   "execution_count": 13,
   "id": "993e968c-ee57-4e1f-84ca-78e07dd729eb",
   "metadata": {},
   "outputs": [],
   "source": [
    "convert(test)"
   ]
  },
  {
   "cell_type": "code",
   "execution_count": 14,
   "id": "b0df704c-a67a-44fc-a499-52ce0e01a787",
   "metadata": {},
   "outputs": [],
   "source": [
    "def keskimank(dico):\n",
    "    for x,y in dico.items():\n",
    "        for k,v in y.items():\n",
    "                l=str(''.join(z for z in v if not z.isdigit()))\n",
    "                if l!='g':\n",
    "                    print(k)"
   ]
  },
  {
   "cell_type": "code",
   "execution_count": 15,
   "id": "057eed99-4f7a-4b08-85c5-dc0fbf492ffd",
   "metadata": {},
   "outputs": [],
   "source": [
    "keskimank(test)"
   ]
  },
  {
   "cell_type": "code",
   "execution_count": 61,
   "id": "9e002331-1585-43cd-96de-1eeeda406628",
   "metadata": {},
   "outputs": [],
   "source": [
    "def usable(dico):\n",
    "    for x,y in dico.items():\n",
    "        for k,v in y.items():\n",
    "                n=int((\"\".join(re.findall('\\d',str(v)))))\n",
    "                y.update({k:int(n)})"
   ]
  },
  {
   "cell_type": "code",
   "execution_count": 9,
   "id": "c27765a8-8cf6-4eb2-970b-1f66d58d24fd",
   "metadata": {},
   "outputs": [
    {
     "data": {
      "text/plain": [
       "{'Steak tartare': {'moutarde de Dijon': '1c.à.c',\n",
       "  'oignon': '1c.à.s',\n",
       "  'câpres': '1c.à.s',\n",
       "  'sauce worcestershire': '1c.à.c',\n",
       "  'ketchup': '1c.à.s',\n",
       "  'tabasco': '',\n",
       "  'poivre': '',\n",
       "  'sel': '',\n",
       "  \"huile d'olive\": '2c.à.s',\n",
       "  'persil': '1c.à.c',\n",
       "  'boeuf': '250g',\n",
       "  \"jaune d'oeuf\": '1'},\n",
       " 'Steak tartare arrangé': {'huile': '450g',\n",
       "  'moutarde': '',\n",
       "  'ketchup': '',\n",
       "  'tabasco': '',\n",
       "  'poivre': '',\n",
       "  'sel': '',\n",
       "  'câpres': '',\n",
       "  'persil': '',\n",
       "  'boeuf haché': '',\n",
       "  'oeuf': '1',\n",
       "  'échalote': '1',\n",
       "  'cornichons': ''},\n",
       " 'Steak tartare végétarien': {'carotte': '500g',\n",
       "  'câpres': '2c.à.s',\n",
       "  'poivron rouge': '1',\n",
       "  'oignon': '1',\n",
       "  'persil': '1c.à.s',\n",
       "  'moutarde': '2c.à.s',\n",
       "  'tabasco': '1trait',\n",
       "  'poivre': '',\n",
       "  'sel': '',\n",
       "  'mayonnaise': '3c.à.s',\n",
       "  'sauce anglaise': '1c.à.s'},\n",
       " 'Sauce légère et relevée pour steak tartare': {'moutarde de Dijon': '1c.à.s',\n",
       "  'fromage blanc': '6cuillères',\n",
       "  'poivre': '',\n",
       "  'sel': '',\n",
       "  'câpres': '1c.à.c',\n",
       "  'ciboulette': '',\n",
       "  'échalote': '1',\n",
       "  'mayonnaise': ''},\n",
       " \"Steak tartare à l'italienne : tomate séchée et mozzarella\": {'filet de boeuf': '250g',\n",
       "  \"huile d'olive\": '2c.à.s',\n",
       "  'moutarde': '1c.à.s',\n",
       "  'ketchup': '1c.à.s',\n",
       "  'câpres': '20',\n",
       "  'olives': '7',\n",
       "  'tomates séchées': '4',\n",
       "  'Parmesan': '50g',\n",
       "  'sel': '',\n",
       "  'poivre': '',\n",
       "  'tabasco': '',\n",
       "  \"jaune d'oeuf\": '1'},\n",
       " 'Steak tartare maison': {'moutarde': '300g',\n",
       "  'ketchup': '1c.à.c',\n",
       "  'poivre': '',\n",
       "  'sel': '',\n",
       "  'boeuf haché': '',\n",
       "  \"jaunes d'oeuf\": '2',\n",
       "  'échalotes': '2'},\n",
       " 'Steak tartare à la coréenne': {'viande hachée': '150g',\n",
       "  'sésame': '1c.à.c',\n",
       "  'huile de sésame': '1c.à.c',\n",
       "  'pomme': '1⁄4',\n",
       "  'ail': '1petite gousse',\n",
       "  'jus de citron': '',\n",
       "  'poire': '1⁄4',\n",
       "  'oeuf': '1'},\n",
       " 'Steak tartare au poivron rouge': {'poivron rouge': '1',\n",
       "  'persil': '',\n",
       "  'moutarde': '4c.à.c',\n",
       "  \"huile d'olive\": '4c.à.c',\n",
       "  'poivre': '',\n",
       "  'sel': '',\n",
       "  'steaks': '4',\n",
       "  'échalotes': '4',\n",
       "  'cornichons': '16',\n",
       "  'oeufs': '4'},\n",
       " 'steak tartare au vinaigre balsamique': {\"huile d'olive\": '300g',\n",
       "  'vinaigre balsamique': '2c.à.s',\n",
       "  'câpres': '2c.à.s',\n",
       "  'poivre': '1c.à.s',\n",
       "  'tabasco': '',\n",
       "  'boeuf haché': '',\n",
       "  'échalote': '1',\n",
       "  'herbes': '1c.à.s'},\n",
       " 'Steak tartare et riz aux légumes': {'viande hachée': '300g',\n",
       "  'ketchup': '',\n",
       "  'oignon': '1',\n",
       "  'persil': '1c.à.s',\n",
       "  'câpres': '6',\n",
       "  'tabasco': '',\n",
       "  'cognac': '',\n",
       "  'sauce worcestershire': '',\n",
       "  'riz': '200g',\n",
       "  'poivre': '',\n",
       "  'sel': '',\n",
       "  'mayonnaise': ''},\n",
       " \"Steak tartare à l'américaine\": {'persil': '600g',\n",
       "  'vinaigre': '50g',\n",
       "  'tomates': '1c.à.s',\n",
       "  'boeuf haché': '2',\n",
       "  'échalotes': '2',\n",
       "  'cornichons': '2',\n",
       "  \"jaunes d'oeuf\": '4',\n",
       "  'mayonnaise': '2cuillères',\n",
       "  'oeufs': '4'},\n",
       " 'Tartare thon - saumon en verrine': {'tomates': '4',\n",
       "  'jus de citron': '',\n",
       "  'vinaigre de vin': '1c.à.s',\n",
       "  \"huile d'olive\": '7c.à.s',\n",
       "  'poivre': '',\n",
       "  'sel': '',\n",
       "  'saumon frais': '1pavé',\n",
       "  'steak': '1',\n",
       "  'concombre': '1',\n",
       "  'feta': '150g'},\n",
       " 'Hamburgers sauce tartare maison': {'tomate': '1⁄2',\n",
       "  'pains pour hamburger': '2',\n",
       "  'steaks': '2',\n",
       "  'cheddar': '2tranches',\n",
       "  'salade': '2feuilles'},\n",
       " 'Tartare de boeuf à la cannelle': {'ail': '1c.à.c',\n",
       "  'cannelle': '1c.à.c',\n",
       "  'cube de bouillon': '1',\n",
       "  'coriandre': '1c.à.c',\n",
       "  'steaks': '2',\n",
       "  'oeuf': '1'},\n",
       " 'Tartare de boeuf aux 5 épices': {'oignons': '2',\n",
       "  'coriandre': '1bouquet',\n",
       "  \"huile d'olive\": '3c.à.s',\n",
       "  'citron': '',\n",
       "  'poivre': '',\n",
       "  'sel': '',\n",
       "  'steaks': '4',\n",
       "  'cerfeuil': '1bouquet',\n",
       "  'mélange 5 épices': '5g'}}"
      ]
     },
     "execution_count": 9,
     "metadata": {},
     "output_type": "execute_result"
    }
   ],
   "source": [
    "usable(test)\n",
    "test"
   ]
  },
  {
   "cell_type": "code",
   "execution_count": null,
   "id": "d70e7be3-880a-43a2-89bc-23863f50cd01",
   "metadata": {},
   "outputs": [],
   "source": []
  }
 ],
 "metadata": {
  "kernelspec": {
   "display_name": "Python 3 (ipykernel)",
   "language": "python",
   "name": "python3"
  },
  "language_info": {
   "codemirror_mode": {
    "name": "ipython",
    "version": 3
   },
   "file_extension": ".py",
   "mimetype": "text/x-python",
   "name": "python",
   "nbconvert_exporter": "python",
   "pygments_lexer": "ipython3",
   "version": "3.10.4"
  }
 },
 "nbformat": 4,
 "nbformat_minor": 5
}
