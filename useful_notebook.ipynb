{
 "cells": [
  {
   "cell_type": "code",
   "execution_count": 2,
   "id": "7dac6342-f22e-47b4-bcb3-9dc81259ff62",
   "metadata": {},
   "outputs": [],
   "source": [
    "#Installation de Selenium\n",
    "\n",
    "#!wget https://dl.google.com/linux/direct/google-chrome-stable_current_amd64.deb -O /tmp/chrome.deb\n",
    "#!sudo apt-get update\n",
    "#!sudo -E apt-get install -y /tmp/chrome.deb\n",
    "#!pip install chromedriver-autoinstaller selenium"
   ]
  },
  {
   "cell_type": "code",
   "execution_count": 4,
   "id": "417e6cb8-8de4-4c96-9b76-d3f751afac75",
   "metadata": {},
   "outputs": [],
   "source": [
    "#!pip install unidecode"
   ]
  },
  {
   "cell_type": "code",
   "execution_count": 1,
   "id": "34d575f7-5c8f-4ff9-b9f0-79f183424225",
   "metadata": {},
   "outputs": [
    {
     "name": "stdout",
     "output_type": "stream",
     "text": [
      "data_tools importé !\n",
      "conversion_tools importé !\n",
      "scraping_marmiton importé ! \n",
      "scrapping_ciqual importé !\n"
     ]
    }
   ],
   "source": [
    "import main"
   ]
  },
  {
   "cell_type": "code",
   "execution_count": 2,
   "id": "3080ad02-364e-40c1-ad8c-71713fa0aaad",
   "metadata": {},
   "outputs": [],
   "source": [
    "from main import merge\n",
    "from scrapping.scrapping_marmiton import find_all_recipes\n",
    "from scrapping.scrapping_ciqual import nutrition"
   ]
  },
  {
   "cell_type": "code",
   "execution_count": 3,
   "id": "f8751633-650f-457b-9633-4452aa9dc085",
   "metadata": {},
   "outputs": [
    {
     "data": {
      "application/vnd.jupyter.widget-view+json": {
       "model_id": "065f78bc27dd4a50885cdd276376e9b7",
       "version_major": 2,
       "version_minor": 0
      },
      "text/plain": [
       "  0%|          | 0/5 [00:00<?, ?it/s]"
      ]
     },
     "metadata": {},
     "output_type": "display_data"
    }
   ],
   "source": [
    "recipes = find_all_recipes(\"végétarien\", 5)"
   ]
  },
  {
   "cell_type": "code",
   "execution_count": 4,
   "id": "9633c3ed-a0b2-428e-ab12-d01e330fc113",
   "metadata": {},
   "outputs": [],
   "source": [
    "nutritions = nutrition(recipes)"
   ]
  },
  {
   "cell_type": "code",
   "execution_count": 8,
   "id": "df07eaf6-76d7-4a02-83eb-760175975c33",
   "metadata": {},
   "outputs": [
    {
     "data": {
      "text/html": [
       "<div>\n",
       "<style scoped>\n",
       "    .dataframe tbody tr th:only-of-type {\n",
       "        vertical-align: middle;\n",
       "    }\n",
       "\n",
       "    .dataframe tbody tr th {\n",
       "        vertical-align: top;\n",
       "    }\n",
       "\n",
       "    .dataframe thead th {\n",
       "        text-align: right;\n",
       "    }\n",
       "</style>\n",
       "<table border=\"1\" class=\"dataframe\">\n",
       "  <thead>\n",
       "    <tr style=\"text-align: right;\">\n",
       "      <th>Nutriment</th>\n",
       "      <th>Nom recette</th>\n",
       "      <th>Ingrédient</th>\n",
       "      <th>Quantité</th>\n",
       "      <th>AG saturés (g/100 g)</th>\n",
       "      <th>Energie, Règlement UE N° 1169/2011 (kJ/100 g)</th>\n",
       "      <th>Energie, Règlement UE N° 1169/2011 (kcal/100 g)</th>\n",
       "      <th>Glucides (g/100 g)</th>\n",
       "      <th>Lipides (g/100 g)</th>\n",
       "      <th>Protéines, N x 6.25 (g/100 g)</th>\n",
       "      <th>Sel chlorure de sodium (g/100 g)</th>\n",
       "      <th>Sucres (g/100 g)</th>\n",
       "    </tr>\n",
       "  </thead>\n",
       "  <tbody>\n",
       "    <tr>\n",
       "      <th>0</th>\n",
       "      <td>Curry de légumes végétarien</td>\n",
       "      <td>ail</td>\n",
       "      <td>7.5</td>\n",
       "      <td>1.5000</td>\n",
       "      <td>10950.00</td>\n",
       "      <td>2580.00</td>\n",
       "      <td>471.000</td>\n",
       "      <td>5.775</td>\n",
       "      <td>125.25</td>\n",
       "      <td>0.8250</td>\n",
       "      <td>18.225</td>\n",
       "    </tr>\n",
       "    <tr>\n",
       "      <th>1</th>\n",
       "      <td>Curry de légumes végétarien</td>\n",
       "      <td>basilic</td>\n",
       "      <td>2.0</td>\n",
       "      <td>0.2600</td>\n",
       "      <td>290.00</td>\n",
       "      <td>69.60</td>\n",
       "      <td>5.100</td>\n",
       "      <td>0.940</td>\n",
       "      <td>6.70</td>\n",
       "      <td>0.0560</td>\n",
       "      <td>0.740</td>\n",
       "    </tr>\n",
       "    <tr>\n",
       "      <th>2</th>\n",
       "      <td>Curry de légumes végétarien</td>\n",
       "      <td>carotte</td>\n",
       "      <td>100.0</td>\n",
       "      <td>1.9000</td>\n",
       "      <td>7880.00</td>\n",
       "      <td>1890.00</td>\n",
       "      <td>260.000</td>\n",
       "      <td>10.000</td>\n",
       "      <td>55.00</td>\n",
       "      <td>5.1000</td>\n",
       "      <td>130.000</td>\n",
       "    </tr>\n",
       "    <tr>\n",
       "      <th>3</th>\n",
       "      <td>Curry de légumes végétarien</td>\n",
       "      <td>citron vert</td>\n",
       "      <td>2.0</td>\n",
       "      <td>0.0000</td>\n",
       "      <td>340.00</td>\n",
       "      <td>80.40</td>\n",
       "      <td>6.280</td>\n",
       "      <td>0.000</td>\n",
       "      <td>2.26</td>\n",
       "      <td>0.0300</td>\n",
       "      <td>4.200</td>\n",
       "    </tr>\n",
       "    <tr>\n",
       "      <th>4</th>\n",
       "      <td>Curry de légumes végétarien</td>\n",
       "      <td>concentre de tomate</td>\n",
       "      <td>7.5</td>\n",
       "      <td>0.6975</td>\n",
       "      <td>3142.50</td>\n",
       "      <td>744.00</td>\n",
       "      <td>128.250</td>\n",
       "      <td>3.975</td>\n",
       "      <td>33.00</td>\n",
       "      <td>2.0250</td>\n",
       "      <td>99.750</td>\n",
       "    </tr>\n",
       "    <tr>\n",
       "      <th>...</th>\n",
       "      <td>...</td>\n",
       "      <td>...</td>\n",
       "      <td>...</td>\n",
       "      <td>...</td>\n",
       "      <td>...</td>\n",
       "      <td>...</td>\n",
       "      <td>...</td>\n",
       "      <td>...</td>\n",
       "      <td>...</td>\n",
       "      <td>...</td>\n",
       "      <td>...</td>\n",
       "    </tr>\n",
       "    <tr>\n",
       "      <th>57</th>\n",
       "      <td>Tourte de Noël végétarienne de Coralie</td>\n",
       "      <td>pate feuilletee</td>\n",
       "      <td>40.0</td>\n",
       "      <td>636.0000</td>\n",
       "      <td>88800.00</td>\n",
       "      <td>21240.00</td>\n",
       "      <td>2164.000</td>\n",
       "      <td>1240.000</td>\n",
       "      <td>315.20</td>\n",
       "      <td>62.8000</td>\n",
       "      <td>12.000</td>\n",
       "    </tr>\n",
       "    <tr>\n",
       "      <th>58</th>\n",
       "      <td>Tourte de Noël végétarienne de Coralie</td>\n",
       "      <td>sucre en poudre</td>\n",
       "      <td>0.5</td>\n",
       "      <td>6.5500</td>\n",
       "      <td>1210.00</td>\n",
       "      <td>291.00</td>\n",
       "      <td>1.555</td>\n",
       "      <td>21.000</td>\n",
       "      <td>23.95</td>\n",
       "      <td>0.6250</td>\n",
       "      <td>0.150</td>\n",
       "    </tr>\n",
       "    <tr>\n",
       "      <th>59</th>\n",
       "      <td>Tourte de Noël végétarienne de Coralie</td>\n",
       "      <td>thym</td>\n",
       "      <td>0.5</td>\n",
       "      <td>0.2350</td>\n",
       "      <td>223.00</td>\n",
       "      <td>53.50</td>\n",
       "      <td>5.250</td>\n",
       "      <td>0.840</td>\n",
       "      <td>2.78</td>\n",
       "      <td>0.0115</td>\n",
       "      <td>NaN</td>\n",
       "    </tr>\n",
       "    <tr>\n",
       "      <th>60</th>\n",
       "      <td>Tourte de Noël végétarienne de Coralie</td>\n",
       "      <td>tomate</td>\n",
       "      <td>12.5</td>\n",
       "      <td>0.0000</td>\n",
       "      <td>1053.75</td>\n",
       "      <td>251.25</td>\n",
       "      <td>37.875</td>\n",
       "      <td>0.000</td>\n",
       "      <td>6.25</td>\n",
       "      <td>0.0000</td>\n",
       "      <td>32.500</td>\n",
       "    </tr>\n",
       "    <tr>\n",
       "      <th>61</th>\n",
       "      <td>Tourte de Noël végétarienne de Coralie</td>\n",
       "      <td>vinaigre balsamique</td>\n",
       "      <td>3.0</td>\n",
       "      <td>0.0000</td>\n",
       "      <td>1593.00</td>\n",
       "      <td>375.00</td>\n",
       "      <td>77.400</td>\n",
       "      <td>0.000</td>\n",
       "      <td>2.07</td>\n",
       "      <td>0.2040</td>\n",
       "      <td>57.300</td>\n",
       "    </tr>\n",
       "  </tbody>\n",
       "</table>\n",
       "<p>62 rows × 11 columns</p>\n",
       "</div>"
      ],
      "text/plain": [
       "Nutriment                             Nom recette           Ingrédient  \\\n",
       "0                     Curry de légumes végétarien                  ail   \n",
       "1                     Curry de légumes végétarien              basilic   \n",
       "2                     Curry de légumes végétarien              carotte   \n",
       "3                     Curry de légumes végétarien          citron vert   \n",
       "4                     Curry de légumes végétarien  concentre de tomate   \n",
       "..                                            ...                  ...   \n",
       "57         Tourte de Noël végétarienne de Coralie      pate feuilletee   \n",
       "58         Tourte de Noël végétarienne de Coralie      sucre en poudre   \n",
       "59         Tourte de Noël végétarienne de Coralie                 thym   \n",
       "60         Tourte de Noël végétarienne de Coralie               tomate   \n",
       "61         Tourte de Noël végétarienne de Coralie  vinaigre balsamique   \n",
       "\n",
       "Nutriment  Quantité  AG saturés (g/100 g)  \\\n",
       "0               7.5                1.5000   \n",
       "1               2.0                0.2600   \n",
       "2             100.0                1.9000   \n",
       "3               2.0                0.0000   \n",
       "4               7.5                0.6975   \n",
       "..              ...                   ...   \n",
       "57             40.0              636.0000   \n",
       "58              0.5                6.5500   \n",
       "59              0.5                0.2350   \n",
       "60             12.5                0.0000   \n",
       "61              3.0                0.0000   \n",
       "\n",
       "Nutriment  Energie, Règlement UE N° 1169/2011 (kJ/100 g)  \\\n",
       "0                                               10950.00   \n",
       "1                                                 290.00   \n",
       "2                                                7880.00   \n",
       "3                                                 340.00   \n",
       "4                                                3142.50   \n",
       "..                                                   ...   \n",
       "57                                              88800.00   \n",
       "58                                               1210.00   \n",
       "59                                                223.00   \n",
       "60                                               1053.75   \n",
       "61                                               1593.00   \n",
       "\n",
       "Nutriment  Energie, Règlement UE N° 1169/2011 (kcal/100 g)  \\\n",
       "0                                                  2580.00   \n",
       "1                                                    69.60   \n",
       "2                                                  1890.00   \n",
       "3                                                    80.40   \n",
       "4                                                   744.00   \n",
       "..                                                     ...   \n",
       "57                                                21240.00   \n",
       "58                                                  291.00   \n",
       "59                                                   53.50   \n",
       "60                                                  251.25   \n",
       "61                                                  375.00   \n",
       "\n",
       "Nutriment  Glucides (g/100 g)  Lipides (g/100 g)  \\\n",
       "0                     471.000              5.775   \n",
       "1                       5.100              0.940   \n",
       "2                     260.000             10.000   \n",
       "3                       6.280              0.000   \n",
       "4                     128.250              3.975   \n",
       "..                        ...                ...   \n",
       "57                   2164.000           1240.000   \n",
       "58                      1.555             21.000   \n",
       "59                      5.250              0.840   \n",
       "60                     37.875              0.000   \n",
       "61                     77.400              0.000   \n",
       "\n",
       "Nutriment  Protéines, N x 6.25 (g/100 g)  Sel chlorure de sodium (g/100 g)  \\\n",
       "0                                 125.25                            0.8250   \n",
       "1                                   6.70                            0.0560   \n",
       "2                                  55.00                            5.1000   \n",
       "3                                   2.26                            0.0300   \n",
       "4                                  33.00                            2.0250   \n",
       "..                                   ...                               ...   \n",
       "57                                315.20                           62.8000   \n",
       "58                                 23.95                            0.6250   \n",
       "59                                  2.78                            0.0115   \n",
       "60                                  6.25                            0.0000   \n",
       "61                                  2.07                            0.2040   \n",
       "\n",
       "Nutriment  Sucres (g/100 g)  \n",
       "0                    18.225  \n",
       "1                     0.740  \n",
       "2                   130.000  \n",
       "3                     4.200  \n",
       "4                    99.750  \n",
       "..                      ...  \n",
       "57                   12.000  \n",
       "58                    0.150  \n",
       "59                      NaN  \n",
       "60                   32.500  \n",
       "61                   57.300  \n",
       "\n",
       "[62 rows x 11 columns]"
      ]
     },
     "execution_count": 8,
     "metadata": {},
     "output_type": "execute_result"
    }
   ],
   "source": [
    "result = merge(recipes, nutritions)\n",
    "result"
   ]
  },
  {
   "cell_type": "code",
   "execution_count": 9,
   "id": "32b9516e-d822-4c13-9941-3893a7f4ceaf",
   "metadata": {},
   "outputs": [],
   "source": [
    "import plotly.express as px"
   ]
  },
  {
   "cell_type": "code",
   "execution_count": 21,
   "id": "618f6ab1-c680-4ab5-a06e-e346279ca512",
   "metadata": {},
   "outputs": [
    {
     "data": {
      "application/vnd.plotly.v1+json": {
       "config": {
        "plotlyServerURL": "https://plot.ly"
       },
       "data": [
        {
         "alignmentgroup": "True",
         "hovertemplate": "Ingrédient=ail<br>Nom recette=%{x}<br>AG saturés (g/100 g)=%{y}<extra></extra>",
         "legendgroup": "ail",
         "marker": {
          "color": "#636efa",
          "pattern": {
           "shape": ""
          }
         },
         "name": "ail",
         "offsetgroup": "ail",
         "orientation": "v",
         "showlegend": true,
         "textposition": "auto",
         "type": "bar",
         "x": [
          "Curry de légumes végétarien",
          "Hachis parmentier végétarien",
          "Tourte de Noël végétarienne de Coralie"
         ],
         "xaxis": "x",
         "y": [
          1.5,
          0.5,
          4.800000000000001
         ],
         "yaxis": "y"
        },
        {
         "alignmentgroup": "True",
         "hovertemplate": "Ingrédient=basilic<br>Nom recette=%{x}<br>AG saturés (g/100 g)=%{y}<extra></extra>",
         "legendgroup": "basilic",
         "marker": {
          "color": "#EF553B",
          "pattern": {
           "shape": ""
          }
         },
         "name": "basilic",
         "offsetgroup": "basilic",
         "orientation": "v",
         "showlegend": true,
         "textposition": "auto",
         "type": "bar",
         "x": [
          "Curry de légumes végétarien"
         ],
         "xaxis": "x",
         "y": [
          0.26
         ],
         "yaxis": "y"
        },
        {
         "alignmentgroup": "True",
         "hovertemplate": "Ingrédient=carotte<br>Nom recette=%{x}<br>AG saturés (g/100 g)=%{y}<extra></extra>",
         "legendgroup": "carotte",
         "marker": {
          "color": "#00cc96",
          "pattern": {
           "shape": ""
          }
         },
         "name": "carotte",
         "offsetgroup": "carotte",
         "orientation": "v",
         "showlegend": true,
         "textposition": "auto",
         "type": "bar",
         "x": [
          "Curry de légumes végétarien",
          "Hachis parmentier végétarien"
         ],
         "xaxis": "x",
         "y": [
          1.9,
          1.78125
         ],
         "yaxis": "y"
        },
        {
         "alignmentgroup": "True",
         "hovertemplate": "Ingrédient=citron vert<br>Nom recette=%{x}<br>AG saturés (g/100 g)=%{y}<extra></extra>",
         "legendgroup": "citron vert",
         "marker": {
          "color": "#ab63fa",
          "pattern": {
           "shape": ""
          }
         },
         "name": "citron vert",
         "offsetgroup": "citron vert",
         "orientation": "v",
         "showlegend": true,
         "textposition": "auto",
         "type": "bar",
         "x": [
          "Curry de légumes végétarien"
         ],
         "xaxis": "x",
         "y": [
          0
         ],
         "yaxis": "y"
        },
        {
         "alignmentgroup": "True",
         "hovertemplate": "Ingrédient=concentre de tomate<br>Nom recette=%{x}<br>AG saturés (g/100 g)=%{y}<extra></extra>",
         "legendgroup": "concentre de tomate",
         "marker": {
          "color": "#FFA15A",
          "pattern": {
           "shape": ""
          }
         },
         "name": "concentre de tomate",
         "offsetgroup": "concentre de tomate",
         "orientation": "v",
         "showlegend": true,
         "textposition": "auto",
         "type": "bar",
         "x": [
          "Curry de légumes végétarien"
         ],
         "xaxis": "x",
         "y": [
          0.6975
         ],
         "yaxis": "y"
        },
        {
         "alignmentgroup": "True",
         "hovertemplate": "Ingrédient=courgette<br>Nom recette=%{x}<br>AG saturés (g/100 g)=%{y}<extra></extra>",
         "legendgroup": "courgette",
         "marker": {
          "color": "#19d3f3",
          "pattern": {
           "shape": ""
          }
         },
         "name": "courgette",
         "offsetgroup": "courgette",
         "orientation": "v",
         "showlegend": true,
         "textposition": "auto",
         "type": "bar",
         "x": [
          "Curry de légumes végétarien",
          "Lasagnes végétariennes (facile)"
         ],
         "xaxis": "x",
         "y": [
          10,
          20
         ],
         "yaxis": "y"
        },
        {
         "alignmentgroup": "True",
         "hovertemplate": "Ingrédient=creme de coco<br>Nom recette=%{x}<br>AG saturés (g/100 g)=%{y}<extra></extra>",
         "legendgroup": "creme de coco",
         "marker": {
          "color": "#FF6692",
          "pattern": {
           "shape": ""
          }
         },
         "name": "creme de coco",
         "offsetgroup": "creme de coco",
         "orientation": "v",
         "showlegend": true,
         "textposition": "auto",
         "type": "bar",
         "x": [
          "Curry de légumes végétarien"
         ],
         "xaxis": "x",
         "y": [
          1237.5
         ],
         "yaxis": "y"
        },
        {
         "alignmentgroup": "True",
         "hovertemplate": "Ingrédient=cumin<br>Nom recette=%{x}<br>AG saturés (g/100 g)=%{y}<extra></extra>",
         "legendgroup": "cumin",
         "marker": {
          "color": "#B6E880",
          "pattern": {
           "shape": ""
          }
         },
         "name": "cumin",
         "offsetgroup": "cumin",
         "orientation": "v",
         "showlegend": true,
         "textposition": "auto",
         "type": "bar",
         "x": [
          "Curry de légumes végétarien"
         ],
         "xaxis": "x",
         "y": [
          2.8875
         ],
         "yaxis": "y"
        },
        {
         "alignmentgroup": "True",
         "hovertemplate": "Ingrédient=echalote<br>Nom recette=%{x}<br>AG saturés (g/100 g)=%{y}<extra></extra>",
         "legendgroup": "echalote",
         "marker": {
          "color": "#FF97FF",
          "pattern": {
           "shape": ""
          }
         },
         "name": "echalote",
         "offsetgroup": "echalote",
         "orientation": "v",
         "showlegend": true,
         "textposition": "auto",
         "type": "bar",
         "x": [
          "Curry de légumes végétarien",
          "Tourte de Noël végétarienne de Coralie"
         ],
         "xaxis": "x",
         "y": [
          3.5999999999999996,
          0.96
         ],
         "yaxis": "y"
        },
        {
         "alignmentgroup": "True",
         "hovertemplate": "Ingrédient=patate douce<br>Nom recette=%{x}<br>AG saturés (g/100 g)=%{y}<extra></extra>",
         "legendgroup": "patate douce",
         "marker": {
          "color": "#FECB52",
          "pattern": {
           "shape": ""
          }
         },
         "name": "patate douce",
         "offsetgroup": "patate douce",
         "orientation": "v",
         "showlegend": true,
         "textposition": "auto",
         "type": "bar",
         "x": [
          "Curry de légumes végétarien"
         ],
         "xaxis": "x",
         "y": [
          2.1
         ],
         "yaxis": "y"
        },
        {
         "alignmentgroup": "True",
         "hovertemplate": "Ingrédient=pate de curry<br>Nom recette=%{x}<br>AG saturés (g/100 g)=%{y}<extra></extra>",
         "legendgroup": "pate de curry",
         "marker": {
          "color": "#636efa",
          "pattern": {
           "shape": ""
          }
         },
         "name": "pate de curry",
         "offsetgroup": "pate de curry",
         "orientation": "v",
         "showlegend": true,
         "textposition": "auto",
         "type": "bar",
         "x": [
          "Curry de légumes végétarien"
         ],
         "xaxis": "x",
         "y": [
          20.625
         ],
         "yaxis": "y"
        },
        {
         "alignmentgroup": "True",
         "hovertemplate": "Ingrédient=petit piment<br>Nom recette=%{x}<br>AG saturés (g/100 g)=%{y}<extra></extra>",
         "legendgroup": "petit piment",
         "marker": {
          "color": "#EF553B",
          "pattern": {
           "shape": ""
          }
         },
         "name": "petit piment",
         "offsetgroup": "petit piment",
         "orientation": "v",
         "showlegend": true,
         "textposition": "auto",
         "type": "bar",
         "x": [
          "Curry de légumes végétarien"
         ],
         "xaxis": "x",
         "y": [
          0.23249999999999998
         ],
         "yaxis": "y"
        },
        {
         "alignmentgroup": "True",
         "hovertemplate": "Ingrédient=poivre<br>Nom recette=%{x}<br>AG saturés (g/100 g)=%{y}<extra></extra>",
         "legendgroup": "poivre",
         "marker": {
          "color": "#00cc96",
          "pattern": {
           "shape": ""
          }
         },
         "name": "poivre",
         "offsetgroup": "poivre",
         "orientation": "v",
         "showlegend": true,
         "textposition": "auto",
         "type": "bar",
         "x": [
          "Curry de légumes végétarien",
          "Lasagnes végétariennes (facile)"
         ],
         "xaxis": "x",
         "y": [
          5.8,
          5.8
         ],
         "yaxis": "y"
        },
        {
         "alignmentgroup": "True",
         "hovertemplate": "Ingrédient=sel<br>Nom recette=%{x}<br>AG saturés (g/100 g)=%{y}<extra></extra>",
         "legendgroup": "sel",
         "marker": {
          "color": "#ab63fa",
          "pattern": {
           "shape": ""
          }
         },
         "name": "sel",
         "offsetgroup": "sel",
         "orientation": "v",
         "showlegend": true,
         "textposition": "auto",
         "type": "bar",
         "x": [
          "Curry de légumes végétarien",
          "Lasagnes végétariennes (facile)"
         ],
         "xaxis": "x",
         "y": [
          null,
          null
         ],
         "yaxis": "y"
        },
        {
         "alignmentgroup": "True",
         "hovertemplate": "Ingrédient=celeri<br>Nom recette=%{x}<br>AG saturés (g/100 g)=%{y}<extra></extra>",
         "legendgroup": "celeri",
         "marker": {
          "color": "#FFA15A",
          "pattern": {
           "shape": ""
          }
         },
         "name": "celeri",
         "offsetgroup": "celeri",
         "orientation": "v",
         "showlegend": true,
         "textposition": "auto",
         "type": "bar",
         "x": [
          "Hachis parmentier végétarien"
         ],
         "xaxis": "x",
         "y": [
          null
         ],
         "yaxis": "y"
        },
        {
         "alignmentgroup": "True",
         "hovertemplate": "Ingrédient=huile d'olive<br>Nom recette=%{x}<br>AG saturés (g/100 g)=%{y}<extra></extra>",
         "legendgroup": "huile d'olive",
         "marker": {
          "color": "#19d3f3",
          "pattern": {
           "shape": ""
          }
         },
         "name": "huile d'olive",
         "offsetgroup": "huile d'olive",
         "orientation": "v",
         "showlegend": true,
         "textposition": "auto",
         "type": "bar",
         "x": [
          "Hachis parmentier végétarien",
          "Tourte de Noël végétarienne de Coralie"
         ],
         "xaxis": "x",
         "y": [
          114,
          45.599999999999994
         ],
         "yaxis": "y"
        },
        {
         "alignmentgroup": "True",
         "hovertemplate": "Ingrédient=navet<br>Nom recette=%{x}<br>AG saturés (g/100 g)=%{y}<extra></extra>",
         "legendgroup": "navet",
         "marker": {
          "color": "#FF6692",
          "pattern": {
           "shape": ""
          }
         },
         "name": "navet",
         "offsetgroup": "navet",
         "orientation": "v",
         "showlegend": true,
         "textposition": "auto",
         "type": "bar",
         "x": [
          "Hachis parmentier végétarien"
         ],
         "xaxis": "x",
         "y": [
          0.5
         ],
         "yaxis": "y"
        },
        {
         "alignmentgroup": "True",
         "hovertemplate": "Ingrédient=oignon<br>Nom recette=%{x}<br>AG saturés (g/100 g)=%{y}<extra></extra>",
         "legendgroup": "oignon",
         "marker": {
          "color": "#B6E880",
          "pattern": {
           "shape": ""
          }
         },
         "name": "oignon",
         "offsetgroup": "oignon",
         "orientation": "v",
         "showlegend": true,
         "textposition": "auto",
         "type": "bar",
         "x": [
          "Hachis parmentier végétarien",
          "Hamburger Végétarien ",
          "Lasagnes végétariennes (facile)"
         ],
         "xaxis": "x",
         "y": [
          0,
          0,
          0
         ],
         "yaxis": "y"
        },
        {
         "alignmentgroup": "True",
         "hovertemplate": "Ingrédient=pain de mie<br>Nom recette=%{x}<br>AG saturés (g/100 g)=%{y}<extra></extra>",
         "legendgroup": "pain de mie",
         "marker": {
          "color": "#FF97FF",
          "pattern": {
           "shape": ""
          }
         },
         "name": "pain de mie",
         "offsetgroup": "pain de mie",
         "orientation": "v",
         "showlegend": true,
         "textposition": "auto",
         "type": "bar",
         "x": [
          "Hachis parmentier végétarien"
         ],
         "xaxis": "x",
         "y": [
          0.8
         ],
         "yaxis": "y"
        },
        {
         "alignmentgroup": "True",
         "hovertemplate": "Ingrédient=persil<br>Nom recette=%{x}<br>AG saturés (g/100 g)=%{y}<extra></extra>",
         "legendgroup": "persil",
         "marker": {
          "color": "#FECB52",
          "pattern": {
           "shape": ""
          }
         },
         "name": "persil",
         "offsetgroup": "persil",
         "orientation": "v",
         "showlegend": true,
         "textposition": "auto",
         "type": "bar",
         "x": [
          "Hachis parmentier végétarien"
         ],
         "xaxis": "x",
         "y": [
          0.5
         ],
         "yaxis": "y"
        },
        {
         "alignmentgroup": "True",
         "hovertemplate": "Ingrédient=poireau<br>Nom recette=%{x}<br>AG saturés (g/100 g)=%{y}<extra></extra>",
         "legendgroup": "poireau",
         "marker": {
          "color": "#636efa",
          "pattern": {
           "shape": ""
          }
         },
         "name": "poireau",
         "offsetgroup": "poireau",
         "orientation": "v",
         "showlegend": true,
         "textposition": "auto",
         "type": "bar",
         "x": [
          "Hachis parmentier végétarien"
         ],
         "xaxis": "x",
         "y": [
          0
         ],
         "yaxis": "y"
        },
        {
         "alignmentgroup": "True",
         "hovertemplate": "Ingrédient=pommes de terre<br>Nom recette=%{x}<br>AG saturés (g/100 g)=%{y}<extra></extra>",
         "legendgroup": "pommes de terre",
         "marker": {
          "color": "#EF553B",
          "pattern": {
           "shape": ""
          }
         },
         "name": "pommes de terre",
         "offsetgroup": "pommes de terre",
         "orientation": "v",
         "showlegend": true,
         "textposition": "auto",
         "type": "bar",
         "x": [
          "Hachis parmentier végétarien"
         ],
         "xaxis": "x",
         "y": [
          4.55
         ],
         "yaxis": "y"
        },
        {
         "alignmentgroup": "True",
         "hovertemplate": "Ingrédient=sauce soja<br>Nom recette=%{x}<br>AG saturés (g/100 g)=%{y}<extra></extra>",
         "legendgroup": "sauce soja",
         "marker": {
          "color": "#00cc96",
          "pattern": {
           "shape": ""
          }
         },
         "name": "sauce soja",
         "offsetgroup": "sauce soja",
         "orientation": "v",
         "showlegend": true,
         "textposition": "auto",
         "type": "bar",
         "x": [
          "Hachis parmentier végétarien"
         ],
         "xaxis": "x",
         "y": [
          0.010625
         ],
         "yaxis": "y"
        },
        {
         "alignmentgroup": "True",
         "hovertemplate": "Ingrédient=chapelure<br>Nom recette=%{x}<br>AG saturés (g/100 g)=%{y}<extra></extra>",
         "legendgroup": "chapelure",
         "marker": {
          "color": "#ab63fa",
          "pattern": {
           "shape": ""
          }
         },
         "name": "chapelure",
         "offsetgroup": "chapelure",
         "orientation": "v",
         "showlegend": true,
         "textposition": "auto",
         "type": "bar",
         "x": [
          "Hamburger Végétarien "
         ],
         "xaxis": "x",
         "y": [
          1.88
         ],
         "yaxis": "y"
        },
        {
         "alignmentgroup": "True",
         "hovertemplate": "Ingrédient=cornichon<br>Nom recette=%{x}<br>AG saturés (g/100 g)=%{y}<extra></extra>",
         "legendgroup": "cornichon",
         "marker": {
          "color": "#FFA15A",
          "pattern": {
           "shape": ""
          }
         },
         "name": "cornichon",
         "offsetgroup": "cornichon",
         "orientation": "v",
         "showlegend": true,
         "textposition": "auto",
         "type": "bar",
         "x": [
          "Hamburger Végétarien "
         ],
         "xaxis": "x",
         "y": [
          0
         ],
         "yaxis": "y"
        },
        {
         "alignmentgroup": "True",
         "hovertemplate": "Ingrédient=epice<br>Nom recette=%{x}<br>AG saturés (g/100 g)=%{y}<extra></extra>",
         "legendgroup": "epice",
         "marker": {
          "color": "#19d3f3",
          "pattern": {
           "shape": ""
          }
         },
         "name": "epice",
         "offsetgroup": "epice",
         "orientation": "v",
         "showlegend": true,
         "textposition": "auto",
         "type": "bar",
         "x": [
          "Hamburger Végétarien "
         ],
         "xaxis": "x",
         "y": [
          9.68
         ],
         "yaxis": "y"
        },
        {
         "alignmentgroup": "True",
         "hovertemplate": "Ingrédient=farine<br>Nom recette=%{x}<br>AG saturés (g/100 g)=%{y}<extra></extra>",
         "legendgroup": "farine",
         "marker": {
          "color": "#FF6692",
          "pattern": {
           "shape": ""
          }
         },
         "name": "farine",
         "offsetgroup": "farine",
         "orientation": "v",
         "showlegend": true,
         "textposition": "auto",
         "type": "bar",
         "x": [
          "Hamburger Végétarien "
         ],
         "xaxis": "x",
         "y": [
          0.78
         ],
         "yaxis": "y"
        },
        {
         "alignmentgroup": "True",
         "hovertemplate": "Ingrédient=mayonnaise<br>Nom recette=%{x}<br>AG saturés (g/100 g)=%{y}<extra></extra>",
         "legendgroup": "mayonnaise",
         "marker": {
          "color": "#B6E880",
          "pattern": {
           "shape": ""
          }
         },
         "name": "mayonnaise",
         "offsetgroup": "mayonnaise",
         "orientation": "v",
         "showlegend": true,
         "textposition": "auto",
         "type": "bar",
         "x": [
          "Hamburger Végétarien "
         ],
         "xaxis": "x",
         "y": [
          14.54
         ],
         "yaxis": "y"
        },
        {
         "alignmentgroup": "True",
         "hovertemplate": "Ingrédient=oeuf<br>Nom recette=%{x}<br>AG saturés (g/100 g)=%{y}<extra></extra>",
         "legendgroup": "oeuf",
         "marker": {
          "color": "#FF97FF",
          "pattern": {
           "shape": ""
          }
         },
         "name": "oeuf",
         "offsetgroup": "oeuf",
         "orientation": "v",
         "showlegend": true,
         "textposition": "auto",
         "type": "bar",
         "x": [
          "Hamburger Végétarien ",
          "Tourte de Noël végétarienne de Coralie"
         ],
         "xaxis": "x",
         "y": [
          32.89,
          16.445
         ],
         "yaxis": "y"
        },
        {
         "alignmentgroup": "True",
         "hovertemplate": "Ingrédient=pains pour hamburger<br>Nom recette=%{x}<br>AG saturés (g/100 g)=%{y}<extra></extra>",
         "legendgroup": "pains pour hamburger",
         "marker": {
          "color": "#FECB52",
          "pattern": {
           "shape": ""
          }
         },
         "name": "pains pour hamburger",
         "offsetgroup": "pains pour hamburger",
         "orientation": "v",
         "showlegend": true,
         "textposition": "auto",
         "type": "bar",
         "x": [
          "Hamburger Végétarien "
         ],
         "xaxis": "x",
         "y": [
          84.48
         ],
         "yaxis": "y"
        },
        {
         "alignmentgroup": "True",
         "hovertemplate": "Ingrédient=salade<br>Nom recette=%{x}<br>AG saturés (g/100 g)=%{y}<extra></extra>",
         "legendgroup": "salade",
         "marker": {
          "color": "#636efa",
          "pattern": {
           "shape": ""
          }
         },
         "name": "salade",
         "offsetgroup": "salade",
         "orientation": "v",
         "showlegend": true,
         "textposition": "auto",
         "type": "bar",
         "x": [
          "Hamburger Végétarien "
         ],
         "xaxis": "x",
         "y": [
          0
         ],
         "yaxis": "y"
        },
        {
         "alignmentgroup": "True",
         "hovertemplate": "Ingrédient=toastinette<br>Nom recette=%{x}<br>AG saturés (g/100 g)=%{y}<extra></extra>",
         "legendgroup": "toastinette",
         "marker": {
          "color": "#EF553B",
          "pattern": {
           "shape": ""
          }
         },
         "name": "toastinette",
         "offsetgroup": "toastinette",
         "orientation": "v",
         "showlegend": true,
         "textposition": "auto",
         "type": "bar",
         "x": [
          "Hamburger Végétarien "
         ],
         "xaxis": "x",
         "y": [
          314.88000000000005
         ],
         "yaxis": "y"
        },
        {
         "alignmentgroup": "True",
         "hovertemplate": "Ingrédient=basilic frais<br>Nom recette=%{x}<br>AG saturés (g/100 g)=%{y}<extra></extra>",
         "legendgroup": "basilic frais",
         "marker": {
          "color": "#00cc96",
          "pattern": {
           "shape": ""
          }
         },
         "name": "basilic frais",
         "offsetgroup": "basilic frais",
         "orientation": "v",
         "showlegend": true,
         "textposition": "auto",
         "type": "bar",
         "x": [
          "Lasagnes végétariennes (facile)"
         ],
         "xaxis": "x",
         "y": [
          0.26
         ],
         "yaxis": "y"
        },
        {
         "alignmentgroup": "True",
         "hovertemplate": "Ingrédient=bechamel<br>Nom recette=%{x}<br>AG saturés (g/100 g)=%{y}<extra></extra>",
         "legendgroup": "bechamel",
         "marker": {
          "color": "#ab63fa",
          "pattern": {
           "shape": ""
          }
         },
         "name": "bechamel",
         "offsetgroup": "bechamel",
         "orientation": "v",
         "showlegend": true,
         "textposition": "auto",
         "type": "bar",
         "x": [
          "Lasagnes végétariennes (facile)"
         ],
         "xaxis": "x",
         "y": [
          576.25
         ],
         "yaxis": "y"
        },
        {
         "alignmentgroup": "True",
         "hovertemplate": "Ingrédient=coulis de tomate<br>Nom recette=%{x}<br>AG saturés (g/100 g)=%{y}<extra></extra>",
         "legendgroup": "coulis de tomate",
         "marker": {
          "color": "#FFA15A",
          "pattern": {
           "shape": ""
          }
         },
         "name": "coulis de tomate",
         "offsetgroup": "coulis de tomate",
         "orientation": "v",
         "showlegend": true,
         "textposition": "auto",
         "type": "bar",
         "x": [
          "Lasagnes végétariennes (facile)"
         ],
         "xaxis": "x",
         "y": [
          4
         ],
         "yaxis": "y"
        },
        {
         "alignmentgroup": "True",
         "hovertemplate": "Ingrédient=gruyere rape<br>Nom recette=%{x}<br>AG saturés (g/100 g)=%{y}<extra></extra>",
         "legendgroup": "gruyere rape",
         "marker": {
          "color": "#19d3f3",
          "pattern": {
           "shape": ""
          }
         },
         "name": "gruyere rape",
         "offsetgroup": "gruyere rape",
         "orientation": "v",
         "showlegend": true,
         "textposition": "auto",
         "type": "bar",
         "x": [
          "Lasagnes végétariennes (facile)"
         ],
         "xaxis": "x",
         "y": [
          1980
         ],
         "yaxis": "y"
        },
        {
         "alignmentgroup": "True",
         "hovertemplate": "Ingrédient=herbes de Provence<br>Nom recette=%{x}<br>AG saturés (g/100 g)=%{y}<extra></extra>",
         "legendgroup": "herbes de Provence",
         "marker": {
          "color": "#FF6692",
          "pattern": {
           "shape": ""
          }
         },
         "name": "herbes de Provence",
         "offsetgroup": "herbes de Provence",
         "orientation": "v",
         "showlegend": true,
         "textposition": "auto",
         "type": "bar",
         "x": [
          "Lasagnes végétariennes (facile)"
         ],
         "xaxis": "x",
         "y": [
          3.76
         ],
         "yaxis": "y"
        },
        {
         "alignmentgroup": "True",
         "hovertemplate": "Ingrédient=lasagne<br>Nom recette=%{x}<br>AG saturés (g/100 g)=%{y}<extra></extra>",
         "legendgroup": "lasagne",
         "marker": {
          "color": "#B6E880",
          "pattern": {
           "shape": ""
          }
         },
         "name": "lasagne",
         "offsetgroup": "lasagne",
         "orientation": "v",
         "showlegend": true,
         "textposition": "auto",
         "type": "bar",
         "x": [
          "Lasagnes végétariennes (facile)"
         ],
         "xaxis": "x",
         "y": [
          10.46
         ],
         "yaxis": "y"
        },
        {
         "alignmentgroup": "True",
         "hovertemplate": "Ingrédient=tomate<br>Nom recette=%{x}<br>AG saturés (g/100 g)=%{y}<extra></extra>",
         "legendgroup": "tomate",
         "marker": {
          "color": "#FF97FF",
          "pattern": {
           "shape": ""
          }
         },
         "name": "tomate",
         "offsetgroup": "tomate",
         "orientation": "v",
         "showlegend": true,
         "textposition": "auto",
         "type": "bar",
         "x": [
          "Lasagnes végétariennes (facile)",
          "Tourte de Noël végétarienne de Coralie"
         ],
         "xaxis": "x",
         "y": [
          0,
          0
         ],
         "yaxis": "y"
        },
        {
         "alignmentgroup": "True",
         "hovertemplate": "Ingrédient=beurre<br>Nom recette=%{x}<br>AG saturés (g/100 g)=%{y}<extra></extra>",
         "legendgroup": "beurre",
         "marker": {
          "color": "#FECB52",
          "pattern": {
           "shape": ""
          }
         },
         "name": "beurre",
         "offsetgroup": "beurre",
         "orientation": "v",
         "showlegend": true,
         "textposition": "auto",
         "type": "bar",
         "x": [
          "Tourte de Noël végétarienne de Coralie"
         ],
         "xaxis": "x",
         "y": [
          110.8
         ],
         "yaxis": "y"
        },
        {
         "alignmentgroup": "True",
         "hovertemplate": "Ingrédient=champignon<br>Nom recette=%{x}<br>AG saturés (g/100 g)=%{y}<extra></extra>",
         "legendgroup": "champignon",
         "marker": {
          "color": "#636efa",
          "pattern": {
           "shape": ""
          }
         },
         "name": "champignon",
         "offsetgroup": "champignon",
         "orientation": "v",
         "showlegend": true,
         "textposition": "auto",
         "type": "bar",
         "x": [
          "Tourte de Noël végétarienne de Coralie"
         ],
         "xaxis": "x",
         "y": [
          1.5125
         ],
         "yaxis": "y"
        },
        {
         "alignmentgroup": "True",
         "hovertemplate": "Ingrédient=epinard<br>Nom recette=%{x}<br>AG saturés (g/100 g)=%{y}<extra></extra>",
         "legendgroup": "epinard",
         "marker": {
          "color": "#EF553B",
          "pattern": {
           "shape": ""
          }
         },
         "name": "epinard",
         "offsetgroup": "epinard",
         "orientation": "v",
         "showlegend": true,
         "textposition": "auto",
         "type": "bar",
         "x": [
          "Tourte de Noël végétarienne de Coralie"
         ],
         "xaxis": "x",
         "y": [
          3.25
         ],
         "yaxis": "y"
        },
        {
         "alignmentgroup": "True",
         "hovertemplate": "Ingrédient=gingembre<br>Nom recette=%{x}<br>AG saturés (g/100 g)=%{y}<extra></extra>",
         "legendgroup": "gingembre",
         "marker": {
          "color": "#00cc96",
          "pattern": {
           "shape": ""
          }
         },
         "name": "gingembre",
         "offsetgroup": "gingembre",
         "orientation": "v",
         "showlegend": true,
         "textposition": "auto",
         "type": "bar",
         "x": [
          "Tourte de Noël végétarienne de Coralie"
         ],
         "xaxis": "x",
         "y": [
          1.3
         ],
         "yaxis": "y"
        },
        {
         "alignmentgroup": "True",
         "hovertemplate": "Ingrédient=madere<br>Nom recette=%{x}<br>AG saturés (g/100 g)=%{y}<extra></extra>",
         "legendgroup": "madere",
         "marker": {
          "color": "#ab63fa",
          "pattern": {
           "shape": ""
          }
         },
         "name": "madere",
         "offsetgroup": "madere",
         "orientation": "v",
         "showlegend": true,
         "textposition": "auto",
         "type": "bar",
         "x": [
          "Tourte de Noël végétarienne de Coralie"
         ],
         "xaxis": "x",
         "y": [
          13.200000000000001
         ],
         "yaxis": "y"
        },
        {
         "alignmentgroup": "True",
         "hovertemplate": "Ingrédient=marron<br>Nom recette=%{x}<br>AG saturés (g/100 g)=%{y}<extra></extra>",
         "legendgroup": "marron",
         "marker": {
          "color": "#FFA15A",
          "pattern": {
           "shape": ""
          }
         },
         "name": "marron",
         "offsetgroup": "marron",
         "orientation": "v",
         "showlegend": true,
         "textposition": "auto",
         "type": "bar",
         "x": [
          "Tourte de Noël végétarienne de Coralie"
         ],
         "xaxis": "x",
         "y": [
          0
         ],
         "yaxis": "y"
        },
        {
         "alignmentgroup": "True",
         "hovertemplate": "Ingrédient=miel<br>Nom recette=%{x}<br>AG saturés (g/100 g)=%{y}<extra></extra>",
         "legendgroup": "miel",
         "marker": {
          "color": "#19d3f3",
          "pattern": {
           "shape": ""
          }
         },
         "name": "miel",
         "offsetgroup": "miel",
         "orientation": "v",
         "showlegend": true,
         "textposition": "auto",
         "type": "bar",
         "x": [
          "Tourte de Noël végétarienne de Coralie"
         ],
         "xaxis": "x",
         "y": [
          0
         ],
         "yaxis": "y"
        },
        {
         "alignmentgroup": "True",
         "hovertemplate": "Ingrédient=pate feuilletee<br>Nom recette=%{x}<br>AG saturés (g/100 g)=%{y}<extra></extra>",
         "legendgroup": "pate feuilletee",
         "marker": {
          "color": "#FF6692",
          "pattern": {
           "shape": ""
          }
         },
         "name": "pate feuilletee",
         "offsetgroup": "pate feuilletee",
         "orientation": "v",
         "showlegend": true,
         "textposition": "auto",
         "type": "bar",
         "x": [
          "Tourte de Noël végétarienne de Coralie"
         ],
         "xaxis": "x",
         "y": [
          636
         ],
         "yaxis": "y"
        },
        {
         "alignmentgroup": "True",
         "hovertemplate": "Ingrédient=sucre en poudre<br>Nom recette=%{x}<br>AG saturés (g/100 g)=%{y}<extra></extra>",
         "legendgroup": "sucre en poudre",
         "marker": {
          "color": "#B6E880",
          "pattern": {
           "shape": ""
          }
         },
         "name": "sucre en poudre",
         "offsetgroup": "sucre en poudre",
         "orientation": "v",
         "showlegend": true,
         "textposition": "auto",
         "type": "bar",
         "x": [
          "Tourte de Noël végétarienne de Coralie"
         ],
         "xaxis": "x",
         "y": [
          6.55
         ],
         "yaxis": "y"
        },
        {
         "alignmentgroup": "True",
         "hovertemplate": "Ingrédient=thym<br>Nom recette=%{x}<br>AG saturés (g/100 g)=%{y}<extra></extra>",
         "legendgroup": "thym",
         "marker": {
          "color": "#FF97FF",
          "pattern": {
           "shape": ""
          }
         },
         "name": "thym",
         "offsetgroup": "thym",
         "orientation": "v",
         "showlegend": true,
         "textposition": "auto",
         "type": "bar",
         "x": [
          "Tourte de Noël végétarienne de Coralie"
         ],
         "xaxis": "x",
         "y": [
          0.235
         ],
         "yaxis": "y"
        },
        {
         "alignmentgroup": "True",
         "hovertemplate": "Ingrédient=vinaigre balsamique<br>Nom recette=%{x}<br>AG saturés (g/100 g)=%{y}<extra></extra>",
         "legendgroup": "vinaigre balsamique",
         "marker": {
          "color": "#FECB52",
          "pattern": {
           "shape": ""
          }
         },
         "name": "vinaigre balsamique",
         "offsetgroup": "vinaigre balsamique",
         "orientation": "v",
         "showlegend": true,
         "textposition": "auto",
         "type": "bar",
         "x": [
          "Tourte de Noël végétarienne de Coralie"
         ],
         "xaxis": "x",
         "y": [
          0
         ],
         "yaxis": "y"
        }
       ],
       "layout": {
        "barmode": "relative",
        "dragmode": "select",
        "height": 500,
        "legend": {
         "title": {
          "text": "Ingrédient"
         },
         "tracegroupgap": 0
        },
        "showlegend": false,
        "template": {
         "data": {
          "bar": [
           {
            "error_x": {
             "color": "#2a3f5f"
            },
            "error_y": {
             "color": "#2a3f5f"
            },
            "marker": {
             "line": {
              "color": "#E5ECF6",
              "width": 0.5
             },
             "pattern": {
              "fillmode": "overlay",
              "size": 10,
              "solidity": 0.2
             }
            },
            "type": "bar"
           }
          ],
          "barpolar": [
           {
            "marker": {
             "line": {
              "color": "#E5ECF6",
              "width": 0.5
             },
             "pattern": {
              "fillmode": "overlay",
              "size": 10,
              "solidity": 0.2
             }
            },
            "type": "barpolar"
           }
          ],
          "carpet": [
           {
            "aaxis": {
             "endlinecolor": "#2a3f5f",
             "gridcolor": "white",
             "linecolor": "white",
             "minorgridcolor": "white",
             "startlinecolor": "#2a3f5f"
            },
            "baxis": {
             "endlinecolor": "#2a3f5f",
             "gridcolor": "white",
             "linecolor": "white",
             "minorgridcolor": "white",
             "startlinecolor": "#2a3f5f"
            },
            "type": "carpet"
           }
          ],
          "choropleth": [
           {
            "colorbar": {
             "outlinewidth": 0,
             "ticks": ""
            },
            "type": "choropleth"
           }
          ],
          "contour": [
           {
            "colorbar": {
             "outlinewidth": 0,
             "ticks": ""
            },
            "colorscale": [
             [
              0,
              "#0d0887"
             ],
             [
              0.1111111111111111,
              "#46039f"
             ],
             [
              0.2222222222222222,
              "#7201a8"
             ],
             [
              0.3333333333333333,
              "#9c179e"
             ],
             [
              0.4444444444444444,
              "#bd3786"
             ],
             [
              0.5555555555555556,
              "#d8576b"
             ],
             [
              0.6666666666666666,
              "#ed7953"
             ],
             [
              0.7777777777777778,
              "#fb9f3a"
             ],
             [
              0.8888888888888888,
              "#fdca26"
             ],
             [
              1,
              "#f0f921"
             ]
            ],
            "type": "contour"
           }
          ],
          "contourcarpet": [
           {
            "colorbar": {
             "outlinewidth": 0,
             "ticks": ""
            },
            "type": "contourcarpet"
           }
          ],
          "heatmap": [
           {
            "colorbar": {
             "outlinewidth": 0,
             "ticks": ""
            },
            "colorscale": [
             [
              0,
              "#0d0887"
             ],
             [
              0.1111111111111111,
              "#46039f"
             ],
             [
              0.2222222222222222,
              "#7201a8"
             ],
             [
              0.3333333333333333,
              "#9c179e"
             ],
             [
              0.4444444444444444,
              "#bd3786"
             ],
             [
              0.5555555555555556,
              "#d8576b"
             ],
             [
              0.6666666666666666,
              "#ed7953"
             ],
             [
              0.7777777777777778,
              "#fb9f3a"
             ],
             [
              0.8888888888888888,
              "#fdca26"
             ],
             [
              1,
              "#f0f921"
             ]
            ],
            "type": "heatmap"
           }
          ],
          "heatmapgl": [
           {
            "colorbar": {
             "outlinewidth": 0,
             "ticks": ""
            },
            "colorscale": [
             [
              0,
              "#0d0887"
             ],
             [
              0.1111111111111111,
              "#46039f"
             ],
             [
              0.2222222222222222,
              "#7201a8"
             ],
             [
              0.3333333333333333,
              "#9c179e"
             ],
             [
              0.4444444444444444,
              "#bd3786"
             ],
             [
              0.5555555555555556,
              "#d8576b"
             ],
             [
              0.6666666666666666,
              "#ed7953"
             ],
             [
              0.7777777777777778,
              "#fb9f3a"
             ],
             [
              0.8888888888888888,
              "#fdca26"
             ],
             [
              1,
              "#f0f921"
             ]
            ],
            "type": "heatmapgl"
           }
          ],
          "histogram": [
           {
            "marker": {
             "pattern": {
              "fillmode": "overlay",
              "size": 10,
              "solidity": 0.2
             }
            },
            "type": "histogram"
           }
          ],
          "histogram2d": [
           {
            "colorbar": {
             "outlinewidth": 0,
             "ticks": ""
            },
            "colorscale": [
             [
              0,
              "#0d0887"
             ],
             [
              0.1111111111111111,
              "#46039f"
             ],
             [
              0.2222222222222222,
              "#7201a8"
             ],
             [
              0.3333333333333333,
              "#9c179e"
             ],
             [
              0.4444444444444444,
              "#bd3786"
             ],
             [
              0.5555555555555556,
              "#d8576b"
             ],
             [
              0.6666666666666666,
              "#ed7953"
             ],
             [
              0.7777777777777778,
              "#fb9f3a"
             ],
             [
              0.8888888888888888,
              "#fdca26"
             ],
             [
              1,
              "#f0f921"
             ]
            ],
            "type": "histogram2d"
           }
          ],
          "histogram2dcontour": [
           {
            "colorbar": {
             "outlinewidth": 0,
             "ticks": ""
            },
            "colorscale": [
             [
              0,
              "#0d0887"
             ],
             [
              0.1111111111111111,
              "#46039f"
             ],
             [
              0.2222222222222222,
              "#7201a8"
             ],
             [
              0.3333333333333333,
              "#9c179e"
             ],
             [
              0.4444444444444444,
              "#bd3786"
             ],
             [
              0.5555555555555556,
              "#d8576b"
             ],
             [
              0.6666666666666666,
              "#ed7953"
             ],
             [
              0.7777777777777778,
              "#fb9f3a"
             ],
             [
              0.8888888888888888,
              "#fdca26"
             ],
             [
              1,
              "#f0f921"
             ]
            ],
            "type": "histogram2dcontour"
           }
          ],
          "mesh3d": [
           {
            "colorbar": {
             "outlinewidth": 0,
             "ticks": ""
            },
            "type": "mesh3d"
           }
          ],
          "parcoords": [
           {
            "line": {
             "colorbar": {
              "outlinewidth": 0,
              "ticks": ""
             }
            },
            "type": "parcoords"
           }
          ],
          "pie": [
           {
            "automargin": true,
            "type": "pie"
           }
          ],
          "scatter": [
           {
            "fillpattern": {
             "fillmode": "overlay",
             "size": 10,
             "solidity": 0.2
            },
            "type": "scatter"
           }
          ],
          "scatter3d": [
           {
            "line": {
             "colorbar": {
              "outlinewidth": 0,
              "ticks": ""
             }
            },
            "marker": {
             "colorbar": {
              "outlinewidth": 0,
              "ticks": ""
             }
            },
            "type": "scatter3d"
           }
          ],
          "scattercarpet": [
           {
            "marker": {
             "colorbar": {
              "outlinewidth": 0,
              "ticks": ""
             }
            },
            "type": "scattercarpet"
           }
          ],
          "scattergeo": [
           {
            "marker": {
             "colorbar": {
              "outlinewidth": 0,
              "ticks": ""
             }
            },
            "type": "scattergeo"
           }
          ],
          "scattergl": [
           {
            "marker": {
             "colorbar": {
              "outlinewidth": 0,
              "ticks": ""
             }
            },
            "type": "scattergl"
           }
          ],
          "scattermapbox": [
           {
            "marker": {
             "colorbar": {
              "outlinewidth": 0,
              "ticks": ""
             }
            },
            "type": "scattermapbox"
           }
          ],
          "scatterpolar": [
           {
            "marker": {
             "colorbar": {
              "outlinewidth": 0,
              "ticks": ""
             }
            },
            "type": "scatterpolar"
           }
          ],
          "scatterpolargl": [
           {
            "marker": {
             "colorbar": {
              "outlinewidth": 0,
              "ticks": ""
             }
            },
            "type": "scatterpolargl"
           }
          ],
          "scatterternary": [
           {
            "marker": {
             "colorbar": {
              "outlinewidth": 0,
              "ticks": ""
             }
            },
            "type": "scatterternary"
           }
          ],
          "surface": [
           {
            "colorbar": {
             "outlinewidth": 0,
             "ticks": ""
            },
            "colorscale": [
             [
              0,
              "#0d0887"
             ],
             [
              0.1111111111111111,
              "#46039f"
             ],
             [
              0.2222222222222222,
              "#7201a8"
             ],
             [
              0.3333333333333333,
              "#9c179e"
             ],
             [
              0.4444444444444444,
              "#bd3786"
             ],
             [
              0.5555555555555556,
              "#d8576b"
             ],
             [
              0.6666666666666666,
              "#ed7953"
             ],
             [
              0.7777777777777778,
              "#fb9f3a"
             ],
             [
              0.8888888888888888,
              "#fdca26"
             ],
             [
              1,
              "#f0f921"
             ]
            ],
            "type": "surface"
           }
          ],
          "table": [
           {
            "cells": {
             "fill": {
              "color": "#EBF0F8"
             },
             "line": {
              "color": "white"
             }
            },
            "header": {
             "fill": {
              "color": "#C8D4E3"
             },
             "line": {
              "color": "white"
             }
            },
            "type": "table"
           }
          ]
         },
         "layout": {
          "annotationdefaults": {
           "arrowcolor": "#2a3f5f",
           "arrowhead": 0,
           "arrowwidth": 1
          },
          "autotypenumbers": "strict",
          "coloraxis": {
           "colorbar": {
            "outlinewidth": 0,
            "ticks": ""
           }
          },
          "colorscale": {
           "diverging": [
            [
             0,
             "#8e0152"
            ],
            [
             0.1,
             "#c51b7d"
            ],
            [
             0.2,
             "#de77ae"
            ],
            [
             0.3,
             "#f1b6da"
            ],
            [
             0.4,
             "#fde0ef"
            ],
            [
             0.5,
             "#f7f7f7"
            ],
            [
             0.6,
             "#e6f5d0"
            ],
            [
             0.7,
             "#b8e186"
            ],
            [
             0.8,
             "#7fbc41"
            ],
            [
             0.9,
             "#4d9221"
            ],
            [
             1,
             "#276419"
            ]
           ],
           "sequential": [
            [
             0,
             "#0d0887"
            ],
            [
             0.1111111111111111,
             "#46039f"
            ],
            [
             0.2222222222222222,
             "#7201a8"
            ],
            [
             0.3333333333333333,
             "#9c179e"
            ],
            [
             0.4444444444444444,
             "#bd3786"
            ],
            [
             0.5555555555555556,
             "#d8576b"
            ],
            [
             0.6666666666666666,
             "#ed7953"
            ],
            [
             0.7777777777777778,
             "#fb9f3a"
            ],
            [
             0.8888888888888888,
             "#fdca26"
            ],
            [
             1,
             "#f0f921"
            ]
           ],
           "sequentialminus": [
            [
             0,
             "#0d0887"
            ],
            [
             0.1111111111111111,
             "#46039f"
            ],
            [
             0.2222222222222222,
             "#7201a8"
            ],
            [
             0.3333333333333333,
             "#9c179e"
            ],
            [
             0.4444444444444444,
             "#bd3786"
            ],
            [
             0.5555555555555556,
             "#d8576b"
            ],
            [
             0.6666666666666666,
             "#ed7953"
            ],
            [
             0.7777777777777778,
             "#fb9f3a"
            ],
            [
             0.8888888888888888,
             "#fdca26"
            ],
            [
             1,
             "#f0f921"
            ]
           ]
          },
          "colorway": [
           "#636efa",
           "#EF553B",
           "#00cc96",
           "#ab63fa",
           "#FFA15A",
           "#19d3f3",
           "#FF6692",
           "#B6E880",
           "#FF97FF",
           "#FECB52"
          ],
          "font": {
           "color": "#2a3f5f"
          },
          "geo": {
           "bgcolor": "white",
           "lakecolor": "white",
           "landcolor": "#E5ECF6",
           "showlakes": true,
           "showland": true,
           "subunitcolor": "white"
          },
          "hoverlabel": {
           "align": "left"
          },
          "hovermode": "closest",
          "mapbox": {
           "style": "light"
          },
          "paper_bgcolor": "white",
          "plot_bgcolor": "#E5ECF6",
          "polar": {
           "angularaxis": {
            "gridcolor": "white",
            "linecolor": "white",
            "ticks": ""
           },
           "bgcolor": "#E5ECF6",
           "radialaxis": {
            "gridcolor": "white",
            "linecolor": "white",
            "ticks": ""
           }
          },
          "scene": {
           "xaxis": {
            "backgroundcolor": "#E5ECF6",
            "gridcolor": "white",
            "gridwidth": 2,
            "linecolor": "white",
            "showbackground": true,
            "ticks": "",
            "zerolinecolor": "white"
           },
           "yaxis": {
            "backgroundcolor": "#E5ECF6",
            "gridcolor": "white",
            "gridwidth": 2,
            "linecolor": "white",
            "showbackground": true,
            "ticks": "",
            "zerolinecolor": "white"
           },
           "zaxis": {
            "backgroundcolor": "#E5ECF6",
            "gridcolor": "white",
            "gridwidth": 2,
            "linecolor": "white",
            "showbackground": true,
            "ticks": "",
            "zerolinecolor": "white"
           }
          },
          "shapedefaults": {
           "line": {
            "color": "#2a3f5f"
           }
          },
          "ternary": {
           "aaxis": {
            "gridcolor": "white",
            "linecolor": "white",
            "ticks": ""
           },
           "baxis": {
            "gridcolor": "white",
            "linecolor": "white",
            "ticks": ""
           },
           "bgcolor": "#E5ECF6",
           "caxis": {
            "gridcolor": "white",
            "linecolor": "white",
            "ticks": ""
           }
          },
          "title": {
           "x": 0.05
          },
          "xaxis": {
           "automargin": true,
           "gridcolor": "white",
           "linecolor": "white",
           "ticks": "",
           "title": {
            "standoff": 15
           },
           "zerolinecolor": "white",
           "zerolinewidth": 2
          },
          "yaxis": {
           "automargin": true,
           "gridcolor": "white",
           "linecolor": "white",
           "ticks": "",
           "title": {
            "standoff": 15
           },
           "zerolinecolor": "white",
           "zerolinewidth": 2
          }
         }
        },
        "title": {
         "text": "AG saturés (g/100 g) pour 5 plats végétariens"
        },
        "width": 800,
        "xaxis": {
         "anchor": "y",
         "autorange": false,
         "domain": [
          0,
          1
         ],
         "range": [
          -0.5,
          4.5
         ],
         "title": {
          "text": "Nom recette"
         },
         "type": "category"
        },
        "yaxis": {
         "anchor": "x",
         "autorange": false,
         "domain": [
          0,
          1
         ],
         "range": [
          0,
          2737.4
         ],
         "title": {
          "text": "AG saturés (g/100 g)"
         },
         "type": "linear"
        }
       }
      },
      "image/png": "[encoded data removed]",
      "text/html": [
       "<div>                            <div id=\"1c0b56e5-323f-4d2c-8fe7-27ab6da5e98a\" class=\"plotly-graph-div\" style=\"height:500px; width:800px;\"></div>            <script type=\"text/javascript\">                require([\"plotly\"], function(Plotly) {                    window.PLOTLYENV=window.PLOTLYENV || {};                                    if (document.getElementById(\"1c0b56e5-323f-4d2c-8fe7-27ab6da5e98a\")) {                    Plotly.newPlot(                        \"1c0b56e5-323f-4d2c-8fe7-27ab6da5e98a\",                        [{\"alignmentgroup\":\"True\",\"hovertemplate\":\"Ingr\\u00e9dient=ail<br>Nom recette=%{x}<br>AG satur\\u00e9s (g/100 g)=%{y}<extra></extra>\",\"legendgroup\":\"ail\",\"marker\":{\"color\":\"#636efa\",\"pattern\":{\"shape\":\"\"}},\"name\":\"ail\",\"offsetgroup\":\"ail\",\"orientation\":\"v\",\"showlegend\":true,\"textposition\":\"auto\",\"x\":[\"Curry de l\\u00e9gumes v\\u00e9g\\u00e9tarien\",\"Hachis parmentier v\\u00e9g\\u00e9tarien\",\"Tourte de No\\u00ebl v\\u00e9g\\u00e9tarienne de Coralie\"],\"xaxis\":\"x\",\"y\":[1.5,0.5,4.800000000000001],\"yaxis\":\"y\",\"type\":\"bar\"},{\"alignmentgroup\":\"True\",\"hovertemplate\":\"Ingr\\u00e9dient=basilic<br>Nom recette=%{x}<br>AG satur\\u00e9s (g/100 g)=%{y}<extra></extra>\",\"legendgroup\":\"basilic\",\"marker\":{\"color\":\"#EF553B\",\"pattern\":{\"shape\":\"\"}},\"name\":\"basilic\",\"offsetgroup\":\"basilic\",\"orientation\":\"v\",\"showlegend\":true,\"textposition\":\"auto\",\"x\":[\"Curry de l\\u00e9gumes v\\u00e9g\\u00e9tarien\"],\"xaxis\":\"x\",\"y\":[0.26],\"yaxis\":\"y\",\"type\":\"bar\"},{\"alignmentgroup\":\"True\",\"hovertemplate\":\"Ingr\\u00e9dient=carotte<br>Nom recette=%{x}<br>AG satur\\u00e9s (g/100 g)=%{y}<extra></extra>\",\"legendgroup\":\"carotte\",\"marker\":{\"color\":\"#00cc96\",\"pattern\":{\"shape\":\"\"}},\"name\":\"carotte\",\"offsetgroup\":\"carotte\",\"orientation\":\"v\",\"showlegend\":true,\"textposition\":\"auto\",\"x\":[\"Curry de l\\u00e9gumes v\\u00e9g\\u00e9tarien\",\"Hachis parmentier v\\u00e9g\\u00e9tarien\"],\"xaxis\":\"x\",\"y\":[1.9,1.78125],\"yaxis\":\"y\",\"type\":\"bar\"},{\"alignmentgroup\":\"True\",\"hovertemplate\":\"Ingr\\u00e9dient=citron vert<br>Nom recette=%{x}<br>AG satur\\u00e9s (g/100 g)=%{y}<extra></extra>\",\"legendgroup\":\"citron vert\",\"marker\":{\"color\":\"#ab63fa\",\"pattern\":{\"shape\":\"\"}},\"name\":\"citron vert\",\"offsetgroup\":\"citron vert\",\"orientation\":\"v\",\"showlegend\":true,\"textposition\":\"auto\",\"x\":[\"Curry de l\\u00e9gumes v\\u00e9g\\u00e9tarien\"],\"xaxis\":\"x\",\"y\":[0.0],\"yaxis\":\"y\",\"type\":\"bar\"},{\"alignmentgroup\":\"True\",\"hovertemplate\":\"Ingr\\u00e9dient=concentre de tomate<br>Nom recette=%{x}<br>AG satur\\u00e9s (g/100 g)=%{y}<extra></extra>\",\"legendgroup\":\"concentre de tomate\",\"marker\":{\"color\":\"#FFA15A\",\"pattern\":{\"shape\":\"\"}},\"name\":\"concentre de tomate\",\"offsetgroup\":\"concentre de tomate\",\"orientation\":\"v\",\"showlegend\":true,\"textposition\":\"auto\",\"x\":[\"Curry de l\\u00e9gumes v\\u00e9g\\u00e9tarien\"],\"xaxis\":\"x\",\"y\":[0.6975],\"yaxis\":\"y\",\"type\":\"bar\"},{\"alignmentgroup\":\"True\",\"hovertemplate\":\"Ingr\\u00e9dient=courgette<br>Nom recette=%{x}<br>AG satur\\u00e9s (g/100 g)=%{y}<extra></extra>\",\"legendgroup\":\"courgette\",\"marker\":{\"color\":\"#19d3f3\",\"pattern\":{\"shape\":\"\"}},\"name\":\"courgette\",\"offsetgroup\":\"courgette\",\"orientation\":\"v\",\"showlegend\":true,\"textposition\":\"auto\",\"x\":[\"Curry de l\\u00e9gumes v\\u00e9g\\u00e9tarien\",\"Lasagnes v\\u00e9g\\u00e9tariennes (facile)\"],\"xaxis\":\"x\",\"y\":[10.0,20.0],\"yaxis\":\"y\",\"type\":\"bar\"},{\"alignmentgroup\":\"True\",\"hovertemplate\":\"Ingr\\u00e9dient=creme de coco<br>Nom recette=%{x}<br>AG satur\\u00e9s (g/100 g)=%{y}<extra></extra>\",\"legendgroup\":\"creme de coco\",\"marker\":{\"color\":\"#FF6692\",\"pattern\":{\"shape\":\"\"}},\"name\":\"creme de coco\",\"offsetgroup\":\"creme de coco\",\"orientation\":\"v\",\"showlegend\":true,\"textposition\":\"auto\",\"x\":[\"Curry de l\\u00e9gumes v\\u00e9g\\u00e9tarien\"],\"xaxis\":\"x\",\"y\":[1237.5],\"yaxis\":\"y\",\"type\":\"bar\"},{\"alignmentgroup\":\"True\",\"hovertemplate\":\"Ingr\\u00e9dient=cumin<br>Nom recette=%{x}<br>AG satur\\u00e9s (g/100 g)=%{y}<extra></extra>\",\"legendgroup\":\"cumin\",\"marker\":{\"color\":\"#B6E880\",\"pattern\":{\"shape\":\"\"}},\"name\":\"cumin\",\"offsetgroup\":\"cumin\",\"orientation\":\"v\",\"showlegend\":true,\"textposition\":\"auto\",\"x\":[\"Curry de l\\u00e9gumes v\\u00e9g\\u00e9tarien\"],\"xaxis\":\"x\",\"y\":[2.8875],\"yaxis\":\"y\",\"type\":\"bar\"},{\"alignmentgroup\":\"True\",\"hovertemplate\":\"Ingr\\u00e9dient=echalote<br>Nom recette=%{x}<br>AG satur\\u00e9s (g/100 g)=%{y}<extra></extra>\",\"legendgroup\":\"echalote\",\"marker\":{\"color\":\"#FF97FF\",\"pattern\":{\"shape\":\"\"}},\"name\":\"echalote\",\"offsetgroup\":\"echalote\",\"orientation\":\"v\",\"showlegend\":true,\"textposition\":\"auto\",\"x\":[\"Curry de l\\u00e9gumes v\\u00e9g\\u00e9tarien\",\"Tourte de No\\u00ebl v\\u00e9g\\u00e9tarienne de Coralie\"],\"xaxis\":\"x\",\"y\":[3.5999999999999996,0.96],\"yaxis\":\"y\",\"type\":\"bar\"},{\"alignmentgroup\":\"True\",\"hovertemplate\":\"Ingr\\u00e9dient=patate douce<br>Nom recette=%{x}<br>AG satur\\u00e9s (g/100 g)=%{y}<extra></extra>\",\"legendgroup\":\"patate douce\",\"marker\":{\"color\":\"#FECB52\",\"pattern\":{\"shape\":\"\"}},\"name\":\"patate douce\",\"offsetgroup\":\"patate douce\",\"orientation\":\"v\",\"showlegend\":true,\"textposition\":\"auto\",\"x\":[\"Curry de l\\u00e9gumes v\\u00e9g\\u00e9tarien\"],\"xaxis\":\"x\",\"y\":[2.1],\"yaxis\":\"y\",\"type\":\"bar\"},{\"alignmentgroup\":\"True\",\"hovertemplate\":\"Ingr\\u00e9dient=pate de curry<br>Nom recette=%{x}<br>AG satur\\u00e9s (g/100 g)=%{y}<extra></extra>\",\"legendgroup\":\"pate de curry\",\"marker\":{\"color\":\"#636efa\",\"pattern\":{\"shape\":\"\"}},\"name\":\"pate de curry\",\"offsetgroup\":\"pate de curry\",\"orientation\":\"v\",\"showlegend\":true,\"textposition\":\"auto\",\"x\":[\"Curry de l\\u00e9gumes v\\u00e9g\\u00e9tarien\"],\"xaxis\":\"x\",\"y\":[20.625],\"yaxis\":\"y\",\"type\":\"bar\"},{\"alignmentgroup\":\"True\",\"hovertemplate\":\"Ingr\\u00e9dient=petit piment<br>Nom recette=%{x}<br>AG satur\\u00e9s (g/100 g)=%{y}<extra></extra>\",\"legendgroup\":\"petit piment\",\"marker\":{\"color\":\"#EF553B\",\"pattern\":{\"shape\":\"\"}},\"name\":\"petit piment\",\"offsetgroup\":\"petit piment\",\"orientation\":\"v\",\"showlegend\":true,\"textposition\":\"auto\",\"x\":[\"Curry de l\\u00e9gumes v\\u00e9g\\u00e9tarien\"],\"xaxis\":\"x\",\"y\":[0.23249999999999998],\"yaxis\":\"y\",\"type\":\"bar\"},{\"alignmentgroup\":\"True\",\"hovertemplate\":\"Ingr\\u00e9dient=poivre<br>Nom recette=%{x}<br>AG satur\\u00e9s (g/100 g)=%{y}<extra></extra>\",\"legendgroup\":\"poivre\",\"marker\":{\"color\":\"#00cc96\",\"pattern\":{\"shape\":\"\"}},\"name\":\"poivre\",\"offsetgroup\":\"poivre\",\"orientation\":\"v\",\"showlegend\":true,\"textposition\":\"auto\",\"x\":[\"Curry de l\\u00e9gumes v\\u00e9g\\u00e9tarien\",\"Lasagnes v\\u00e9g\\u00e9tariennes (facile)\"],\"xaxis\":\"x\",\"y\":[5.8,5.8],\"yaxis\":\"y\",\"type\":\"bar\"},{\"alignmentgroup\":\"True\",\"hovertemplate\":\"Ingr\\u00e9dient=sel<br>Nom recette=%{x}<br>AG satur\\u00e9s (g/100 g)=%{y}<extra></extra>\",\"legendgroup\":\"sel\",\"marker\":{\"color\":\"#ab63fa\",\"pattern\":{\"shape\":\"\"}},\"name\":\"sel\",\"offsetgroup\":\"sel\",\"orientation\":\"v\",\"showlegend\":true,\"textposition\":\"auto\",\"x\":[\"Curry de l\\u00e9gumes v\\u00e9g\\u00e9tarien\",\"Lasagnes v\\u00e9g\\u00e9tariennes (facile)\"],\"xaxis\":\"x\",\"y\":[null,null],\"yaxis\":\"y\",\"type\":\"bar\"},{\"alignmentgroup\":\"True\",\"hovertemplate\":\"Ingr\\u00e9dient=celeri<br>Nom recette=%{x}<br>AG satur\\u00e9s (g/100 g)=%{y}<extra></extra>\",\"legendgroup\":\"celeri\",\"marker\":{\"color\":\"#FFA15A\",\"pattern\":{\"shape\":\"\"}},\"name\":\"celeri\",\"offsetgroup\":\"celeri\",\"orientation\":\"v\",\"showlegend\":true,\"textposition\":\"auto\",\"x\":[\"Hachis parmentier v\\u00e9g\\u00e9tarien\"],\"xaxis\":\"x\",\"y\":[null],\"yaxis\":\"y\",\"type\":\"bar\"},{\"alignmentgroup\":\"True\",\"hovertemplate\":\"Ingr\\u00e9dient=huile d'olive<br>Nom recette=%{x}<br>AG satur\\u00e9s (g/100 g)=%{y}<extra></extra>\",\"legendgroup\":\"huile d'olive\",\"marker\":{\"color\":\"#19d3f3\",\"pattern\":{\"shape\":\"\"}},\"name\":\"huile d'olive\",\"offsetgroup\":\"huile d'olive\",\"orientation\":\"v\",\"showlegend\":true,\"textposition\":\"auto\",\"x\":[\"Hachis parmentier v\\u00e9g\\u00e9tarien\",\"Tourte de No\\u00ebl v\\u00e9g\\u00e9tarienne de Coralie\"],\"xaxis\":\"x\",\"y\":[114.0,45.599999999999994],\"yaxis\":\"y\",\"type\":\"bar\"},{\"alignmentgroup\":\"True\",\"hovertemplate\":\"Ingr\\u00e9dient=navet<br>Nom recette=%{x}<br>AG satur\\u00e9s (g/100 g)=%{y}<extra></extra>\",\"legendgroup\":\"navet\",\"marker\":{\"color\":\"#FF6692\",\"pattern\":{\"shape\":\"\"}},\"name\":\"navet\",\"offsetgroup\":\"navet\",\"orientation\":\"v\",\"showlegend\":true,\"textposition\":\"auto\",\"x\":[\"Hachis parmentier v\\u00e9g\\u00e9tarien\"],\"xaxis\":\"x\",\"y\":[0.5],\"yaxis\":\"y\",\"type\":\"bar\"},{\"alignmentgroup\":\"True\",\"hovertemplate\":\"Ingr\\u00e9dient=oignon<br>Nom recette=%{x}<br>AG satur\\u00e9s (g/100 g)=%{y}<extra></extra>\",\"legendgroup\":\"oignon\",\"marker\":{\"color\":\"#B6E880\",\"pattern\":{\"shape\":\"\"}},\"name\":\"oignon\",\"offsetgroup\":\"oignon\",\"orientation\":\"v\",\"showlegend\":true,\"textposition\":\"auto\",\"x\":[\"Hachis parmentier v\\u00e9g\\u00e9tarien\",\"Hamburger V\\u00e9g\\u00e9tarien \",\"Lasagnes v\\u00e9g\\u00e9tariennes (facile)\"],\"xaxis\":\"x\",\"y\":[0.0,0.0,0.0],\"yaxis\":\"y\",\"type\":\"bar\"},{\"alignmentgroup\":\"True\",\"hovertemplate\":\"Ingr\\u00e9dient=pain de mie<br>Nom recette=%{x}<br>AG satur\\u00e9s (g/100 g)=%{y}<extra></extra>\",\"legendgroup\":\"pain de mie\",\"marker\":{\"color\":\"#FF97FF\",\"pattern\":{\"shape\":\"\"}},\"name\":\"pain de mie\",\"offsetgroup\":\"pain de mie\",\"orientation\":\"v\",\"showlegend\":true,\"textposition\":\"auto\",\"x\":[\"Hachis parmentier v\\u00e9g\\u00e9tarien\"],\"xaxis\":\"x\",\"y\":[0.8],\"yaxis\":\"y\",\"type\":\"bar\"},{\"alignmentgroup\":\"True\",\"hovertemplate\":\"Ingr\\u00e9dient=persil<br>Nom recette=%{x}<br>AG satur\\u00e9s (g/100 g)=%{y}<extra></extra>\",\"legendgroup\":\"persil\",\"marker\":{\"color\":\"#FECB52\",\"pattern\":{\"shape\":\"\"}},\"name\":\"persil\",\"offsetgroup\":\"persil\",\"orientation\":\"v\",\"showlegend\":true,\"textposition\":\"auto\",\"x\":[\"Hachis parmentier v\\u00e9g\\u00e9tarien\"],\"xaxis\":\"x\",\"y\":[0.5],\"yaxis\":\"y\",\"type\":\"bar\"},{\"alignmentgroup\":\"True\",\"hovertemplate\":\"Ingr\\u00e9dient=poireau<br>Nom recette=%{x}<br>AG satur\\u00e9s (g/100 g)=%{y}<extra></extra>\",\"legendgroup\":\"poireau\",\"marker\":{\"color\":\"#636efa\",\"pattern\":{\"shape\":\"\"}},\"name\":\"poireau\",\"offsetgroup\":\"poireau\",\"orientation\":\"v\",\"showlegend\":true,\"textposition\":\"auto\",\"x\":[\"Hachis parmentier v\\u00e9g\\u00e9tarien\"],\"xaxis\":\"x\",\"y\":[0.0],\"yaxis\":\"y\",\"type\":\"bar\"},{\"alignmentgroup\":\"True\",\"hovertemplate\":\"Ingr\\u00e9dient=pommes de terre<br>Nom recette=%{x}<br>AG satur\\u00e9s (g/100 g)=%{y}<extra></extra>\",\"legendgroup\":\"pommes de terre\",\"marker\":{\"color\":\"#EF553B\",\"pattern\":{\"shape\":\"\"}},\"name\":\"pommes de terre\",\"offsetgroup\":\"pommes de terre\",\"orientation\":\"v\",\"showlegend\":true,\"textposition\":\"auto\",\"x\":[\"Hachis parmentier v\\u00e9g\\u00e9tarien\"],\"xaxis\":\"x\",\"y\":[4.55],\"yaxis\":\"y\",\"type\":\"bar\"},{\"alignmentgroup\":\"True\",\"hovertemplate\":\"Ingr\\u00e9dient=sauce soja<br>Nom recette=%{x}<br>AG satur\\u00e9s (g/100 g)=%{y}<extra></extra>\",\"legendgroup\":\"sauce soja\",\"marker\":{\"color\":\"#00cc96\",\"pattern\":{\"shape\":\"\"}},\"name\":\"sauce soja\",\"offsetgroup\":\"sauce soja\",\"orientation\":\"v\",\"showlegend\":true,\"textposition\":\"auto\",\"x\":[\"Hachis parmentier v\\u00e9g\\u00e9tarien\"],\"xaxis\":\"x\",\"y\":[0.010625],\"yaxis\":\"y\",\"type\":\"bar\"},{\"alignmentgroup\":\"True\",\"hovertemplate\":\"Ingr\\u00e9dient=chapelure<br>Nom recette=%{x}<br>AG satur\\u00e9s (g/100 g)=%{y}<extra></extra>\",\"legendgroup\":\"chapelure\",\"marker\":{\"color\":\"#ab63fa\",\"pattern\":{\"shape\":\"\"}},\"name\":\"chapelure\",\"offsetgroup\":\"chapelure\",\"orientation\":\"v\",\"showlegend\":true,\"textposition\":\"auto\",\"x\":[\"Hamburger V\\u00e9g\\u00e9tarien \"],\"xaxis\":\"x\",\"y\":[1.88],\"yaxis\":\"y\",\"type\":\"bar\"},{\"alignmentgroup\":\"True\",\"hovertemplate\":\"Ingr\\u00e9dient=cornichon<br>Nom recette=%{x}<br>AG satur\\u00e9s (g/100 g)=%{y}<extra></extra>\",\"legendgroup\":\"cornichon\",\"marker\":{\"color\":\"#FFA15A\",\"pattern\":{\"shape\":\"\"}},\"name\":\"cornichon\",\"offsetgroup\":\"cornichon\",\"orientation\":\"v\",\"showlegend\":true,\"textposition\":\"auto\",\"x\":[\"Hamburger V\\u00e9g\\u00e9tarien \"],\"xaxis\":\"x\",\"y\":[0.0],\"yaxis\":\"y\",\"type\":\"bar\"},{\"alignmentgroup\":\"True\",\"hovertemplate\":\"Ingr\\u00e9dient=epice<br>Nom recette=%{x}<br>AG satur\\u00e9s (g/100 g)=%{y}<extra></extra>\",\"legendgroup\":\"epice\",\"marker\":{\"color\":\"#19d3f3\",\"pattern\":{\"shape\":\"\"}},\"name\":\"epice\",\"offsetgroup\":\"epice\",\"orientation\":\"v\",\"showlegend\":true,\"textposition\":\"auto\",\"x\":[\"Hamburger V\\u00e9g\\u00e9tarien \"],\"xaxis\":\"x\",\"y\":[9.68],\"yaxis\":\"y\",\"type\":\"bar\"},{\"alignmentgroup\":\"True\",\"hovertemplate\":\"Ingr\\u00e9dient=farine<br>Nom recette=%{x}<br>AG satur\\u00e9s (g/100 g)=%{y}<extra></extra>\",\"legendgroup\":\"farine\",\"marker\":{\"color\":\"#FF6692\",\"pattern\":{\"shape\":\"\"}},\"name\":\"farine\",\"offsetgroup\":\"farine\",\"orientation\":\"v\",\"showlegend\":true,\"textposition\":\"auto\",\"x\":[\"Hamburger V\\u00e9g\\u00e9tarien \"],\"xaxis\":\"x\",\"y\":[0.78],\"yaxis\":\"y\",\"type\":\"bar\"},{\"alignmentgroup\":\"True\",\"hovertemplate\":\"Ingr\\u00e9dient=mayonnaise<br>Nom recette=%{x}<br>AG satur\\u00e9s (g/100 g)=%{y}<extra></extra>\",\"legendgroup\":\"mayonnaise\",\"marker\":{\"color\":\"#B6E880\",\"pattern\":{\"shape\":\"\"}},\"name\":\"mayonnaise\",\"offsetgroup\":\"mayonnaise\",\"orientation\":\"v\",\"showlegend\":true,\"textposition\":\"auto\",\"x\":[\"Hamburger V\\u00e9g\\u00e9tarien \"],\"xaxis\":\"x\",\"y\":[14.54],\"yaxis\":\"y\",\"type\":\"bar\"},{\"alignmentgroup\":\"True\",\"hovertemplate\":\"Ingr\\u00e9dient=oeuf<br>Nom recette=%{x}<br>AG satur\\u00e9s (g/100 g)=%{y}<extra></extra>\",\"legendgroup\":\"oeuf\",\"marker\":{\"color\":\"#FF97FF\",\"pattern\":{\"shape\":\"\"}},\"name\":\"oeuf\",\"offsetgroup\":\"oeuf\",\"orientation\":\"v\",\"showlegend\":true,\"textposition\":\"auto\",\"x\":[\"Hamburger V\\u00e9g\\u00e9tarien \",\"Tourte de No\\u00ebl v\\u00e9g\\u00e9tarienne de Coralie\"],\"xaxis\":\"x\",\"y\":[32.89,16.445],\"yaxis\":\"y\",\"type\":\"bar\"},{\"alignmentgroup\":\"True\",\"hovertemplate\":\"Ingr\\u00e9dient=pains pour hamburger<br>Nom recette=%{x}<br>AG satur\\u00e9s (g/100 g)=%{y}<extra></extra>\",\"legendgroup\":\"pains pour hamburger\",\"marker\":{\"color\":\"#FECB52\",\"pattern\":{\"shape\":\"\"}},\"name\":\"pains pour hamburger\",\"offsetgroup\":\"pains pour hamburger\",\"orientation\":\"v\",\"showlegend\":true,\"textposition\":\"auto\",\"x\":[\"Hamburger V\\u00e9g\\u00e9tarien \"],\"xaxis\":\"x\",\"y\":[84.48],\"yaxis\":\"y\",\"type\":\"bar\"},{\"alignmentgroup\":\"True\",\"hovertemplate\":\"Ingr\\u00e9dient=salade<br>Nom recette=%{x}<br>AG satur\\u00e9s (g/100 g)=%{y}<extra></extra>\",\"legendgroup\":\"salade\",\"marker\":{\"color\":\"#636efa\",\"pattern\":{\"shape\":\"\"}},\"name\":\"salade\",\"offsetgroup\":\"salade\",\"orientation\":\"v\",\"showlegend\":true,\"textposition\":\"auto\",\"x\":[\"Hamburger V\\u00e9g\\u00e9tarien \"],\"xaxis\":\"x\",\"y\":[0.0],\"yaxis\":\"y\",\"type\":\"bar\"},{\"alignmentgroup\":\"True\",\"hovertemplate\":\"Ingr\\u00e9dient=toastinette<br>Nom recette=%{x}<br>AG satur\\u00e9s (g/100 g)=%{y}<extra></extra>\",\"legendgroup\":\"toastinette\",\"marker\":{\"color\":\"#EF553B\",\"pattern\":{\"shape\":\"\"}},\"name\":\"toastinette\",\"offsetgroup\":\"toastinette\",\"orientation\":\"v\",\"showlegend\":true,\"textposition\":\"auto\",\"x\":[\"Hamburger V\\u00e9g\\u00e9tarien \"],\"xaxis\":\"x\",\"y\":[314.88000000000005],\"yaxis\":\"y\",\"type\":\"bar\"},{\"alignmentgroup\":\"True\",\"hovertemplate\":\"Ingr\\u00e9dient=basilic frais<br>Nom recette=%{x}<br>AG satur\\u00e9s (g/100 g)=%{y}<extra></extra>\",\"legendgroup\":\"basilic frais\",\"marker\":{\"color\":\"#00cc96\",\"pattern\":{\"shape\":\"\"}},\"name\":\"basilic frais\",\"offsetgroup\":\"basilic frais\",\"orientation\":\"v\",\"showlegend\":true,\"textposition\":\"auto\",\"x\":[\"Lasagnes v\\u00e9g\\u00e9tariennes (facile)\"],\"xaxis\":\"x\",\"y\":[0.26],\"yaxis\":\"y\",\"type\":\"bar\"},{\"alignmentgroup\":\"True\",\"hovertemplate\":\"Ingr\\u00e9dient=bechamel<br>Nom recette=%{x}<br>AG satur\\u00e9s (g/100 g)=%{y}<extra></extra>\",\"legendgroup\":\"bechamel\",\"marker\":{\"color\":\"#ab63fa\",\"pattern\":{\"shape\":\"\"}},\"name\":\"bechamel\",\"offsetgroup\":\"bechamel\",\"orientation\":\"v\",\"showlegend\":true,\"textposition\":\"auto\",\"x\":[\"Lasagnes v\\u00e9g\\u00e9tariennes (facile)\"],\"xaxis\":\"x\",\"y\":[576.25],\"yaxis\":\"y\",\"type\":\"bar\"},{\"alignmentgroup\":\"True\",\"hovertemplate\":\"Ingr\\u00e9dient=coulis de tomate<br>Nom recette=%{x}<br>AG satur\\u00e9s (g/100 g)=%{y}<extra></extra>\",\"legendgroup\":\"coulis de tomate\",\"marker\":{\"color\":\"#FFA15A\",\"pattern\":{\"shape\":\"\"}},\"name\":\"coulis de tomate\",\"offsetgroup\":\"coulis de tomate\",\"orientation\":\"v\",\"showlegend\":true,\"textposition\":\"auto\",\"x\":[\"Lasagnes v\\u00e9g\\u00e9tariennes (facile)\"],\"xaxis\":\"x\",\"y\":[4.0],\"yaxis\":\"y\",\"type\":\"bar\"},{\"alignmentgroup\":\"True\",\"hovertemplate\":\"Ingr\\u00e9dient=gruyere rape<br>Nom recette=%{x}<br>AG satur\\u00e9s (g/100 g)=%{y}<extra></extra>\",\"legendgroup\":\"gruyere rape\",\"marker\":{\"color\":\"#19d3f3\",\"pattern\":{\"shape\":\"\"}},\"name\":\"gruyere rape\",\"offsetgroup\":\"gruyere rape\",\"orientation\":\"v\",\"showlegend\":true,\"textposition\":\"auto\",\"x\":[\"Lasagnes v\\u00e9g\\u00e9tariennes (facile)\"],\"xaxis\":\"x\",\"y\":[1980.0],\"yaxis\":\"y\",\"type\":\"bar\"},{\"alignmentgroup\":\"True\",\"hovertemplate\":\"Ingr\\u00e9dient=herbes de Provence<br>Nom recette=%{x}<br>AG satur\\u00e9s (g/100 g)=%{y}<extra></extra>\",\"legendgroup\":\"herbes de Provence\",\"marker\":{\"color\":\"#FF6692\",\"pattern\":{\"shape\":\"\"}},\"name\":\"herbes de Provence\",\"offsetgroup\":\"herbes de Provence\",\"orientation\":\"v\",\"showlegend\":true,\"textposition\":\"auto\",\"x\":[\"Lasagnes v\\u00e9g\\u00e9tariennes (facile)\"],\"xaxis\":\"x\",\"y\":[3.76],\"yaxis\":\"y\",\"type\":\"bar\"},{\"alignmentgroup\":\"True\",\"hovertemplate\":\"Ingr\\u00e9dient=lasagne<br>Nom recette=%{x}<br>AG satur\\u00e9s (g/100 g)=%{y}<extra></extra>\",\"legendgroup\":\"lasagne\",\"marker\":{\"color\":\"#B6E880\",\"pattern\":{\"shape\":\"\"}},\"name\":\"lasagne\",\"offsetgroup\":\"lasagne\",\"orientation\":\"v\",\"showlegend\":true,\"textposition\":\"auto\",\"x\":[\"Lasagnes v\\u00e9g\\u00e9tariennes (facile)\"],\"xaxis\":\"x\",\"y\":[10.46],\"yaxis\":\"y\",\"type\":\"bar\"},{\"alignmentgroup\":\"True\",\"hovertemplate\":\"Ingr\\u00e9dient=tomate<br>Nom recette=%{x}<br>AG satur\\u00e9s (g/100 g)=%{y}<extra></extra>\",\"legendgroup\":\"tomate\",\"marker\":{\"color\":\"#FF97FF\",\"pattern\":{\"shape\":\"\"}},\"name\":\"tomate\",\"offsetgroup\":\"tomate\",\"orientation\":\"v\",\"showlegend\":true,\"textposition\":\"auto\",\"x\":[\"Lasagnes v\\u00e9g\\u00e9tariennes (facile)\",\"Tourte de No\\u00ebl v\\u00e9g\\u00e9tarienne de Coralie\"],\"xaxis\":\"x\",\"y\":[0.0,0.0],\"yaxis\":\"y\",\"type\":\"bar\"},{\"alignmentgroup\":\"True\",\"hovertemplate\":\"Ingr\\u00e9dient=beurre<br>Nom recette=%{x}<br>AG satur\\u00e9s (g/100 g)=%{y}<extra></extra>\",\"legendgroup\":\"beurre\",\"marker\":{\"color\":\"#FECB52\",\"pattern\":{\"shape\":\"\"}},\"name\":\"beurre\",\"offsetgroup\":\"beurre\",\"orientation\":\"v\",\"showlegend\":true,\"textposition\":\"auto\",\"x\":[\"Tourte de No\\u00ebl v\\u00e9g\\u00e9tarienne de Coralie\"],\"xaxis\":\"x\",\"y\":[110.8],\"yaxis\":\"y\",\"type\":\"bar\"},{\"alignmentgroup\":\"True\",\"hovertemplate\":\"Ingr\\u00e9dient=champignon<br>Nom recette=%{x}<br>AG satur\\u00e9s (g/100 g)=%{y}<extra></extra>\",\"legendgroup\":\"champignon\",\"marker\":{\"color\":\"#636efa\",\"pattern\":{\"shape\":\"\"}},\"name\":\"champignon\",\"offsetgroup\":\"champignon\",\"orientation\":\"v\",\"showlegend\":true,\"textposition\":\"auto\",\"x\":[\"Tourte de No\\u00ebl v\\u00e9g\\u00e9tarienne de Coralie\"],\"xaxis\":\"x\",\"y\":[1.5125],\"yaxis\":\"y\",\"type\":\"bar\"},{\"alignmentgroup\":\"True\",\"hovertemplate\":\"Ingr\\u00e9dient=epinard<br>Nom recette=%{x}<br>AG satur\\u00e9s (g/100 g)=%{y}<extra></extra>\",\"legendgroup\":\"epinard\",\"marker\":{\"color\":\"#EF553B\",\"pattern\":{\"shape\":\"\"}},\"name\":\"epinard\",\"offsetgroup\":\"epinard\",\"orientation\":\"v\",\"showlegend\":true,\"textposition\":\"auto\",\"x\":[\"Tourte de No\\u00ebl v\\u00e9g\\u00e9tarienne de Coralie\"],\"xaxis\":\"x\",\"y\":[3.25],\"yaxis\":\"y\",\"type\":\"bar\"},{\"alignmentgroup\":\"True\",\"hovertemplate\":\"Ingr\\u00e9dient=gingembre<br>Nom recette=%{x}<br>AG satur\\u00e9s (g/100 g)=%{y}<extra></extra>\",\"legendgroup\":\"gingembre\",\"marker\":{\"color\":\"#00cc96\",\"pattern\":{\"shape\":\"\"}},\"name\":\"gingembre\",\"offsetgroup\":\"gingembre\",\"orientation\":\"v\",\"showlegend\":true,\"textposition\":\"auto\",\"x\":[\"Tourte de No\\u00ebl v\\u00e9g\\u00e9tarienne de Coralie\"],\"xaxis\":\"x\",\"y\":[1.3],\"yaxis\":\"y\",\"type\":\"bar\"},{\"alignmentgroup\":\"True\",\"hovertemplate\":\"Ingr\\u00e9dient=madere<br>Nom recette=%{x}<br>AG satur\\u00e9s (g/100 g)=%{y}<extra></extra>\",\"legendgroup\":\"madere\",\"marker\":{\"color\":\"#ab63fa\",\"pattern\":{\"shape\":\"\"}},\"name\":\"madere\",\"offsetgroup\":\"madere\",\"orientation\":\"v\",\"showlegend\":true,\"textposition\":\"auto\",\"x\":[\"Tourte de No\\u00ebl v\\u00e9g\\u00e9tarienne de Coralie\"],\"xaxis\":\"x\",\"y\":[13.200000000000001],\"yaxis\":\"y\",\"type\":\"bar\"},{\"alignmentgroup\":\"True\",\"hovertemplate\":\"Ingr\\u00e9dient=marron<br>Nom recette=%{x}<br>AG satur\\u00e9s (g/100 g)=%{y}<extra></extra>\",\"legendgroup\":\"marron\",\"marker\":{\"color\":\"#FFA15A\",\"pattern\":{\"shape\":\"\"}},\"name\":\"marron\",\"offsetgroup\":\"marron\",\"orientation\":\"v\",\"showlegend\":true,\"textposition\":\"auto\",\"x\":[\"Tourte de No\\u00ebl v\\u00e9g\\u00e9tarienne de Coralie\"],\"xaxis\":\"x\",\"y\":[0.0],\"yaxis\":\"y\",\"type\":\"bar\"},{\"alignmentgroup\":\"True\",\"hovertemplate\":\"Ingr\\u00e9dient=miel<br>Nom recette=%{x}<br>AG satur\\u00e9s (g/100 g)=%{y}<extra></extra>\",\"legendgroup\":\"miel\",\"marker\":{\"color\":\"#19d3f3\",\"pattern\":{\"shape\":\"\"}},\"name\":\"miel\",\"offsetgroup\":\"miel\",\"orientation\":\"v\",\"showlegend\":true,\"textposition\":\"auto\",\"x\":[\"Tourte de No\\u00ebl v\\u00e9g\\u00e9tarienne de Coralie\"],\"xaxis\":\"x\",\"y\":[0.0],\"yaxis\":\"y\",\"type\":\"bar\"},{\"alignmentgroup\":\"True\",\"hovertemplate\":\"Ingr\\u00e9dient=pate feuilletee<br>Nom recette=%{x}<br>AG satur\\u00e9s (g/100 g)=%{y}<extra></extra>\",\"legendgroup\":\"pate feuilletee\",\"marker\":{\"color\":\"#FF6692\",\"pattern\":{\"shape\":\"\"}},\"name\":\"pate feuilletee\",\"offsetgroup\":\"pate feuilletee\",\"orientation\":\"v\",\"showlegend\":true,\"textposition\":\"auto\",\"x\":[\"Tourte de No\\u00ebl v\\u00e9g\\u00e9tarienne de Coralie\"],\"xaxis\":\"x\",\"y\":[636.0],\"yaxis\":\"y\",\"type\":\"bar\"},{\"alignmentgroup\":\"True\",\"hovertemplate\":\"Ingr\\u00e9dient=sucre en poudre<br>Nom recette=%{x}<br>AG satur\\u00e9s (g/100 g)=%{y}<extra></extra>\",\"legendgroup\":\"sucre en poudre\",\"marker\":{\"color\":\"#B6E880\",\"pattern\":{\"shape\":\"\"}},\"name\":\"sucre en poudre\",\"offsetgroup\":\"sucre en poudre\",\"orientation\":\"v\",\"showlegend\":true,\"textposition\":\"auto\",\"x\":[\"Tourte de No\\u00ebl v\\u00e9g\\u00e9tarienne de Coralie\"],\"xaxis\":\"x\",\"y\":[6.55],\"yaxis\":\"y\",\"type\":\"bar\"},{\"alignmentgroup\":\"True\",\"hovertemplate\":\"Ingr\\u00e9dient=thym<br>Nom recette=%{x}<br>AG satur\\u00e9s (g/100 g)=%{y}<extra></extra>\",\"legendgroup\":\"thym\",\"marker\":{\"color\":\"#FF97FF\",\"pattern\":{\"shape\":\"\"}},\"name\":\"thym\",\"offsetgroup\":\"thym\",\"orientation\":\"v\",\"showlegend\":true,\"textposition\":\"auto\",\"x\":[\"Tourte de No\\u00ebl v\\u00e9g\\u00e9tarienne de Coralie\"],\"xaxis\":\"x\",\"y\":[0.235],\"yaxis\":\"y\",\"type\":\"bar\"},{\"alignmentgroup\":\"True\",\"hovertemplate\":\"Ingr\\u00e9dient=vinaigre balsamique<br>Nom recette=%{x}<br>AG satur\\u00e9s (g/100 g)=%{y}<extra></extra>\",\"legendgroup\":\"vinaigre balsamique\",\"marker\":{\"color\":\"#FECB52\",\"pattern\":{\"shape\":\"\"}},\"name\":\"vinaigre balsamique\",\"offsetgroup\":\"vinaigre balsamique\",\"orientation\":\"v\",\"showlegend\":true,\"textposition\":\"auto\",\"x\":[\"Tourte de No\\u00ebl v\\u00e9g\\u00e9tarienne de Coralie\"],\"xaxis\":\"x\",\"y\":[0.0],\"yaxis\":\"y\",\"type\":\"bar\"}],                        {\"template\":{\"data\":{\"histogram2dcontour\":[{\"type\":\"histogram2dcontour\",\"colorbar\":{\"outlinewidth\":0,\"ticks\":\"\"},\"colorscale\":[[0.0,\"#0d0887\"],[0.1111111111111111,\"#46039f\"],[0.2222222222222222,\"#7201a8\"],[0.3333333333333333,\"#9c179e\"],[0.4444444444444444,\"#bd3786\"],[0.5555555555555556,\"#d8576b\"],[0.6666666666666666,\"#ed7953\"],[0.7777777777777778,\"#fb9f3a\"],[0.8888888888888888,\"#fdca26\"],[1.0,\"#f0f921\"]]}],\"choropleth\":[{\"type\":\"choropleth\",\"colorbar\":{\"outlinewidth\":0,\"ticks\":\"\"}}],\"histogram2d\":[{\"type\":\"histogram2d\",\"colorbar\":{\"outlinewidth\":0,\"ticks\":\"\"},\"colorscale\":[[0.0,\"#0d0887\"],[0.1111111111111111,\"#46039f\"],[0.2222222222222222,\"#7201a8\"],[0.3333333333333333,\"#9c179e\"],[0.4444444444444444,\"#bd3786\"],[0.5555555555555556,\"#d8576b\"],[0.6666666666666666,\"#ed7953\"],[0.7777777777777778,\"#fb9f3a\"],[0.8888888888888888,\"#fdca26\"],[1.0,\"#f0f921\"]]}],\"heatmap\":[{\"type\":\"heatmap\",\"colorbar\":{\"outlinewidth\":0,\"ticks\":\"\"},\"colorscale\":[[0.0,\"#0d0887\"],[0.1111111111111111,\"#46039f\"],[0.2222222222222222,\"#7201a8\"],[0.3333333333333333,\"#9c179e\"],[0.4444444444444444,\"#bd3786\"],[0.5555555555555556,\"#d8576b\"],[0.6666666666666666,\"#ed7953\"],[0.7777777777777778,\"#fb9f3a\"],[0.8888888888888888,\"#fdca26\"],[1.0,\"#f0f921\"]]}],\"heatmapgl\":[{\"type\":\"heatmapgl\",\"colorbar\":{\"outlinewidth\":0,\"ticks\":\"\"},\"colorscale\":[[0.0,\"#0d0887\"],[0.1111111111111111,\"#46039f\"],[0.2222222222222222,\"#7201a8\"],[0.3333333333333333,\"#9c179e\"],[0.4444444444444444,\"#bd3786\"],[0.5555555555555556,\"#d8576b\"],[0.6666666666666666,\"#ed7953\"],[0.7777777777777778,\"#fb9f3a\"],[0.8888888888888888,\"#fdca26\"],[1.0,\"#f0f921\"]]}],\"contourcarpet\":[{\"type\":\"contourcarpet\",\"colorbar\":{\"outlinewidth\":0,\"ticks\":\"\"}}],\"contour\":[{\"type\":\"contour\",\"colorbar\":{\"outlinewidth\":0,\"ticks\":\"\"},\"colorscale\":[[0.0,\"#0d0887\"],[0.1111111111111111,\"#46039f\"],[0.2222222222222222,\"#7201a8\"],[0.3333333333333333,\"#9c179e\"],[0.4444444444444444,\"#bd3786\"],[0.5555555555555556,\"#d8576b\"],[0.6666666666666666,\"#ed7953\"],[0.7777777777777778,\"#fb9f3a\"],[0.8888888888888888,\"#fdca26\"],[1.0,\"#f0f921\"]]}],\"surface\":[{\"type\":\"surface\",\"colorbar\":{\"outlinewidth\":0,\"ticks\":\"\"},\"colorscale\":[[0.0,\"#0d0887\"],[0.1111111111111111,\"#46039f\"],[0.2222222222222222,\"#7201a8\"],[0.3333333333333333,\"#9c179e\"],[0.4444444444444444,\"#bd3786\"],[0.5555555555555556,\"#d8576b\"],[0.6666666666666666,\"#ed7953\"],[0.7777777777777778,\"#fb9f3a\"],[0.8888888888888888,\"#fdca26\"],[1.0,\"#f0f921\"]]}],\"mesh3d\":[{\"type\":\"mesh3d\",\"colorbar\":{\"outlinewidth\":0,\"ticks\":\"\"}}],\"scatter\":[{\"fillpattern\":{\"fillmode\":\"overlay\",\"size\":10,\"solidity\":0.2},\"type\":\"scatter\"}],\"parcoords\":[{\"type\":\"parcoords\",\"line\":{\"colorbar\":{\"outlinewidth\":0,\"ticks\":\"\"}}}],\"scatterpolargl\":[{\"type\":\"scatterpolargl\",\"marker\":{\"colorbar\":{\"outlinewidth\":0,\"ticks\":\"\"}}}],\"bar\":[{\"error_x\":{\"color\":\"#2a3f5f\"},\"error_y\":{\"color\":\"#2a3f5f\"},\"marker\":{\"line\":{\"color\":\"#E5ECF6\",\"width\":0.5},\"pattern\":{\"fillmode\":\"overlay\",\"size\":10,\"solidity\":0.2}},\"type\":\"bar\"}],\"scattergeo\":[{\"type\":\"scattergeo\",\"marker\":{\"colorbar\":{\"outlinewidth\":0,\"ticks\":\"\"}}}],\"scatterpolar\":[{\"type\":\"scatterpolar\",\"marker\":{\"colorbar\":{\"outlinewidth\":0,\"ticks\":\"\"}}}],\"histogram\":[{\"marker\":{\"pattern\":{\"fillmode\":\"overlay\",\"size\":10,\"solidity\":0.2}},\"type\":\"histogram\"}],\"scattergl\":[{\"type\":\"scattergl\",\"marker\":{\"colorbar\":{\"outlinewidth\":0,\"ticks\":\"\"}}}],\"scatter3d\":[{\"type\":\"scatter3d\",\"line\":{\"colorbar\":{\"outlinewidth\":0,\"ticks\":\"\"}},\"marker\":{\"colorbar\":{\"outlinewidth\":0,\"ticks\":\"\"}}}],\"scattermapbox\":[{\"type\":\"scattermapbox\",\"marker\":{\"colorbar\":{\"outlinewidth\":0,\"ticks\":\"\"}}}],\"scatterternary\":[{\"type\":\"scatterternary\",\"marker\":{\"colorbar\":{\"outlinewidth\":0,\"ticks\":\"\"}}}],\"scattercarpet\":[{\"type\":\"scattercarpet\",\"marker\":{\"colorbar\":{\"outlinewidth\":0,\"ticks\":\"\"}}}],\"carpet\":[{\"aaxis\":{\"endlinecolor\":\"#2a3f5f\",\"gridcolor\":\"white\",\"linecolor\":\"white\",\"minorgridcolor\":\"white\",\"startlinecolor\":\"#2a3f5f\"},\"baxis\":{\"endlinecolor\":\"#2a3f5f\",\"gridcolor\":\"white\",\"linecolor\":\"white\",\"minorgridcolor\":\"white\",\"startlinecolor\":\"#2a3f5f\"},\"type\":\"carpet\"}],\"table\":[{\"cells\":{\"fill\":{\"color\":\"#EBF0F8\"},\"line\":{\"color\":\"white\"}},\"header\":{\"fill\":{\"color\":\"#C8D4E3\"},\"line\":{\"color\":\"white\"}},\"type\":\"table\"}],\"barpolar\":[{\"marker\":{\"line\":{\"color\":\"#E5ECF6\",\"width\":0.5},\"pattern\":{\"fillmode\":\"overlay\",\"size\":10,\"solidity\":0.2}},\"type\":\"barpolar\"}],\"pie\":[{\"automargin\":true,\"type\":\"pie\"}]},\"layout\":{\"autotypenumbers\":\"strict\",\"colorway\":[\"#636efa\",\"#EF553B\",\"#00cc96\",\"#ab63fa\",\"#FFA15A\",\"#19d3f3\",\"#FF6692\",\"#B6E880\",\"#FF97FF\",\"#FECB52\"],\"font\":{\"color\":\"#2a3f5f\"},\"hovermode\":\"closest\",\"hoverlabel\":{\"align\":\"left\"},\"paper_bgcolor\":\"white\",\"plot_bgcolor\":\"#E5ECF6\",\"polar\":{\"bgcolor\":\"#E5ECF6\",\"angularaxis\":{\"gridcolor\":\"white\",\"linecolor\":\"white\",\"ticks\":\"\"},\"radialaxis\":{\"gridcolor\":\"white\",\"linecolor\":\"white\",\"ticks\":\"\"}},\"ternary\":{\"bgcolor\":\"#E5ECF6\",\"aaxis\":{\"gridcolor\":\"white\",\"linecolor\":\"white\",\"ticks\":\"\"},\"baxis\":{\"gridcolor\":\"white\",\"linecolor\":\"white\",\"ticks\":\"\"},\"caxis\":{\"gridcolor\":\"white\",\"linecolor\":\"white\",\"ticks\":\"\"}},\"coloraxis\":{\"colorbar\":{\"outlinewidth\":0,\"ticks\":\"\"}},\"colorscale\":{\"sequential\":[[0.0,\"#0d0887\"],[0.1111111111111111,\"#46039f\"],[0.2222222222222222,\"#7201a8\"],[0.3333333333333333,\"#9c179e\"],[0.4444444444444444,\"#bd3786\"],[0.5555555555555556,\"#d8576b\"],[0.6666666666666666,\"#ed7953\"],[0.7777777777777778,\"#fb9f3a\"],[0.8888888888888888,\"#fdca26\"],[1.0,\"#f0f921\"]],\"sequentialminus\":[[0.0,\"#0d0887\"],[0.1111111111111111,\"#46039f\"],[0.2222222222222222,\"#7201a8\"],[0.3333333333333333,\"#9c179e\"],[0.4444444444444444,\"#bd3786\"],[0.5555555555555556,\"#d8576b\"],[0.6666666666666666,\"#ed7953\"],[0.7777777777777778,\"#fb9f3a\"],[0.8888888888888888,\"#fdca26\"],[1.0,\"#f0f921\"]],\"diverging\":[[0,\"#8e0152\"],[0.1,\"#c51b7d\"],[0.2,\"#de77ae\"],[0.3,\"#f1b6da\"],[0.4,\"#fde0ef\"],[0.5,\"#f7f7f7\"],[0.6,\"#e6f5d0\"],[0.7,\"#b8e186\"],[0.8,\"#7fbc41\"],[0.9,\"#4d9221\"],[1,\"#276419\"]]},\"xaxis\":{\"gridcolor\":\"white\",\"linecolor\":\"white\",\"ticks\":\"\",\"title\":{\"standoff\":15},\"zerolinecolor\":\"white\",\"automargin\":true,\"zerolinewidth\":2},\"yaxis\":{\"gridcolor\":\"white\",\"linecolor\":\"white\",\"ticks\":\"\",\"title\":{\"standoff\":15},\"zerolinecolor\":\"white\",\"automargin\":true,\"zerolinewidth\":2},\"scene\":{\"xaxis\":{\"backgroundcolor\":\"#E5ECF6\",\"gridcolor\":\"white\",\"linecolor\":\"white\",\"showbackground\":true,\"ticks\":\"\",\"zerolinecolor\":\"white\",\"gridwidth\":2},\"yaxis\":{\"backgroundcolor\":\"#E5ECF6\",\"gridcolor\":\"white\",\"linecolor\":\"white\",\"showbackground\":true,\"ticks\":\"\",\"zerolinecolor\":\"white\",\"gridwidth\":2},\"zaxis\":{\"backgroundcolor\":\"#E5ECF6\",\"gridcolor\":\"white\",\"linecolor\":\"white\",\"showbackground\":true,\"ticks\":\"\",\"zerolinecolor\":\"white\",\"gridwidth\":2}},\"shapedefaults\":{\"line\":{\"color\":\"#2a3f5f\"}},\"annotationdefaults\":{\"arrowcolor\":\"#2a3f5f\",\"arrowhead\":0,\"arrowwidth\":1},\"geo\":{\"bgcolor\":\"white\",\"landcolor\":\"#E5ECF6\",\"subunitcolor\":\"white\",\"showland\":true,\"showlakes\":true,\"lakecolor\":\"white\"},\"title\":{\"x\":0.05},\"mapbox\":{\"style\":\"light\"}}},\"xaxis\":{\"anchor\":\"y\",\"domain\":[0.0,1.0],\"title\":{\"text\":\"Nom recette\"}},\"yaxis\":{\"anchor\":\"x\",\"domain\":[0.0,1.0],\"title\":{\"text\":\"AG satur\\u00e9s (g/100 g)\"}},\"legend\":{\"title\":{\"text\":\"Ingr\\u00e9dient\"},\"tracegroupgap\":0},\"title\":{\"text\":\"AG satur\\u00e9s (g/100 g) pour 5 plats v\\u00e9g\\u00e9tariens\"},\"barmode\":\"relative\",\"height\":500,\"width\":800,\"showlegend\":false},                        {\"responsive\": true}                    ).then(function(){\n",
       "                            \n",
       "var gd = document.getElementById('1c0b56e5-323f-4d2c-8fe7-27ab6da5e98a');\n",
       "var x = new MutationObserver(function (mutations, observer) {{\n",
       "        var display = window.getComputedStyle(gd).display;\n",
       "        if (!display || display === 'none') {{\n",
       "            console.log([gd, 'removed!']);\n",
       "            Plotly.purge(gd);\n",
       "            observer.disconnect();\n",
       "        }}\n",
       "}});\n",
       "\n",
       "// Listen for the removal of the full notebook cells\n",
       "var notebookContainer = gd.closest('#notebook-container');\n",
       "if (notebookContainer) {{\n",
       "    x.observe(notebookContainer, {childList: true});\n",
       "}}\n",
       "\n",
       "// Listen for the clearing of the current output cell\n",
       "var outputEl = gd.closest('.output');\n",
       "if (outputEl) {{\n",
       "    x.observe(outputEl, {childList: true});\n",
       "}}\n",
       "\n",
       "                        })                };                });            </script>        </div>"
      ]
     },
     "metadata": {},
     "output_type": "display_data"
    }
   ],
   "source": [
    "fig = px.bar(result, x=\"Nom recette\", y=\"AG saturés (g/100 g)\", color=\"Ingrédient\", title=\"AG saturés (g/100 g) pour 5 plats végétariens\", width=800, height=500)\n",
    "fig.update_layout(showlegend=False)\n",
    "fig.show()"
   ]
  },
  {
   "cell_type": "code",
   "execution_count": 22,
   "id": "7f09d18e-4bfb-407c-9750-897a4992d0e6",
   "metadata": {},
   "outputs": [
    {
     "data": {
      "application/vnd.plotly.v1+json": {
       "config": {
        "plotlyServerURL": "https://plot.ly"
       },
       "data": [
        {
         "alignmentgroup": "True",
         "hovertemplate": "Ingrédient=ail<br>Nom recette=%{x}<br>Glucides (g/100 g)=%{y}<extra></extra>",
         "legendgroup": "ail",
         "marker": {
          "color": "#636efa",
          "pattern": {
           "shape": ""
          }
         },
         "name": "ail",
         "offsetgroup": "ail",
         "orientation": "v",
         "showlegend": true,
         "textposition": "auto",
         "type": "bar",
         "x": [
          "Curry de légumes végétarien",
          "Hachis parmentier végétarien",
          "Tourte de Noël végétarienne de Coralie"
         ],
         "xaxis": "x",
         "y": [
          471,
          157,
          1507.1999999999998
         ],
         "yaxis": "y"
        },
        {
         "alignmentgroup": "True",
         "hovertemplate": "Ingrédient=basilic<br>Nom recette=%{x}<br>Glucides (g/100 g)=%{y}<extra></extra>",
         "legendgroup": "basilic",
         "marker": {
          "color": "#EF553B",
          "pattern": {
           "shape": ""
          }
         },
         "name": "basilic",
         "offsetgroup": "basilic",
         "orientation": "v",
         "showlegend": true,
         "textposition": "auto",
         "type": "bar",
         "x": [
          "Curry de légumes végétarien"
         ],
         "xaxis": "x",
         "y": [
          5.1
         ],
         "yaxis": "y"
        },
        {
         "alignmentgroup": "True",
         "hovertemplate": "Ingrédient=carotte<br>Nom recette=%{x}<br>Glucides (g/100 g)=%{y}<extra></extra>",
         "legendgroup": "carotte",
         "marker": {
          "color": "#00cc96",
          "pattern": {
           "shape": ""
          }
         },
         "name": "carotte",
         "offsetgroup": "carotte",
         "orientation": "v",
         "showlegend": true,
         "textposition": "auto",
         "type": "bar",
         "x": [
          "Curry de légumes végétarien",
          "Hachis parmentier végétarien"
         ],
         "xaxis": "x",
         "y": [
          260,
          243.75
         ],
         "yaxis": "y"
        },
        {
         "alignmentgroup": "True",
         "hovertemplate": "Ingrédient=citron vert<br>Nom recette=%{x}<br>Glucides (g/100 g)=%{y}<extra></extra>",
         "legendgroup": "citron vert",
         "marker": {
          "color": "#ab63fa",
          "pattern": {
           "shape": ""
          }
         },
         "name": "citron vert",
         "offsetgroup": "citron vert",
         "orientation": "v",
         "showlegend": true,
         "textposition": "auto",
         "type": "bar",
         "x": [
          "Curry de légumes végétarien"
         ],
         "xaxis": "x",
         "y": [
          6.28
         ],
         "yaxis": "y"
        },
        {
         "alignmentgroup": "True",
         "hovertemplate": "Ingrédient=concentre de tomate<br>Nom recette=%{x}<br>Glucides (g/100 g)=%{y}<extra></extra>",
         "legendgroup": "concentre de tomate",
         "marker": {
          "color": "#FFA15A",
          "pattern": {
           "shape": ""
          }
         },
         "name": "concentre de tomate",
         "offsetgroup": "concentre de tomate",
         "orientation": "v",
         "showlegend": true,
         "textposition": "auto",
         "type": "bar",
         "x": [
          "Curry de légumes végétarien"
         ],
         "xaxis": "x",
         "y": [
          128.25
         ],
         "yaxis": "y"
        },
        {
         "alignmentgroup": "True",
         "hovertemplate": "Ingrédient=courgette<br>Nom recette=%{x}<br>Glucides (g/100 g)=%{y}<extra></extra>",
         "legendgroup": "courgette",
         "marker": {
          "color": "#19d3f3",
          "pattern": {
           "shape": ""
          }
         },
         "name": "courgette",
         "offsetgroup": "courgette",
         "orientation": "v",
         "showlegend": true,
         "textposition": "auto",
         "type": "bar",
         "x": [
          "Curry de légumes végétarien",
          "Lasagnes végétariennes (facile)"
         ],
         "xaxis": "x",
         "y": [
          140,
          280
         ],
         "yaxis": "y"
        },
        {
         "alignmentgroup": "True",
         "hovertemplate": "Ingrédient=creme de coco<br>Nom recette=%{x}<br>Glucides (g/100 g)=%{y}<extra></extra>",
         "legendgroup": "creme de coco",
         "marker": {
          "color": "#FF6692",
          "pattern": {
           "shape": ""
          }
         },
         "name": "creme de coco",
         "offsetgroup": "creme de coco",
         "orientation": "v",
         "showlegend": true,
         "textposition": "auto",
         "type": "bar",
         "x": [
          "Curry de légumes végétarien"
         ],
         "xaxis": "x",
         "y": [
          255
         ],
         "yaxis": "y"
        },
        {
         "alignmentgroup": "True",
         "hovertemplate": "Ingrédient=cumin<br>Nom recette=%{x}<br>Glucides (g/100 g)=%{y}<extra></extra>",
         "legendgroup": "cumin",
         "marker": {
          "color": "#B6E880",
          "pattern": {
           "shape": ""
          }
         },
         "name": "cumin",
         "offsetgroup": "cumin",
         "orientation": "v",
         "showlegend": true,
         "textposition": "auto",
         "type": "bar",
         "x": [
          "Curry de légumes végétarien"
         ],
         "xaxis": "x",
         "y": [
          63.18750000000001
         ],
         "yaxis": "y"
        },
        {
         "alignmentgroup": "True",
         "hovertemplate": "Ingrédient=echalote<br>Nom recette=%{x}<br>Glucides (g/100 g)=%{y}<extra></extra>",
         "legendgroup": "echalote",
         "marker": {
          "color": "#FF97FF",
          "pattern": {
           "shape": ""
          }
         },
         "name": "echalote",
         "offsetgroup": "echalote",
         "orientation": "v",
         "showlegend": true,
         "textposition": "auto",
         "type": "bar",
         "x": [
          "Curry de légumes végétarien",
          "Tourte de Noël végétarienne de Coralie"
         ],
         "xaxis": "x",
         "y": [
          369,
          98.4
         ],
         "yaxis": "y"
        },
        {
         "alignmentgroup": "True",
         "hovertemplate": "Ingrédient=patate douce<br>Nom recette=%{x}<br>Glucides (g/100 g)=%{y}<extra></extra>",
         "legendgroup": "patate douce",
         "marker": {
          "color": "#FECB52",
          "pattern": {
           "shape": ""
          }
         },
         "name": "patate douce",
         "offsetgroup": "patate douce",
         "orientation": "v",
         "showlegend": true,
         "textposition": "auto",
         "type": "bar",
         "x": [
          "Curry de légumes végétarien"
         ],
         "xaxis": "x",
         "y": [
          610
         ],
         "yaxis": "y"
        },
        {
         "alignmentgroup": "True",
         "hovertemplate": "Ingrédient=pate de curry<br>Nom recette=%{x}<br>Glucides (g/100 g)=%{y}<extra></extra>",
         "legendgroup": "pate de curry",
         "marker": {
          "color": "#636efa",
          "pattern": {
           "shape": ""
          }
         },
         "name": "pate de curry",
         "offsetgroup": "pate de curry",
         "orientation": "v",
         "showlegend": true,
         "textposition": "auto",
         "type": "bar",
         "x": [
          "Curry de légumes végétarien"
         ],
         "xaxis": "x",
         "y": [
          32.875
         ],
         "yaxis": "y"
        },
        {
         "alignmentgroup": "True",
         "hovertemplate": "Ingrédient=petit piment<br>Nom recette=%{x}<br>Glucides (g/100 g)=%{y}<extra></extra>",
         "legendgroup": "petit piment",
         "marker": {
          "color": "#EF553B",
          "pattern": {
           "shape": ""
          }
         },
         "name": "petit piment",
         "offsetgroup": "petit piment",
         "orientation": "v",
         "showlegend": true,
         "textposition": "auto",
         "type": "bar",
         "x": [
          "Curry de légumes végétarien"
         ],
         "xaxis": "x",
         "y": [
          57.75
         ],
         "yaxis": "y"
        },
        {
         "alignmentgroup": "True",
         "hovertemplate": "Ingrédient=poivre<br>Nom recette=%{x}<br>Glucides (g/100 g)=%{y}<extra></extra>",
         "legendgroup": "poivre",
         "marker": {
          "color": "#00cc96",
          "pattern": {
           "shape": ""
          }
         },
         "name": "poivre",
         "offsetgroup": "poivre",
         "orientation": "v",
         "showlegend": true,
         "textposition": "auto",
         "type": "bar",
         "x": [
          "Curry de légumes végétarien",
          "Lasagnes végétariennes (facile)"
         ],
         "xaxis": "x",
         "y": [
          79,
          79
         ],
         "yaxis": "y"
        },
        {
         "alignmentgroup": "True",
         "hovertemplate": "Ingrédient=sel<br>Nom recette=%{x}<br>Glucides (g/100 g)=%{y}<extra></extra>",
         "legendgroup": "sel",
         "marker": {
          "color": "#ab63fa",
          "pattern": {
           "shape": ""
          }
         },
         "name": "sel",
         "offsetgroup": "sel",
         "orientation": "v",
         "showlegend": true,
         "textposition": "auto",
         "type": "bar",
         "x": [
          "Curry de légumes végétarien",
          "Lasagnes végétariennes (facile)"
         ],
         "xaxis": "x",
         "y": [
          0,
          0
         ],
         "yaxis": "y"
        },
        {
         "alignmentgroup": "True",
         "hovertemplate": "Ingrédient=celeri<br>Nom recette=%{x}<br>Glucides (g/100 g)=%{y}<extra></extra>",
         "legendgroup": "celeri",
         "marker": {
          "color": "#FFA15A",
          "pattern": {
           "shape": ""
          }
         },
         "name": "celeri",
         "offsetgroup": "celeri",
         "orientation": "v",
         "showlegend": true,
         "textposition": "auto",
         "type": "bar",
         "x": [
          "Hachis parmentier végétarien"
         ],
         "xaxis": "x",
         "y": [
          11.5
         ],
         "yaxis": "y"
        },
        {
         "alignmentgroup": "True",
         "hovertemplate": "Ingrédient=huile d'olive<br>Nom recette=%{x}<br>Glucides (g/100 g)=%{y}<extra></extra>",
         "legendgroup": "huile d'olive",
         "marker": {
          "color": "#19d3f3",
          "pattern": {
           "shape": ""
          }
         },
         "name": "huile d'olive",
         "offsetgroup": "huile d'olive",
         "orientation": "v",
         "showlegend": true,
         "textposition": "auto",
         "type": "bar",
         "x": [
          "Hachis parmentier végétarien",
          "Tourte de Noël végétarienne de Coralie"
         ],
         "xaxis": "x",
         "y": [
          0,
          0
         ],
         "yaxis": "y"
        },
        {
         "alignmentgroup": "True",
         "hovertemplate": "Ingrédient=navet<br>Nom recette=%{x}<br>Glucides (g/100 g)=%{y}<extra></extra>",
         "legendgroup": "navet",
         "marker": {
          "color": "#FF6692",
          "pattern": {
           "shape": ""
          }
         },
         "name": "navet",
         "offsetgroup": "navet",
         "orientation": "v",
         "showlegend": true,
         "textposition": "auto",
         "type": "bar",
         "x": [
          "Hachis parmentier végétarien"
         ],
         "xaxis": "x",
         "y": [
          237.5
         ],
         "yaxis": "y"
        },
        {
         "alignmentgroup": "True",
         "hovertemplate": "Ingrédient=oignon<br>Nom recette=%{x}<br>Glucides (g/100 g)=%{y}<extra></extra>",
         "legendgroup": "oignon",
         "marker": {
          "color": "#B6E880",
          "pattern": {
           "shape": ""
          }
         },
         "name": "oignon",
         "offsetgroup": "oignon",
         "orientation": "v",
         "showlegend": true,
         "textposition": "auto",
         "type": "bar",
         "x": [
          "Hachis parmentier végétarien",
          "Hamburger Végétarien ",
          "Lasagnes végétariennes (facile)"
         ],
         "xaxis": "x",
         "y": [
          336.5,
          134.60000000000002,
          673
         ],
         "yaxis": "y"
        },
        {
         "alignmentgroup": "True",
         "hovertemplate": "Ingrédient=pain de mie<br>Nom recette=%{x}<br>Glucides (g/100 g)=%{y}<extra></extra>",
         "legendgroup": "pain de mie",
         "marker": {
          "color": "#FF97FF",
          "pattern": {
           "shape": ""
          }
         },
         "name": "pain de mie",
         "offsetgroup": "pain de mie",
         "orientation": "v",
         "showlegend": true,
         "textposition": "auto",
         "type": "bar",
         "x": [
          "Hachis parmentier végétarien"
         ],
         "xaxis": "x",
         "y": [
          27.84
         ],
         "yaxis": "y"
        },
        {
         "alignmentgroup": "True",
         "hovertemplate": "Ingrédient=persil<br>Nom recette=%{x}<br>Glucides (g/100 g)=%{y}<extra></extra>",
         "legendgroup": "persil",
         "marker": {
          "color": "#FECB52",
          "pattern": {
           "shape": ""
          }
         },
         "name": "persil",
         "offsetgroup": "persil",
         "orientation": "v",
         "showlegend": true,
         "textposition": "auto",
         "type": "bar",
         "x": [
          "Hachis parmentier végétarien"
         ],
         "xaxis": "x",
         "y": [
          17.4
         ],
         "yaxis": "y"
        },
        {
         "alignmentgroup": "True",
         "hovertemplate": "Ingrédient=poireau<br>Nom recette=%{x}<br>Glucides (g/100 g)=%{y}<extra></extra>",
         "legendgroup": "poireau",
         "marker": {
          "color": "#636efa",
          "pattern": {
           "shape": ""
          }
         },
         "name": "poireau",
         "offsetgroup": "poireau",
         "orientation": "v",
         "showlegend": true,
         "textposition": "auto",
         "type": "bar",
         "x": [
          "Hachis parmentier végétarien"
         ],
         "xaxis": "x",
         "y": [
          66.9
         ],
         "yaxis": "y"
        },
        {
         "alignmentgroup": "True",
         "hovertemplate": "Ingrédient=pommes de terre<br>Nom recette=%{x}<br>Glucides (g/100 g)=%{y}<extra></extra>",
         "legendgroup": "pommes de terre",
         "marker": {
          "color": "#EF553B",
          "pattern": {
           "shape": ""
          }
         },
         "name": "pommes de terre",
         "offsetgroup": "pommes de terre",
         "orientation": "v",
         "showlegend": true,
         "textposition": "auto",
         "type": "bar",
         "x": [
          "Hachis parmentier végétarien"
         ],
         "xaxis": "x",
         "y": [
          3517.5000000000005
         ],
         "yaxis": "y"
        },
        {
         "alignmentgroup": "True",
         "hovertemplate": "Ingrédient=sauce soja<br>Nom recette=%{x}<br>Glucides (g/100 g)=%{y}<extra></extra>",
         "legendgroup": "sauce soja",
         "marker": {
          "color": "#00cc96",
          "pattern": {
           "shape": ""
          }
         },
         "name": "sauce soja",
         "offsetgroup": "sauce soja",
         "orientation": "v",
         "showlegend": true,
         "textposition": "auto",
         "type": "bar",
         "x": [
          "Hachis parmentier végétarien"
         ],
         "xaxis": "x",
         "y": [
          4.55
         ],
         "yaxis": "y"
        },
        {
         "alignmentgroup": "True",
         "hovertemplate": "Ingrédient=chapelure<br>Nom recette=%{x}<br>Glucides (g/100 g)=%{y}<extra></extra>",
         "legendgroup": "chapelure",
         "marker": {
          "color": "#ab63fa",
          "pattern": {
           "shape": ""
          }
         },
         "name": "chapelure",
         "offsetgroup": "chapelure",
         "orientation": "v",
         "showlegend": true,
         "textposition": "auto",
         "type": "bar",
         "x": [
          "Hamburger Végétarien "
         ],
         "xaxis": "x",
         "y": [
          140
         ],
         "yaxis": "y"
        },
        {
         "alignmentgroup": "True",
         "hovertemplate": "Ingrédient=cornichon<br>Nom recette=%{x}<br>Glucides (g/100 g)=%{y}<extra></extra>",
         "legendgroup": "cornichon",
         "marker": {
          "color": "#FFA15A",
          "pattern": {
           "shape": ""
          }
         },
         "name": "cornichon",
         "offsetgroup": "cornichon",
         "orientation": "v",
         "showlegend": true,
         "textposition": "auto",
         "type": "bar",
         "x": [
          "Hamburger Végétarien "
         ],
         "xaxis": "x",
         "y": [
          1.56
         ],
         "yaxis": "y"
        },
        {
         "alignmentgroup": "True",
         "hovertemplate": "Ingrédient=epice<br>Nom recette=%{x}<br>Glucides (g/100 g)=%{y}<extra></extra>",
         "legendgroup": "epice",
         "marker": {
          "color": "#19d3f3",
          "pattern": {
           "shape": ""
          }
         },
         "name": "epice",
         "offsetgroup": "epice",
         "orientation": "v",
         "showlegend": true,
         "textposition": "auto",
         "type": "bar",
         "x": [
          "Hamburger Végétarien "
         ],
         "xaxis": "x",
         "y": [
          75.4
         ],
         "yaxis": "y"
        },
        {
         "alignmentgroup": "True",
         "hovertemplate": "Ingrédient=farine<br>Nom recette=%{x}<br>Glucides (g/100 g)=%{y}<extra></extra>",
         "legendgroup": "farine",
         "marker": {
          "color": "#FF6692",
          "pattern": {
           "shape": ""
          }
         },
         "name": "farine",
         "offsetgroup": "farine",
         "orientation": "v",
         "showlegend": true,
         "textposition": "auto",
         "type": "bar",
         "x": [
          "Hamburger Végétarien "
         ],
         "xaxis": "x",
         "y": [
          455.40000000000003
         ],
         "yaxis": "y"
        },
        {
         "alignmentgroup": "True",
         "hovertemplate": "Ingrédient=mayonnaise<br>Nom recette=%{x}<br>Glucides (g/100 g)=%{y}<extra></extra>",
         "legendgroup": "mayonnaise",
         "marker": {
          "color": "#B6E880",
          "pattern": {
           "shape": ""
          }
         },
         "name": "mayonnaise",
         "offsetgroup": "mayonnaise",
         "orientation": "v",
         "showlegend": true,
         "textposition": "auto",
         "type": "bar",
         "x": [
          "Hamburger Végétarien "
         ],
         "xaxis": "x",
         "y": [
          5.24
         ],
         "yaxis": "y"
        },
        {
         "alignmentgroup": "True",
         "hovertemplate": "Ingrédient=oeuf<br>Nom recette=%{x}<br>Glucides (g/100 g)=%{y}<extra></extra>",
         "legendgroup": "oeuf",
         "marker": {
          "color": "#FF97FF",
          "pattern": {
           "shape": ""
          }
         },
         "name": "oeuf",
         "offsetgroup": "oeuf",
         "orientation": "v",
         "showlegend": true,
         "textposition": "auto",
         "type": "bar",
         "x": [
          "Hamburger Végétarien ",
          "Tourte de Noël végétarienne de Coralie"
         ],
         "xaxis": "x",
         "y": [
          7.81,
          3.905
         ],
         "yaxis": "y"
        },
        {
         "alignmentgroup": "True",
         "hovertemplate": "Ingrédient=pains pour hamburger<br>Nom recette=%{x}<br>Glucides (g/100 g)=%{y}<extra></extra>",
         "legendgroup": "pains pour hamburger",
         "marker": {
          "color": "#FECB52",
          "pattern": {
           "shape": ""
          }
         },
         "name": "pains pour hamburger",
         "offsetgroup": "pains pour hamburger",
         "orientation": "v",
         "showlegend": true,
         "textposition": "auto",
         "type": "bar",
         "x": [
          "Hamburger Végétarien "
         ],
         "xaxis": "x",
         "y": [
          4771.200000000001
         ],
         "yaxis": "y"
        },
        {
         "alignmentgroup": "True",
         "hovertemplate": "Ingrédient=salade<br>Nom recette=%{x}<br>Glucides (g/100 g)=%{y}<extra></extra>",
         "legendgroup": "salade",
         "marker": {
          "color": "#636efa",
          "pattern": {
           "shape": ""
          }
         },
         "name": "salade",
         "offsetgroup": "salade",
         "orientation": "v",
         "showlegend": true,
         "textposition": "auto",
         "type": "bar",
         "x": [
          "Hamburger Végétarien "
         ],
         "xaxis": "x",
         "y": [
          0.8240000000000001
         ],
         "yaxis": "y"
        },
        {
         "alignmentgroup": "True",
         "hovertemplate": "Ingrédient=toastinette<br>Nom recette=%{x}<br>Glucides (g/100 g)=%{y}<extra></extra>",
         "legendgroup": "toastinette",
         "marker": {
          "color": "#EF553B",
          "pattern": {
           "shape": ""
          }
         },
         "name": "toastinette",
         "offsetgroup": "toastinette",
         "orientation": "v",
         "showlegend": true,
         "textposition": "auto",
         "type": "bar",
         "x": [
          "Hamburger Végétarien "
         ],
         "xaxis": "x",
         "y": [
          136.704
         ],
         "yaxis": "y"
        },
        {
         "alignmentgroup": "True",
         "hovertemplate": "Ingrédient=basilic frais<br>Nom recette=%{x}<br>Glucides (g/100 g)=%{y}<extra></extra>",
         "legendgroup": "basilic frais",
         "marker": {
          "color": "#00cc96",
          "pattern": {
           "shape": ""
          }
         },
         "name": "basilic frais",
         "offsetgroup": "basilic frais",
         "orientation": "v",
         "showlegend": true,
         "textposition": "auto",
         "type": "bar",
         "x": [
          "Lasagnes végétariennes (facile)"
         ],
         "xaxis": "x",
         "y": [
          5.1
         ],
         "yaxis": "y"
        },
        {
         "alignmentgroup": "True",
         "hovertemplate": "Ingrédient=bechamel<br>Nom recette=%{x}<br>Glucides (g/100 g)=%{y}<extra></extra>",
         "legendgroup": "bechamel",
         "marker": {
          "color": "#ab63fa",
          "pattern": {
           "shape": ""
          }
         },
         "name": "bechamel",
         "offsetgroup": "bechamel",
         "orientation": "v",
         "showlegend": true,
         "textposition": "auto",
         "type": "bar",
         "x": [
          "Lasagnes végétariennes (facile)"
         ],
         "xaxis": "x",
         "y": [
          775
         ],
         "yaxis": "y"
        },
        {
         "alignmentgroup": "True",
         "hovertemplate": "Ingrédient=coulis de tomate<br>Nom recette=%{x}<br>Glucides (g/100 g)=%{y}<extra></extra>",
         "legendgroup": "coulis de tomate",
         "marker": {
          "color": "#FFA15A",
          "pattern": {
           "shape": ""
          }
         },
         "name": "coulis de tomate",
         "offsetgroup": "coulis de tomate",
         "orientation": "v",
         "showlegend": true,
         "textposition": "auto",
         "type": "bar",
         "x": [
          "Lasagnes végétariennes (facile)"
         ],
         "xaxis": "x",
         "y": [
          426.49999999999994
         ],
         "yaxis": "y"
        },
        {
         "alignmentgroup": "True",
         "hovertemplate": "Ingrédient=gruyere rape<br>Nom recette=%{x}<br>Glucides (g/100 g)=%{y}<extra></extra>",
         "legendgroup": "gruyere rape",
         "marker": {
          "color": "#19d3f3",
          "pattern": {
           "shape": ""
          }
         },
         "name": "gruyere rape",
         "offsetgroup": "gruyere rape",
         "orientation": "v",
         "showlegend": true,
         "textposition": "auto",
         "type": "bar",
         "x": [
          "Lasagnes végétariennes (facile)"
         ],
         "xaxis": "x",
         "y": [
          0
         ],
         "yaxis": "y"
        },
        {
         "alignmentgroup": "True",
         "hovertemplate": "Ingrédient=herbes de Provence<br>Nom recette=%{x}<br>Glucides (g/100 g)=%{y}<extra></extra>",
         "legendgroup": "herbes de Provence",
         "marker": {
          "color": "#FF6692",
          "pattern": {
           "shape": ""
          }
         },
         "name": "herbes de Provence",
         "offsetgroup": "herbes de Provence",
         "orientation": "v",
         "showlegend": true,
         "textposition": "auto",
         "type": "bar",
         "x": [
          "Lasagnes végétariennes (facile)"
         ],
         "xaxis": "x",
         "y": [
          46
         ],
         "yaxis": "y"
        },
        {
         "alignmentgroup": "True",
         "hovertemplate": "Ingrédient=lasagne<br>Nom recette=%{x}<br>Glucides (g/100 g)=%{y}<extra></extra>",
         "legendgroup": "lasagne",
         "marker": {
          "color": "#B6E880",
          "pattern": {
           "shape": ""
          }
         },
         "name": "lasagne",
         "offsetgroup": "lasagne",
         "orientation": "v",
         "showlegend": true,
         "textposition": "auto",
         "type": "bar",
         "x": [
          "Lasagnes végétariennes (facile)"
         ],
         "xaxis": "x",
         "y": [
          28
         ],
         "yaxis": "y"
        },
        {
         "alignmentgroup": "True",
         "hovertemplate": "Ingrédient=tomate<br>Nom recette=%{x}<br>Glucides (g/100 g)=%{y}<extra></extra>",
         "legendgroup": "tomate",
         "marker": {
          "color": "#FF97FF",
          "pattern": {
           "shape": ""
          }
         },
         "name": "tomate",
         "offsetgroup": "tomate",
         "orientation": "v",
         "showlegend": true,
         "textposition": "auto",
         "type": "bar",
         "x": [
          "Lasagnes végétariennes (facile)",
          "Tourte de Noël végétarienne de Coralie"
         ],
         "xaxis": "x",
         "y": [
          568.125,
          37.875
         ],
         "yaxis": "y"
        },
        {
         "alignmentgroup": "True",
         "hovertemplate": "Ingrédient=beurre<br>Nom recette=%{x}<br>Glucides (g/100 g)=%{y}<extra></extra>",
         "legendgroup": "beurre",
         "marker": {
          "color": "#FECB52",
          "pattern": {
           "shape": ""
          }
         },
         "name": "beurre",
         "offsetgroup": "beurre",
         "orientation": "v",
         "showlegend": true,
         "textposition": "auto",
         "type": "bar",
         "x": [
          "Tourte de Noël végétarienne de Coralie"
         ],
         "xaxis": "x",
         "y": [
          1.8
         ],
         "yaxis": "y"
        },
        {
         "alignmentgroup": "True",
         "hovertemplate": "Ingrédient=champignon<br>Nom recette=%{x}<br>Glucides (g/100 g)=%{y}<extra></extra>",
         "legendgroup": "champignon",
         "marker": {
          "color": "#636efa",
          "pattern": {
           "shape": ""
          }
         },
         "name": "champignon",
         "offsetgroup": "champignon",
         "orientation": "v",
         "showlegend": true,
         "textposition": "auto",
         "type": "bar",
         "x": [
          "Tourte de Noël végétarienne de Coralie"
         ],
         "xaxis": "x",
         "y": [
          51.699999999999996
         ],
         "yaxis": "y"
        },
        {
         "alignmentgroup": "True",
         "hovertemplate": "Ingrédient=epinard<br>Nom recette=%{x}<br>Glucides (g/100 g)=%{y}<extra></extra>",
         "legendgroup": "epinard",
         "marker": {
          "color": "#EF553B",
          "pattern": {
           "shape": ""
          }
         },
         "name": "epinard",
         "offsetgroup": "epinard",
         "orientation": "v",
         "showlegend": true,
         "textposition": "auto",
         "type": "bar",
         "x": [
          "Tourte de Noël végétarienne de Coralie"
         ],
         "xaxis": "x",
         "y": [
          0
         ],
         "yaxis": "y"
        },
        {
         "alignmentgroup": "True",
         "hovertemplate": "Ingrédient=gingembre<br>Nom recette=%{x}<br>Glucides (g/100 g)=%{y}<extra></extra>",
         "legendgroup": "gingembre",
         "marker": {
          "color": "#00cc96",
          "pattern": {
           "shape": ""
          }
         },
         "name": "gingembre",
         "offsetgroup": "gingembre",
         "orientation": "v",
         "showlegend": true,
         "textposition": "auto",
         "type": "bar",
         "x": [
          "Tourte de Noël végétarienne de Coralie"
         ],
         "xaxis": "x",
         "y": [
          29.15
         ],
         "yaxis": "y"
        },
        {
         "alignmentgroup": "True",
         "hovertemplate": "Ingrédient=madere<br>Nom recette=%{x}<br>Glucides (g/100 g)=%{y}<extra></extra>",
         "legendgroup": "madere",
         "marker": {
          "color": "#ab63fa",
          "pattern": {
           "shape": ""
          }
         },
         "name": "madere",
         "offsetgroup": "madere",
         "orientation": "v",
         "showlegend": true,
         "textposition": "auto",
         "type": "bar",
         "x": [
          "Tourte de Noël végétarienne de Coralie"
         ],
         "xaxis": "x",
         "y": [
          43.2
         ],
         "yaxis": "y"
        },
        {
         "alignmentgroup": "True",
         "hovertemplate": "Ingrédient=marron<br>Nom recette=%{x}<br>Glucides (g/100 g)=%{y}<extra></extra>",
         "legendgroup": "marron",
         "marker": {
          "color": "#FFA15A",
          "pattern": {
           "shape": ""
          }
         },
         "name": "marron",
         "offsetgroup": "marron",
         "orientation": "v",
         "showlegend": true,
         "textposition": "auto",
         "type": "bar",
         "x": [
          "Tourte de Noël végétarienne de Coralie"
         ],
         "xaxis": "x",
         "y": [
          3180
         ],
         "yaxis": "y"
        },
        {
         "alignmentgroup": "True",
         "hovertemplate": "Ingrédient=miel<br>Nom recette=%{x}<br>Glucides (g/100 g)=%{y}<extra></extra>",
         "legendgroup": "miel",
         "marker": {
          "color": "#19d3f3",
          "pattern": {
           "shape": ""
          }
         },
         "name": "miel",
         "offsetgroup": "miel",
         "orientation": "v",
         "showlegend": true,
         "textposition": "auto",
         "type": "bar",
         "x": [
          "Tourte de Noël végétarienne de Coralie"
         ],
         "xaxis": "x",
         "y": [
          245.10000000000002
         ],
         "yaxis": "y"
        },
        {
         "alignmentgroup": "True",
         "hovertemplate": "Ingrédient=pate feuilletee<br>Nom recette=%{x}<br>Glucides (g/100 g)=%{y}<extra></extra>",
         "legendgroup": "pate feuilletee",
         "marker": {
          "color": "#FF6692",
          "pattern": {
           "shape": ""
          }
         },
         "name": "pate feuilletee",
         "offsetgroup": "pate feuilletee",
         "orientation": "v",
         "showlegend": true,
         "textposition": "auto",
         "type": "bar",
         "x": [
          "Tourte de Noël végétarienne de Coralie"
         ],
         "xaxis": "x",
         "y": [
          2164
         ],
         "yaxis": "y"
        },
        {
         "alignmentgroup": "True",
         "hovertemplate": "Ingrédient=sucre en poudre<br>Nom recette=%{x}<br>Glucides (g/100 g)=%{y}<extra></extra>",
         "legendgroup": "sucre en poudre",
         "marker": {
          "color": "#B6E880",
          "pattern": {
           "shape": ""
          }
         },
         "name": "sucre en poudre",
         "offsetgroup": "sucre en poudre",
         "orientation": "v",
         "showlegend": true,
         "textposition": "auto",
         "type": "bar",
         "x": [
          "Tourte de Noël végétarienne de Coralie"
         ],
         "xaxis": "x",
         "y": [
          1.555
         ],
         "yaxis": "y"
        },
        {
         "alignmentgroup": "True",
         "hovertemplate": "Ingrédient=thym<br>Nom recette=%{x}<br>Glucides (g/100 g)=%{y}<extra></extra>",
         "legendgroup": "thym",
         "marker": {
          "color": "#FF97FF",
          "pattern": {
           "shape": ""
          }
         },
         "name": "thym",
         "offsetgroup": "thym",
         "orientation": "v",
         "showlegend": true,
         "textposition": "auto",
         "type": "bar",
         "x": [
          "Tourte de Noël végétarienne de Coralie"
         ],
         "xaxis": "x",
         "y": [
          5.25
         ],
         "yaxis": "y"
        },
        {
         "alignmentgroup": "True",
         "hovertemplate": "Ingrédient=vinaigre balsamique<br>Nom recette=%{x}<br>Glucides (g/100 g)=%{y}<extra></extra>",
         "legendgroup": "vinaigre balsamique",
         "marker": {
          "color": "#FECB52",
          "pattern": {
           "shape": ""
          }
         },
         "name": "vinaigre balsamique",
         "offsetgroup": "vinaigre balsamique",
         "orientation": "v",
         "showlegend": true,
         "textposition": "auto",
         "type": "bar",
         "x": [
          "Tourte de Noël végétarienne de Coralie"
         ],
         "xaxis": "x",
         "y": [
          77.4
         ],
         "yaxis": "y"
        }
       ],
       "layout": {
        "barmode": "relative",
        "height": 500,
        "legend": {
         "title": {
          "text": "Ingrédient"
         },
         "tracegroupgap": 0
        },
        "showlegend": false,
        "template": {
         "data": {
          "bar": [
           {
            "error_x": {
             "color": "#2a3f5f"
            },
            "error_y": {
             "color": "#2a3f5f"
            },
            "marker": {
             "line": {
              "color": "#E5ECF6",
              "width": 0.5
             },
             "pattern": {
              "fillmode": "overlay",
              "size": 10,
              "solidity": 0.2
             }
            },
            "type": "bar"
           }
          ],
          "barpolar": [
           {
            "marker": {
             "line": {
              "color": "#E5ECF6",
              "width": 0.5
             },
             "pattern": {
              "fillmode": "overlay",
              "size": 10,
              "solidity": 0.2
             }
            },
            "type": "barpolar"
           }
          ],
          "carpet": [
           {
            "aaxis": {
             "endlinecolor": "#2a3f5f",
             "gridcolor": "white",
             "linecolor": "white",
             "minorgridcolor": "white",
             "startlinecolor": "#2a3f5f"
            },
            "baxis": {
             "endlinecolor": "#2a3f5f",
             "gridcolor": "white",
             "linecolor": "white",
             "minorgridcolor": "white",
             "startlinecolor": "#2a3f5f"
            },
            "type": "carpet"
           }
          ],
          "choropleth": [
           {
            "colorbar": {
             "outlinewidth": 0,
             "ticks": ""
            },
            "type": "choropleth"
           }
          ],
          "contour": [
           {
            "colorbar": {
             "outlinewidth": 0,
             "ticks": ""
            },
            "colorscale": [
             [
              0,
              "#0d0887"
             ],
             [
              0.1111111111111111,
              "#46039f"
             ],
             [
              0.2222222222222222,
              "#7201a8"
             ],
             [
              0.3333333333333333,
              "#9c179e"
             ],
             [
              0.4444444444444444,
              "#bd3786"
             ],
             [
              0.5555555555555556,
              "#d8576b"
             ],
             [
              0.6666666666666666,
              "#ed7953"
             ],
             [
              0.7777777777777778,
              "#fb9f3a"
             ],
             [
              0.8888888888888888,
              "#fdca26"
             ],
             [
              1,
              "#f0f921"
             ]
            ],
            "type": "contour"
           }
          ],
          "contourcarpet": [
           {
            "colorbar": {
             "outlinewidth": 0,
             "ticks": ""
            },
            "type": "contourcarpet"
           }
          ],
          "heatmap": [
           {
            "colorbar": {
             "outlinewidth": 0,
             "ticks": ""
            },
            "colorscale": [
             [
              0,
              "#0d0887"
             ],
             [
              0.1111111111111111,
              "#46039f"
             ],
             [
              0.2222222222222222,
              "#7201a8"
             ],
             [
              0.3333333333333333,
              "#9c179e"
             ],
             [
              0.4444444444444444,
              "#bd3786"
             ],
             [
              0.5555555555555556,
              "#d8576b"
             ],
             [
              0.6666666666666666,
              "#ed7953"
             ],
             [
              0.7777777777777778,
              "#fb9f3a"
             ],
             [
              0.8888888888888888,
              "#fdca26"
             ],
             [
              1,
              "#f0f921"
             ]
            ],
            "type": "heatmap"
           }
          ],
          "heatmapgl": [
           {
            "colorbar": {
             "outlinewidth": 0,
             "ticks": ""
            },
            "colorscale": [
             [
              0,
              "#0d0887"
             ],
             [
              0.1111111111111111,
              "#46039f"
             ],
             [
              0.2222222222222222,
              "#7201a8"
             ],
             [
              0.3333333333333333,
              "#9c179e"
             ],
             [
              0.4444444444444444,
              "#bd3786"
             ],
             [
              0.5555555555555556,
              "#d8576b"
             ],
             [
              0.6666666666666666,
              "#ed7953"
             ],
             [
              0.7777777777777778,
              "#fb9f3a"
             ],
             [
              0.8888888888888888,
              "#fdca26"
             ],
             [
              1,
              "#f0f921"
             ]
            ],
            "type": "heatmapgl"
           }
          ],
          "histogram": [
           {
            "marker": {
             "pattern": {
              "fillmode": "overlay",
              "size": 10,
              "solidity": 0.2
             }
            },
            "type": "histogram"
           }
          ],
          "histogram2d": [
           {
            "colorbar": {
             "outlinewidth": 0,
             "ticks": ""
            },
            "colorscale": [
             [
              0,
              "#0d0887"
             ],
             [
              0.1111111111111111,
              "#46039f"
             ],
             [
              0.2222222222222222,
              "#7201a8"
             ],
             [
              0.3333333333333333,
              "#9c179e"
             ],
             [
              0.4444444444444444,
              "#bd3786"
             ],
             [
              0.5555555555555556,
              "#d8576b"
             ],
             [
              0.6666666666666666,
              "#ed7953"
             ],
             [
              0.7777777777777778,
              "#fb9f3a"
             ],
             [
              0.8888888888888888,
              "#fdca26"
             ],
             [
              1,
              "#f0f921"
             ]
            ],
            "type": "histogram2d"
           }
          ],
          "histogram2dcontour": [
           {
            "colorbar": {
             "outlinewidth": 0,
             "ticks": ""
            },
            "colorscale": [
             [
              0,
              "#0d0887"
             ],
             [
              0.1111111111111111,
              "#46039f"
             ],
             [
              0.2222222222222222,
              "#7201a8"
             ],
             [
              0.3333333333333333,
              "#9c179e"
             ],
             [
              0.4444444444444444,
              "#bd3786"
             ],
             [
              0.5555555555555556,
              "#d8576b"
             ],
             [
              0.6666666666666666,
              "#ed7953"
             ],
             [
              0.7777777777777778,
              "#fb9f3a"
             ],
             [
              0.8888888888888888,
              "#fdca26"
             ],
             [
              1,
              "#f0f921"
             ]
            ],
            "type": "histogram2dcontour"
           }
          ],
          "mesh3d": [
           {
            "colorbar": {
             "outlinewidth": 0,
             "ticks": ""
            },
            "type": "mesh3d"
           }
          ],
          "parcoords": [
           {
            "line": {
             "colorbar": {
              "outlinewidth": 0,
              "ticks": ""
             }
            },
            "type": "parcoords"
           }
          ],
          "pie": [
           {
            "automargin": true,
            "type": "pie"
           }
          ],
          "scatter": [
           {
            "fillpattern": {
             "fillmode": "overlay",
             "size": 10,
             "solidity": 0.2
            },
            "type": "scatter"
           }
          ],
          "scatter3d": [
           {
            "line": {
             "colorbar": {
              "outlinewidth": 0,
              "ticks": ""
             }
            },
            "marker": {
             "colorbar": {
              "outlinewidth": 0,
              "ticks": ""
             }
            },
            "type": "scatter3d"
           }
          ],
          "scattercarpet": [
           {
            "marker": {
             "colorbar": {
              "outlinewidth": 0,
              "ticks": ""
             }
            },
            "type": "scattercarpet"
           }
          ],
          "scattergeo": [
           {
            "marker": {
             "colorbar": {
              "outlinewidth": 0,
              "ticks": ""
             }
            },
            "type": "scattergeo"
           }
          ],
          "scattergl": [
           {
            "marker": {
             "colorbar": {
              "outlinewidth": 0,
              "ticks": ""
             }
            },
            "type": "scattergl"
           }
          ],
          "scattermapbox": [
           {
            "marker": {
             "colorbar": {
              "outlinewidth": 0,
              "ticks": ""
             }
            },
            "type": "scattermapbox"
           }
          ],
          "scatterpolar": [
           {
            "marker": {
             "colorbar": {
              "outlinewidth": 0,
              "ticks": ""
             }
            },
            "type": "scatterpolar"
           }
          ],
          "scatterpolargl": [
           {
            "marker": {
             "colorbar": {
              "outlinewidth": 0,
              "ticks": ""
             }
            },
            "type": "scatterpolargl"
           }
          ],
          "scatterternary": [
           {
            "marker": {
             "colorbar": {
              "outlinewidth": 0,
              "ticks": ""
             }
            },
            "type": "scatterternary"
           }
          ],
          "surface": [
           {
            "colorbar": {
             "outlinewidth": 0,
             "ticks": ""
            },
            "colorscale": [
             [
              0,
              "#0d0887"
             ],
             [
              0.1111111111111111,
              "#46039f"
             ],
             [
              0.2222222222222222,
              "#7201a8"
             ],
             [
              0.3333333333333333,
              "#9c179e"
             ],
             [
              0.4444444444444444,
              "#bd3786"
             ],
             [
              0.5555555555555556,
              "#d8576b"
             ],
             [
              0.6666666666666666,
              "#ed7953"
             ],
             [
              0.7777777777777778,
              "#fb9f3a"
             ],
             [
              0.8888888888888888,
              "#fdca26"
             ],
             [
              1,
              "#f0f921"
             ]
            ],
            "type": "surface"
           }
          ],
          "table": [
           {
            "cells": {
             "fill": {
              "color": "#EBF0F8"
             },
             "line": {
              "color": "white"
             }
            },
            "header": {
             "fill": {
              "color": "#C8D4E3"
             },
             "line": {
              "color": "white"
             }
            },
            "type": "table"
           }
          ]
         },
         "layout": {
          "annotationdefaults": {
           "arrowcolor": "#2a3f5f",
           "arrowhead": 0,
           "arrowwidth": 1
          },
          "autotypenumbers": "strict",
          "coloraxis": {
           "colorbar": {
            "outlinewidth": 0,
            "ticks": ""
           }
          },
          "colorscale": {
           "diverging": [
            [
             0,
             "#8e0152"
            ],
            [
             0.1,
             "#c51b7d"
            ],
            [
             0.2,
             "#de77ae"
            ],
            [
             0.3,
             "#f1b6da"
            ],
            [
             0.4,
             "#fde0ef"
            ],
            [
             0.5,
             "#f7f7f7"
            ],
            [
             0.6,
             "#e6f5d0"
            ],
            [
             0.7,
             "#b8e186"
            ],
            [
             0.8,
             "#7fbc41"
            ],
            [
             0.9,
             "#4d9221"
            ],
            [
             1,
             "#276419"
            ]
           ],
           "sequential": [
            [
             0,
             "#0d0887"
            ],
            [
             0.1111111111111111,
             "#46039f"
            ],
            [
             0.2222222222222222,
             "#7201a8"
            ],
            [
             0.3333333333333333,
             "#9c179e"
            ],
            [
             0.4444444444444444,
             "#bd3786"
            ],
            [
             0.5555555555555556,
             "#d8576b"
            ],
            [
             0.6666666666666666,
             "#ed7953"
            ],
            [
             0.7777777777777778,
             "#fb9f3a"
            ],
            [
             0.8888888888888888,
             "#fdca26"
            ],
            [
             1,
             "#f0f921"
            ]
           ],
           "sequentialminus": [
            [
             0,
             "#0d0887"
            ],
            [
             0.1111111111111111,
             "#46039f"
            ],
            [
             0.2222222222222222,
             "#7201a8"
            ],
            [
             0.3333333333333333,
             "#9c179e"
            ],
            [
             0.4444444444444444,
             "#bd3786"
            ],
            [
             0.5555555555555556,
             "#d8576b"
            ],
            [
             0.6666666666666666,
             "#ed7953"
            ],
            [
             0.7777777777777778,
             "#fb9f3a"
            ],
            [
             0.8888888888888888,
             "#fdca26"
            ],
            [
             1,
             "#f0f921"
            ]
           ]
          },
          "colorway": [
           "#636efa",
           "#EF553B",
           "#00cc96",
           "#ab63fa",
           "#FFA15A",
           "#19d3f3",
           "#FF6692",
           "#B6E880",
           "#FF97FF",
           "#FECB52"
          ],
          "font": {
           "color": "#2a3f5f"
          },
          "geo": {
           "bgcolor": "white",
           "lakecolor": "white",
           "landcolor": "#E5ECF6",
           "showlakes": true,
           "showland": true,
           "subunitcolor": "white"
          },
          "hoverlabel": {
           "align": "left"
          },
          "hovermode": "closest",
          "mapbox": {
           "style": "light"
          },
          "paper_bgcolor": "white",
          "plot_bgcolor": "#E5ECF6",
          "polar": {
           "angularaxis": {
            "gridcolor": "white",
            "linecolor": "white",
            "ticks": ""
           },
           "bgcolor": "#E5ECF6",
           "radialaxis": {
            "gridcolor": "white",
            "linecolor": "white",
            "ticks": ""
           }
          },
          "scene": {
           "xaxis": {
            "backgroundcolor": "#E5ECF6",
            "gridcolor": "white",
            "gridwidth": 2,
            "linecolor": "white",
            "showbackground": true,
            "ticks": "",
            "zerolinecolor": "white"
           },
           "yaxis": {
            "backgroundcolor": "#E5ECF6",
            "gridcolor": "white",
            "gridwidth": 2,
            "linecolor": "white",
            "showbackground": true,
            "ticks": "",
            "zerolinecolor": "white"
           },
           "zaxis": {
            "backgroundcolor": "#E5ECF6",
            "gridcolor": "white",
            "gridwidth": 2,
            "linecolor": "white",
            "showbackground": true,
            "ticks": "",
            "zerolinecolor": "white"
           }
          },
          "shapedefaults": {
           "line": {
            "color": "#2a3f5f"
           }
          },
          "ternary": {
           "aaxis": {
            "gridcolor": "white",
            "linecolor": "white",
            "ticks": ""
           },
           "baxis": {
            "gridcolor": "white",
            "linecolor": "white",
            "ticks": ""
           },
           "bgcolor": "#E5ECF6",
           "caxis": {
            "gridcolor": "white",
            "linecolor": "white",
            "ticks": ""
           }
          },
          "title": {
           "x": 0.05
          },
          "xaxis": {
           "automargin": true,
           "gridcolor": "white",
           "linecolor": "white",
           "ticks": "",
           "title": {
            "standoff": 15
           },
           "zerolinecolor": "white",
           "zerolinewidth": 2
          },
          "yaxis": {
           "automargin": true,
           "gridcolor": "white",
           "linecolor": "white",
           "ticks": "",
           "title": {
            "standoff": 15
           },
           "zerolinecolor": "white",
           "zerolinewidth": 2
          }
         }
        },
        "title": {
         "text": "Glucides (g/100 g) pour 5 plats végétariens"
        },
        "width": 800,
        "xaxis": {
         "anchor": "y",
         "autorange": true,
         "domain": [
          0,
          1
         ],
         "range": [
          -0.5,
          4.5
         ],
         "title": {
          "text": "Nom recette"
         },
         "type": "category"
        },
        "yaxis": {
         "anchor": "x",
         "autorange": true,
         "domain": [
          0,
          1
         ],
         "range": [
          0,
          7838.457894736842
         ],
         "title": {
          "text": "Glucides (g/100 g)"
         },
         "type": "linear"
        }
       }
      },
      "image/png": "[encoded data removed]",
      "text/html": [
       "<div>                            <div id=\"65891b0a-896c-4d8e-a34e-44abb9d372d7\" class=\"plotly-graph-div\" style=\"height:500px; width:800px;\"></div>            <script type=\"text/javascript\">                require([\"plotly\"], function(Plotly) {                    window.PLOTLYENV=window.PLOTLYENV || {};                                    if (document.getElementById(\"65891b0a-896c-4d8e-a34e-44abb9d372d7\")) {                    Plotly.newPlot(                        \"65891b0a-896c-4d8e-a34e-44abb9d372d7\",                        [{\"alignmentgroup\":\"True\",\"hovertemplate\":\"Ingr\\u00e9dient=ail<br>Nom recette=%{x}<br>Glucides (g/100 g)=%{y}<extra></extra>\",\"legendgroup\":\"ail\",\"marker\":{\"color\":\"#636efa\",\"pattern\":{\"shape\":\"\"}},\"name\":\"ail\",\"offsetgroup\":\"ail\",\"orientation\":\"v\",\"showlegend\":true,\"textposition\":\"auto\",\"x\":[\"Curry de l\\u00e9gumes v\\u00e9g\\u00e9tarien\",\"Hachis parmentier v\\u00e9g\\u00e9tarien\",\"Tourte de No\\u00ebl v\\u00e9g\\u00e9tarienne de Coralie\"],\"xaxis\":\"x\",\"y\":[471.0,157.0,1507.1999999999998],\"yaxis\":\"y\",\"type\":\"bar\"},{\"alignmentgroup\":\"True\",\"hovertemplate\":\"Ingr\\u00e9dient=basilic<br>Nom recette=%{x}<br>Glucides (g/100 g)=%{y}<extra></extra>\",\"legendgroup\":\"basilic\",\"marker\":{\"color\":\"#EF553B\",\"pattern\":{\"shape\":\"\"}},\"name\":\"basilic\",\"offsetgroup\":\"basilic\",\"orientation\":\"v\",\"showlegend\":true,\"textposition\":\"auto\",\"x\":[\"Curry de l\\u00e9gumes v\\u00e9g\\u00e9tarien\"],\"xaxis\":\"x\",\"y\":[5.1],\"yaxis\":\"y\",\"type\":\"bar\"},{\"alignmentgroup\":\"True\",\"hovertemplate\":\"Ingr\\u00e9dient=carotte<br>Nom recette=%{x}<br>Glucides (g/100 g)=%{y}<extra></extra>\",\"legendgroup\":\"carotte\",\"marker\":{\"color\":\"#00cc96\",\"pattern\":{\"shape\":\"\"}},\"name\":\"carotte\",\"offsetgroup\":\"carotte\",\"orientation\":\"v\",\"showlegend\":true,\"textposition\":\"auto\",\"x\":[\"Curry de l\\u00e9gumes v\\u00e9g\\u00e9tarien\",\"Hachis parmentier v\\u00e9g\\u00e9tarien\"],\"xaxis\":\"x\",\"y\":[260.0,243.75],\"yaxis\":\"y\",\"type\":\"bar\"},{\"alignmentgroup\":\"True\",\"hovertemplate\":\"Ingr\\u00e9dient=citron vert<br>Nom recette=%{x}<br>Glucides (g/100 g)=%{y}<extra></extra>\",\"legendgroup\":\"citron vert\",\"marker\":{\"color\":\"#ab63fa\",\"pattern\":{\"shape\":\"\"}},\"name\":\"citron vert\",\"offsetgroup\":\"citron vert\",\"orientation\":\"v\",\"showlegend\":true,\"textposition\":\"auto\",\"x\":[\"Curry de l\\u00e9gumes v\\u00e9g\\u00e9tarien\"],\"xaxis\":\"x\",\"y\":[6.28],\"yaxis\":\"y\",\"type\":\"bar\"},{\"alignmentgroup\":\"True\",\"hovertemplate\":\"Ingr\\u00e9dient=concentre de tomate<br>Nom recette=%{x}<br>Glucides (g/100 g)=%{y}<extra></extra>\",\"legendgroup\":\"concentre de tomate\",\"marker\":{\"color\":\"#FFA15A\",\"pattern\":{\"shape\":\"\"}},\"name\":\"concentre de tomate\",\"offsetgroup\":\"concentre de tomate\",\"orientation\":\"v\",\"showlegend\":true,\"textposition\":\"auto\",\"x\":[\"Curry de l\\u00e9gumes v\\u00e9g\\u00e9tarien\"],\"xaxis\":\"x\",\"y\":[128.25],\"yaxis\":\"y\",\"type\":\"bar\"},{\"alignmentgroup\":\"True\",\"hovertemplate\":\"Ingr\\u00e9dient=courgette<br>Nom recette=%{x}<br>Glucides (g/100 g)=%{y}<extra></extra>\",\"legendgroup\":\"courgette\",\"marker\":{\"color\":\"#19d3f3\",\"pattern\":{\"shape\":\"\"}},\"name\":\"courgette\",\"offsetgroup\":\"courgette\",\"orientation\":\"v\",\"showlegend\":true,\"textposition\":\"auto\",\"x\":[\"Curry de l\\u00e9gumes v\\u00e9g\\u00e9tarien\",\"Lasagnes v\\u00e9g\\u00e9tariennes (facile)\"],\"xaxis\":\"x\",\"y\":[140.0,280.0],\"yaxis\":\"y\",\"type\":\"bar\"},{\"alignmentgroup\":\"True\",\"hovertemplate\":\"Ingr\\u00e9dient=creme de coco<br>Nom recette=%{x}<br>Glucides (g/100 g)=%{y}<extra></extra>\",\"legendgroup\":\"creme de coco\",\"marker\":{\"color\":\"#FF6692\",\"pattern\":{\"shape\":\"\"}},\"name\":\"creme de coco\",\"offsetgroup\":\"creme de coco\",\"orientation\":\"v\",\"showlegend\":true,\"textposition\":\"auto\",\"x\":[\"Curry de l\\u00e9gumes v\\u00e9g\\u00e9tarien\"],\"xaxis\":\"x\",\"y\":[255.0],\"yaxis\":\"y\",\"type\":\"bar\"},{\"alignmentgroup\":\"True\",\"hovertemplate\":\"Ingr\\u00e9dient=cumin<br>Nom recette=%{x}<br>Glucides (g/100 g)=%{y}<extra></extra>\",\"legendgroup\":\"cumin\",\"marker\":{\"color\":\"#B6E880\",\"pattern\":{\"shape\":\"\"}},\"name\":\"cumin\",\"offsetgroup\":\"cumin\",\"orientation\":\"v\",\"showlegend\":true,\"textposition\":\"auto\",\"x\":[\"Curry de l\\u00e9gumes v\\u00e9g\\u00e9tarien\"],\"xaxis\":\"x\",\"y\":[63.18750000000001],\"yaxis\":\"y\",\"type\":\"bar\"},{\"alignmentgroup\":\"True\",\"hovertemplate\":\"Ingr\\u00e9dient=echalote<br>Nom recette=%{x}<br>Glucides (g/100 g)=%{y}<extra></extra>\",\"legendgroup\":\"echalote\",\"marker\":{\"color\":\"#FF97FF\",\"pattern\":{\"shape\":\"\"}},\"name\":\"echalote\",\"offsetgroup\":\"echalote\",\"orientation\":\"v\",\"showlegend\":true,\"textposition\":\"auto\",\"x\":[\"Curry de l\\u00e9gumes v\\u00e9g\\u00e9tarien\",\"Tourte de No\\u00ebl v\\u00e9g\\u00e9tarienne de Coralie\"],\"xaxis\":\"x\",\"y\":[369.0,98.4],\"yaxis\":\"y\",\"type\":\"bar\"},{\"alignmentgroup\":\"True\",\"hovertemplate\":\"Ingr\\u00e9dient=patate douce<br>Nom recette=%{x}<br>Glucides (g/100 g)=%{y}<extra></extra>\",\"legendgroup\":\"patate douce\",\"marker\":{\"color\":\"#FECB52\",\"pattern\":{\"shape\":\"\"}},\"name\":\"patate douce\",\"offsetgroup\":\"patate douce\",\"orientation\":\"v\",\"showlegend\":true,\"textposition\":\"auto\",\"x\":[\"Curry de l\\u00e9gumes v\\u00e9g\\u00e9tarien\"],\"xaxis\":\"x\",\"y\":[610.0],\"yaxis\":\"y\",\"type\":\"bar\"},{\"alignmentgroup\":\"True\",\"hovertemplate\":\"Ingr\\u00e9dient=pate de curry<br>Nom recette=%{x}<br>Glucides (g/100 g)=%{y}<extra></extra>\",\"legendgroup\":\"pate de curry\",\"marker\":{\"color\":\"#636efa\",\"pattern\":{\"shape\":\"\"}},\"name\":\"pate de curry\",\"offsetgroup\":\"pate de curry\",\"orientation\":\"v\",\"showlegend\":true,\"textposition\":\"auto\",\"x\":[\"Curry de l\\u00e9gumes v\\u00e9g\\u00e9tarien\"],\"xaxis\":\"x\",\"y\":[32.875],\"yaxis\":\"y\",\"type\":\"bar\"},{\"alignmentgroup\":\"True\",\"hovertemplate\":\"Ingr\\u00e9dient=petit piment<br>Nom recette=%{x}<br>Glucides (g/100 g)=%{y}<extra></extra>\",\"legendgroup\":\"petit piment\",\"marker\":{\"color\":\"#EF553B\",\"pattern\":{\"shape\":\"\"}},\"name\":\"petit piment\",\"offsetgroup\":\"petit piment\",\"orientation\":\"v\",\"showlegend\":true,\"textposition\":\"auto\",\"x\":[\"Curry de l\\u00e9gumes v\\u00e9g\\u00e9tarien\"],\"xaxis\":\"x\",\"y\":[57.75],\"yaxis\":\"y\",\"type\":\"bar\"},{\"alignmentgroup\":\"True\",\"hovertemplate\":\"Ingr\\u00e9dient=poivre<br>Nom recette=%{x}<br>Glucides (g/100 g)=%{y}<extra></extra>\",\"legendgroup\":\"poivre\",\"marker\":{\"color\":\"#00cc96\",\"pattern\":{\"shape\":\"\"}},\"name\":\"poivre\",\"offsetgroup\":\"poivre\",\"orientation\":\"v\",\"showlegend\":true,\"textposition\":\"auto\",\"x\":[\"Curry de l\\u00e9gumes v\\u00e9g\\u00e9tarien\",\"Lasagnes v\\u00e9g\\u00e9tariennes (facile)\"],\"xaxis\":\"x\",\"y\":[79.0,79.0],\"yaxis\":\"y\",\"type\":\"bar\"},{\"alignmentgroup\":\"True\",\"hovertemplate\":\"Ingr\\u00e9dient=sel<br>Nom recette=%{x}<br>Glucides (g/100 g)=%{y}<extra></extra>\",\"legendgroup\":\"sel\",\"marker\":{\"color\":\"#ab63fa\",\"pattern\":{\"shape\":\"\"}},\"name\":\"sel\",\"offsetgroup\":\"sel\",\"orientation\":\"v\",\"showlegend\":true,\"textposition\":\"auto\",\"x\":[\"Curry de l\\u00e9gumes v\\u00e9g\\u00e9tarien\",\"Lasagnes v\\u00e9g\\u00e9tariennes (facile)\"],\"xaxis\":\"x\",\"y\":[0.0,0.0],\"yaxis\":\"y\",\"type\":\"bar\"},{\"alignmentgroup\":\"True\",\"hovertemplate\":\"Ingr\\u00e9dient=celeri<br>Nom recette=%{x}<br>Glucides (g/100 g)=%{y}<extra></extra>\",\"legendgroup\":\"celeri\",\"marker\":{\"color\":\"#FFA15A\",\"pattern\":{\"shape\":\"\"}},\"name\":\"celeri\",\"offsetgroup\":\"celeri\",\"orientation\":\"v\",\"showlegend\":true,\"textposition\":\"auto\",\"x\":[\"Hachis parmentier v\\u00e9g\\u00e9tarien\"],\"xaxis\":\"x\",\"y\":[11.5],\"yaxis\":\"y\",\"type\":\"bar\"},{\"alignmentgroup\":\"True\",\"hovertemplate\":\"Ingr\\u00e9dient=huile d'olive<br>Nom recette=%{x}<br>Glucides (g/100 g)=%{y}<extra></extra>\",\"legendgroup\":\"huile d'olive\",\"marker\":{\"color\":\"#19d3f3\",\"pattern\":{\"shape\":\"\"}},\"name\":\"huile d'olive\",\"offsetgroup\":\"huile d'olive\",\"orientation\":\"v\",\"showlegend\":true,\"textposition\":\"auto\",\"x\":[\"Hachis parmentier v\\u00e9g\\u00e9tarien\",\"Tourte de No\\u00ebl v\\u00e9g\\u00e9tarienne de Coralie\"],\"xaxis\":\"x\",\"y\":[0.0,0.0],\"yaxis\":\"y\",\"type\":\"bar\"},{\"alignmentgroup\":\"True\",\"hovertemplate\":\"Ingr\\u00e9dient=navet<br>Nom recette=%{x}<br>Glucides (g/100 g)=%{y}<extra></extra>\",\"legendgroup\":\"navet\",\"marker\":{\"color\":\"#FF6692\",\"pattern\":{\"shape\":\"\"}},\"name\":\"navet\",\"offsetgroup\":\"navet\",\"orientation\":\"v\",\"showlegend\":true,\"textposition\":\"auto\",\"x\":[\"Hachis parmentier v\\u00e9g\\u00e9tarien\"],\"xaxis\":\"x\",\"y\":[237.5],\"yaxis\":\"y\",\"type\":\"bar\"},{\"alignmentgroup\":\"True\",\"hovertemplate\":\"Ingr\\u00e9dient=oignon<br>Nom recette=%{x}<br>Glucides (g/100 g)=%{y}<extra></extra>\",\"legendgroup\":\"oignon\",\"marker\":{\"color\":\"#B6E880\",\"pattern\":{\"shape\":\"\"}},\"name\":\"oignon\",\"offsetgroup\":\"oignon\",\"orientation\":\"v\",\"showlegend\":true,\"textposition\":\"auto\",\"x\":[\"Hachis parmentier v\\u00e9g\\u00e9tarien\",\"Hamburger V\\u00e9g\\u00e9tarien \",\"Lasagnes v\\u00e9g\\u00e9tariennes (facile)\"],\"xaxis\":\"x\",\"y\":[336.5,134.60000000000002,673.0],\"yaxis\":\"y\",\"type\":\"bar\"},{\"alignmentgroup\":\"True\",\"hovertemplate\":\"Ingr\\u00e9dient=pain de mie<br>Nom recette=%{x}<br>Glucides (g/100 g)=%{y}<extra></extra>\",\"legendgroup\":\"pain de mie\",\"marker\":{\"color\":\"#FF97FF\",\"pattern\":{\"shape\":\"\"}},\"name\":\"pain de mie\",\"offsetgroup\":\"pain de mie\",\"orientation\":\"v\",\"showlegend\":true,\"textposition\":\"auto\",\"x\":[\"Hachis parmentier v\\u00e9g\\u00e9tarien\"],\"xaxis\":\"x\",\"y\":[27.84],\"yaxis\":\"y\",\"type\":\"bar\"},{\"alignmentgroup\":\"True\",\"hovertemplate\":\"Ingr\\u00e9dient=persil<br>Nom recette=%{x}<br>Glucides (g/100 g)=%{y}<extra></extra>\",\"legendgroup\":\"persil\",\"marker\":{\"color\":\"#FECB52\",\"pattern\":{\"shape\":\"\"}},\"name\":\"persil\",\"offsetgroup\":\"persil\",\"orientation\":\"v\",\"showlegend\":true,\"textposition\":\"auto\",\"x\":[\"Hachis parmentier v\\u00e9g\\u00e9tarien\"],\"xaxis\":\"x\",\"y\":[17.4],\"yaxis\":\"y\",\"type\":\"bar\"},{\"alignmentgroup\":\"True\",\"hovertemplate\":\"Ingr\\u00e9dient=poireau<br>Nom recette=%{x}<br>Glucides (g/100 g)=%{y}<extra></extra>\",\"legendgroup\":\"poireau\",\"marker\":{\"color\":\"#636efa\",\"pattern\":{\"shape\":\"\"}},\"name\":\"poireau\",\"offsetgroup\":\"poireau\",\"orientation\":\"v\",\"showlegend\":true,\"textposition\":\"auto\",\"x\":[\"Hachis parmentier v\\u00e9g\\u00e9tarien\"],\"xaxis\":\"x\",\"y\":[66.9],\"yaxis\":\"y\",\"type\":\"bar\"},{\"alignmentgroup\":\"True\",\"hovertemplate\":\"Ingr\\u00e9dient=pommes de terre<br>Nom recette=%{x}<br>Glucides (g/100 g)=%{y}<extra></extra>\",\"legendgroup\":\"pommes de terre\",\"marker\":{\"color\":\"#EF553B\",\"pattern\":{\"shape\":\"\"}},\"name\":\"pommes de terre\",\"offsetgroup\":\"pommes de terre\",\"orientation\":\"v\",\"showlegend\":true,\"textposition\":\"auto\",\"x\":[\"Hachis parmentier v\\u00e9g\\u00e9tarien\"],\"xaxis\":\"x\",\"y\":[3517.5000000000005],\"yaxis\":\"y\",\"type\":\"bar\"},{\"alignmentgroup\":\"True\",\"hovertemplate\":\"Ingr\\u00e9dient=sauce soja<br>Nom recette=%{x}<br>Glucides (g/100 g)=%{y}<extra></extra>\",\"legendgroup\":\"sauce soja\",\"marker\":{\"color\":\"#00cc96\",\"pattern\":{\"shape\":\"\"}},\"name\":\"sauce soja\",\"offsetgroup\":\"sauce soja\",\"orientation\":\"v\",\"showlegend\":true,\"textposition\":\"auto\",\"x\":[\"Hachis parmentier v\\u00e9g\\u00e9tarien\"],\"xaxis\":\"x\",\"y\":[4.55],\"yaxis\":\"y\",\"type\":\"bar\"},{\"alignmentgroup\":\"True\",\"hovertemplate\":\"Ingr\\u00e9dient=chapelure<br>Nom recette=%{x}<br>Glucides (g/100 g)=%{y}<extra></extra>\",\"legendgroup\":\"chapelure\",\"marker\":{\"color\":\"#ab63fa\",\"pattern\":{\"shape\":\"\"}},\"name\":\"chapelure\",\"offsetgroup\":\"chapelure\",\"orientation\":\"v\",\"showlegend\":true,\"textposition\":\"auto\",\"x\":[\"Hamburger V\\u00e9g\\u00e9tarien \"],\"xaxis\":\"x\",\"y\":[140.0],\"yaxis\":\"y\",\"type\":\"bar\"},{\"alignmentgroup\":\"True\",\"hovertemplate\":\"Ingr\\u00e9dient=cornichon<br>Nom recette=%{x}<br>Glucides (g/100 g)=%{y}<extra></extra>\",\"legendgroup\":\"cornichon\",\"marker\":{\"color\":\"#FFA15A\",\"pattern\":{\"shape\":\"\"}},\"name\":\"cornichon\",\"offsetgroup\":\"cornichon\",\"orientation\":\"v\",\"showlegend\":true,\"textposition\":\"auto\",\"x\":[\"Hamburger V\\u00e9g\\u00e9tarien \"],\"xaxis\":\"x\",\"y\":[1.56],\"yaxis\":\"y\",\"type\":\"bar\"},{\"alignmentgroup\":\"True\",\"hovertemplate\":\"Ingr\\u00e9dient=epice<br>Nom recette=%{x}<br>Glucides (g/100 g)=%{y}<extra></extra>\",\"legendgroup\":\"epice\",\"marker\":{\"color\":\"#19d3f3\",\"pattern\":{\"shape\":\"\"}},\"name\":\"epice\",\"offsetgroup\":\"epice\",\"orientation\":\"v\",\"showlegend\":true,\"textposition\":\"auto\",\"x\":[\"Hamburger V\\u00e9g\\u00e9tarien \"],\"xaxis\":\"x\",\"y\":[75.4],\"yaxis\":\"y\",\"type\":\"bar\"},{\"alignmentgroup\":\"True\",\"hovertemplate\":\"Ingr\\u00e9dient=farine<br>Nom recette=%{x}<br>Glucides (g/100 g)=%{y}<extra></extra>\",\"legendgroup\":\"farine\",\"marker\":{\"color\":\"#FF6692\",\"pattern\":{\"shape\":\"\"}},\"name\":\"farine\",\"offsetgroup\":\"farine\",\"orientation\":\"v\",\"showlegend\":true,\"textposition\":\"auto\",\"x\":[\"Hamburger V\\u00e9g\\u00e9tarien \"],\"xaxis\":\"x\",\"y\":[455.40000000000003],\"yaxis\":\"y\",\"type\":\"bar\"},{\"alignmentgroup\":\"True\",\"hovertemplate\":\"Ingr\\u00e9dient=mayonnaise<br>Nom recette=%{x}<br>Glucides (g/100 g)=%{y}<extra></extra>\",\"legendgroup\":\"mayonnaise\",\"marker\":{\"color\":\"#B6E880\",\"pattern\":{\"shape\":\"\"}},\"name\":\"mayonnaise\",\"offsetgroup\":\"mayonnaise\",\"orientation\":\"v\",\"showlegend\":true,\"textposition\":\"auto\",\"x\":[\"Hamburger V\\u00e9g\\u00e9tarien \"],\"xaxis\":\"x\",\"y\":[5.24],\"yaxis\":\"y\",\"type\":\"bar\"},{\"alignmentgroup\":\"True\",\"hovertemplate\":\"Ingr\\u00e9dient=oeuf<br>Nom recette=%{x}<br>Glucides (g/100 g)=%{y}<extra></extra>\",\"legendgroup\":\"oeuf\",\"marker\":{\"color\":\"#FF97FF\",\"pattern\":{\"shape\":\"\"}},\"name\":\"oeuf\",\"offsetgroup\":\"oeuf\",\"orientation\":\"v\",\"showlegend\":true,\"textposition\":\"auto\",\"x\":[\"Hamburger V\\u00e9g\\u00e9tarien \",\"Tourte de No\\u00ebl v\\u00e9g\\u00e9tarienne de Coralie\"],\"xaxis\":\"x\",\"y\":[7.81,3.905],\"yaxis\":\"y\",\"type\":\"bar\"},{\"alignmentgroup\":\"True\",\"hovertemplate\":\"Ingr\\u00e9dient=pains pour hamburger<br>Nom recette=%{x}<br>Glucides (g/100 g)=%{y}<extra></extra>\",\"legendgroup\":\"pains pour hamburger\",\"marker\":{\"color\":\"#FECB52\",\"pattern\":{\"shape\":\"\"}},\"name\":\"pains pour hamburger\",\"offsetgroup\":\"pains pour hamburger\",\"orientation\":\"v\",\"showlegend\":true,\"textposition\":\"auto\",\"x\":[\"Hamburger V\\u00e9g\\u00e9tarien \"],\"xaxis\":\"x\",\"y\":[4771.200000000001],\"yaxis\":\"y\",\"type\":\"bar\"},{\"alignmentgroup\":\"True\",\"hovertemplate\":\"Ingr\\u00e9dient=salade<br>Nom recette=%{x}<br>Glucides (g/100 g)=%{y}<extra></extra>\",\"legendgroup\":\"salade\",\"marker\":{\"color\":\"#636efa\",\"pattern\":{\"shape\":\"\"}},\"name\":\"salade\",\"offsetgroup\":\"salade\",\"orientation\":\"v\",\"showlegend\":true,\"textposition\":\"auto\",\"x\":[\"Hamburger V\\u00e9g\\u00e9tarien \"],\"xaxis\":\"x\",\"y\":[0.8240000000000001],\"yaxis\":\"y\",\"type\":\"bar\"},{\"alignmentgroup\":\"True\",\"hovertemplate\":\"Ingr\\u00e9dient=toastinette<br>Nom recette=%{x}<br>Glucides (g/100 g)=%{y}<extra></extra>\",\"legendgroup\":\"toastinette\",\"marker\":{\"color\":\"#EF553B\",\"pattern\":{\"shape\":\"\"}},\"name\":\"toastinette\",\"offsetgroup\":\"toastinette\",\"orientation\":\"v\",\"showlegend\":true,\"textposition\":\"auto\",\"x\":[\"Hamburger V\\u00e9g\\u00e9tarien \"],\"xaxis\":\"x\",\"y\":[136.704],\"yaxis\":\"y\",\"type\":\"bar\"},{\"alignmentgroup\":\"True\",\"hovertemplate\":\"Ingr\\u00e9dient=basilic frais<br>Nom recette=%{x}<br>Glucides (g/100 g)=%{y}<extra></extra>\",\"legendgroup\":\"basilic frais\",\"marker\":{\"color\":\"#00cc96\",\"pattern\":{\"shape\":\"\"}},\"name\":\"basilic frais\",\"offsetgroup\":\"basilic frais\",\"orientation\":\"v\",\"showlegend\":true,\"textposition\":\"auto\",\"x\":[\"Lasagnes v\\u00e9g\\u00e9tariennes (facile)\"],\"xaxis\":\"x\",\"y\":[5.1],\"yaxis\":\"y\",\"type\":\"bar\"},{\"alignmentgroup\":\"True\",\"hovertemplate\":\"Ingr\\u00e9dient=bechamel<br>Nom recette=%{x}<br>Glucides (g/100 g)=%{y}<extra></extra>\",\"legendgroup\":\"bechamel\",\"marker\":{\"color\":\"#ab63fa\",\"pattern\":{\"shape\":\"\"}},\"name\":\"bechamel\",\"offsetgroup\":\"bechamel\",\"orientation\":\"v\",\"showlegend\":true,\"textposition\":\"auto\",\"x\":[\"Lasagnes v\\u00e9g\\u00e9tariennes (facile)\"],\"xaxis\":\"x\",\"y\":[775.0],\"yaxis\":\"y\",\"type\":\"bar\"},{\"alignmentgroup\":\"True\",\"hovertemplate\":\"Ingr\\u00e9dient=coulis de tomate<br>Nom recette=%{x}<br>Glucides (g/100 g)=%{y}<extra></extra>\",\"legendgroup\":\"coulis de tomate\",\"marker\":{\"color\":\"#FFA15A\",\"pattern\":{\"shape\":\"\"}},\"name\":\"coulis de tomate\",\"offsetgroup\":\"coulis de tomate\",\"orientation\":\"v\",\"showlegend\":true,\"textposition\":\"auto\",\"x\":[\"Lasagnes v\\u00e9g\\u00e9tariennes (facile)\"],\"xaxis\":\"x\",\"y\":[426.49999999999994],\"yaxis\":\"y\",\"type\":\"bar\"},{\"alignmentgroup\":\"True\",\"hovertemplate\":\"Ingr\\u00e9dient=gruyere rape<br>Nom recette=%{x}<br>Glucides (g/100 g)=%{y}<extra></extra>\",\"legendgroup\":\"gruyere rape\",\"marker\":{\"color\":\"#19d3f3\",\"pattern\":{\"shape\":\"\"}},\"name\":\"gruyere rape\",\"offsetgroup\":\"gruyere rape\",\"orientation\":\"v\",\"showlegend\":true,\"textposition\":\"auto\",\"x\":[\"Lasagnes v\\u00e9g\\u00e9tariennes (facile)\"],\"xaxis\":\"x\",\"y\":[0.0],\"yaxis\":\"y\",\"type\":\"bar\"},{\"alignmentgroup\":\"True\",\"hovertemplate\":\"Ingr\\u00e9dient=herbes de Provence<br>Nom recette=%{x}<br>Glucides (g/100 g)=%{y}<extra></extra>\",\"legendgroup\":\"herbes de Provence\",\"marker\":{\"color\":\"#FF6692\",\"pattern\":{\"shape\":\"\"}},\"name\":\"herbes de Provence\",\"offsetgroup\":\"herbes de Provence\",\"orientation\":\"v\",\"showlegend\":true,\"textposition\":\"auto\",\"x\":[\"Lasagnes v\\u00e9g\\u00e9tariennes (facile)\"],\"xaxis\":\"x\",\"y\":[46.0],\"yaxis\":\"y\",\"type\":\"bar\"},{\"alignmentgroup\":\"True\",\"hovertemplate\":\"Ingr\\u00e9dient=lasagne<br>Nom recette=%{x}<br>Glucides (g/100 g)=%{y}<extra></extra>\",\"legendgroup\":\"lasagne\",\"marker\":{\"color\":\"#B6E880\",\"pattern\":{\"shape\":\"\"}},\"name\":\"lasagne\",\"offsetgroup\":\"lasagne\",\"orientation\":\"v\",\"showlegend\":true,\"textposition\":\"auto\",\"x\":[\"Lasagnes v\\u00e9g\\u00e9tariennes (facile)\"],\"xaxis\":\"x\",\"y\":[28.0],\"yaxis\":\"y\",\"type\":\"bar\"},{\"alignmentgroup\":\"True\",\"hovertemplate\":\"Ingr\\u00e9dient=tomate<br>Nom recette=%{x}<br>Glucides (g/100 g)=%{y}<extra></extra>\",\"legendgroup\":\"tomate\",\"marker\":{\"color\":\"#FF97FF\",\"pattern\":{\"shape\":\"\"}},\"name\":\"tomate\",\"offsetgroup\":\"tomate\",\"orientation\":\"v\",\"showlegend\":true,\"textposition\":\"auto\",\"x\":[\"Lasagnes v\\u00e9g\\u00e9tariennes (facile)\",\"Tourte de No\\u00ebl v\\u00e9g\\u00e9tarienne de Coralie\"],\"xaxis\":\"x\",\"y\":[568.125,37.875],\"yaxis\":\"y\",\"type\":\"bar\"},{\"alignmentgroup\":\"True\",\"hovertemplate\":\"Ingr\\u00e9dient=beurre<br>Nom recette=%{x}<br>Glucides (g/100 g)=%{y}<extra></extra>\",\"legendgroup\":\"beurre\",\"marker\":{\"color\":\"#FECB52\",\"pattern\":{\"shape\":\"\"}},\"name\":\"beurre\",\"offsetgroup\":\"beurre\",\"orientation\":\"v\",\"showlegend\":true,\"textposition\":\"auto\",\"x\":[\"Tourte de No\\u00ebl v\\u00e9g\\u00e9tarienne de Coralie\"],\"xaxis\":\"x\",\"y\":[1.8],\"yaxis\":\"y\",\"type\":\"bar\"},{\"alignmentgroup\":\"True\",\"hovertemplate\":\"Ingr\\u00e9dient=champignon<br>Nom recette=%{x}<br>Glucides (g/100 g)=%{y}<extra></extra>\",\"legendgroup\":\"champignon\",\"marker\":{\"color\":\"#636efa\",\"pattern\":{\"shape\":\"\"}},\"name\":\"champignon\",\"offsetgroup\":\"champignon\",\"orientation\":\"v\",\"showlegend\":true,\"textposition\":\"auto\",\"x\":[\"Tourte de No\\u00ebl v\\u00e9g\\u00e9tarienne de Coralie\"],\"xaxis\":\"x\",\"y\":[51.699999999999996],\"yaxis\":\"y\",\"type\":\"bar\"},{\"alignmentgroup\":\"True\",\"hovertemplate\":\"Ingr\\u00e9dient=epinard<br>Nom recette=%{x}<br>Glucides (g/100 g)=%{y}<extra></extra>\",\"legendgroup\":\"epinard\",\"marker\":{\"color\":\"#EF553B\",\"pattern\":{\"shape\":\"\"}},\"name\":\"epinard\",\"offsetgroup\":\"epinard\",\"orientation\":\"v\",\"showlegend\":true,\"textposition\":\"auto\",\"x\":[\"Tourte de No\\u00ebl v\\u00e9g\\u00e9tarienne de Coralie\"],\"xaxis\":\"x\",\"y\":[0.0],\"yaxis\":\"y\",\"type\":\"bar\"},{\"alignmentgroup\":\"True\",\"hovertemplate\":\"Ingr\\u00e9dient=gingembre<br>Nom recette=%{x}<br>Glucides (g/100 g)=%{y}<extra></extra>\",\"legendgroup\":\"gingembre\",\"marker\":{\"color\":\"#00cc96\",\"pattern\":{\"shape\":\"\"}},\"name\":\"gingembre\",\"offsetgroup\":\"gingembre\",\"orientation\":\"v\",\"showlegend\":true,\"textposition\":\"auto\",\"x\":[\"Tourte de No\\u00ebl v\\u00e9g\\u00e9tarienne de Coralie\"],\"xaxis\":\"x\",\"y\":[29.15],\"yaxis\":\"y\",\"type\":\"bar\"},{\"alignmentgroup\":\"True\",\"hovertemplate\":\"Ingr\\u00e9dient=madere<br>Nom recette=%{x}<br>Glucides (g/100 g)=%{y}<extra></extra>\",\"legendgroup\":\"madere\",\"marker\":{\"color\":\"#ab63fa\",\"pattern\":{\"shape\":\"\"}},\"name\":\"madere\",\"offsetgroup\":\"madere\",\"orientation\":\"v\",\"showlegend\":true,\"textposition\":\"auto\",\"x\":[\"Tourte de No\\u00ebl v\\u00e9g\\u00e9tarienne de Coralie\"],\"xaxis\":\"x\",\"y\":[43.2],\"yaxis\":\"y\",\"type\":\"bar\"},{\"alignmentgroup\":\"True\",\"hovertemplate\":\"Ingr\\u00e9dient=marron<br>Nom recette=%{x}<br>Glucides (g/100 g)=%{y}<extra></extra>\",\"legendgroup\":\"marron\",\"marker\":{\"color\":\"#FFA15A\",\"pattern\":{\"shape\":\"\"}},\"name\":\"marron\",\"offsetgroup\":\"marron\",\"orientation\":\"v\",\"showlegend\":true,\"textposition\":\"auto\",\"x\":[\"Tourte de No\\u00ebl v\\u00e9g\\u00e9tarienne de Coralie\"],\"xaxis\":\"x\",\"y\":[3180.0],\"yaxis\":\"y\",\"type\":\"bar\"},{\"alignmentgroup\":\"True\",\"hovertemplate\":\"Ingr\\u00e9dient=miel<br>Nom recette=%{x}<br>Glucides (g/100 g)=%{y}<extra></extra>\",\"legendgroup\":\"miel\",\"marker\":{\"color\":\"#19d3f3\",\"pattern\":{\"shape\":\"\"}},\"name\":\"miel\",\"offsetgroup\":\"miel\",\"orientation\":\"v\",\"showlegend\":true,\"textposition\":\"auto\",\"x\":[\"Tourte de No\\u00ebl v\\u00e9g\\u00e9tarienne de Coralie\"],\"xaxis\":\"x\",\"y\":[245.10000000000002],\"yaxis\":\"y\",\"type\":\"bar\"},{\"alignmentgroup\":\"True\",\"hovertemplate\":\"Ingr\\u00e9dient=pate feuilletee<br>Nom recette=%{x}<br>Glucides (g/100 g)=%{y}<extra></extra>\",\"legendgroup\":\"pate feuilletee\",\"marker\":{\"color\":\"#FF6692\",\"pattern\":{\"shape\":\"\"}},\"name\":\"pate feuilletee\",\"offsetgroup\":\"pate feuilletee\",\"orientation\":\"v\",\"showlegend\":true,\"textposition\":\"auto\",\"x\":[\"Tourte de No\\u00ebl v\\u00e9g\\u00e9tarienne de Coralie\"],\"xaxis\":\"x\",\"y\":[2164.0],\"yaxis\":\"y\",\"type\":\"bar\"},{\"alignmentgroup\":\"True\",\"hovertemplate\":\"Ingr\\u00e9dient=sucre en poudre<br>Nom recette=%{x}<br>Glucides (g/100 g)=%{y}<extra></extra>\",\"legendgroup\":\"sucre en poudre\",\"marker\":{\"color\":\"#B6E880\",\"pattern\":{\"shape\":\"\"}},\"name\":\"sucre en poudre\",\"offsetgroup\":\"sucre en poudre\",\"orientation\":\"v\",\"showlegend\":true,\"textposition\":\"auto\",\"x\":[\"Tourte de No\\u00ebl v\\u00e9g\\u00e9tarienne de Coralie\"],\"xaxis\":\"x\",\"y\":[1.555],\"yaxis\":\"y\",\"type\":\"bar\"},{\"alignmentgroup\":\"True\",\"hovertemplate\":\"Ingr\\u00e9dient=thym<br>Nom recette=%{x}<br>Glucides (g/100 g)=%{y}<extra></extra>\",\"legendgroup\":\"thym\",\"marker\":{\"color\":\"#FF97FF\",\"pattern\":{\"shape\":\"\"}},\"name\":\"thym\",\"offsetgroup\":\"thym\",\"orientation\":\"v\",\"showlegend\":true,\"textposition\":\"auto\",\"x\":[\"Tourte de No\\u00ebl v\\u00e9g\\u00e9tarienne de Coralie\"],\"xaxis\":\"x\",\"y\":[5.25],\"yaxis\":\"y\",\"type\":\"bar\"},{\"alignmentgroup\":\"True\",\"hovertemplate\":\"Ingr\\u00e9dient=vinaigre balsamique<br>Nom recette=%{x}<br>Glucides (g/100 g)=%{y}<extra></extra>\",\"legendgroup\":\"vinaigre balsamique\",\"marker\":{\"color\":\"#FECB52\",\"pattern\":{\"shape\":\"\"}},\"name\":\"vinaigre balsamique\",\"offsetgroup\":\"vinaigre balsamique\",\"orientation\":\"v\",\"showlegend\":true,\"textposition\":\"auto\",\"x\":[\"Tourte de No\\u00ebl v\\u00e9g\\u00e9tarienne de Coralie\"],\"xaxis\":\"x\",\"y\":[77.4],\"yaxis\":\"y\",\"type\":\"bar\"}],                        {\"template\":{\"data\":{\"histogram2dcontour\":[{\"type\":\"histogram2dcontour\",\"colorbar\":{\"outlinewidth\":0,\"ticks\":\"\"},\"colorscale\":[[0.0,\"#0d0887\"],[0.1111111111111111,\"#46039f\"],[0.2222222222222222,\"#7201a8\"],[0.3333333333333333,\"#9c179e\"],[0.4444444444444444,\"#bd3786\"],[0.5555555555555556,\"#d8576b\"],[0.6666666666666666,\"#ed7953\"],[0.7777777777777778,\"#fb9f3a\"],[0.8888888888888888,\"#fdca26\"],[1.0,\"#f0f921\"]]}],\"choropleth\":[{\"type\":\"choropleth\",\"colorbar\":{\"outlinewidth\":0,\"ticks\":\"\"}}],\"histogram2d\":[{\"type\":\"histogram2d\",\"colorbar\":{\"outlinewidth\":0,\"ticks\":\"\"},\"colorscale\":[[0.0,\"#0d0887\"],[0.1111111111111111,\"#46039f\"],[0.2222222222222222,\"#7201a8\"],[0.3333333333333333,\"#9c179e\"],[0.4444444444444444,\"#bd3786\"],[0.5555555555555556,\"#d8576b\"],[0.6666666666666666,\"#ed7953\"],[0.7777777777777778,\"#fb9f3a\"],[0.8888888888888888,\"#fdca26\"],[1.0,\"#f0f921\"]]}],\"heatmap\":[{\"type\":\"heatmap\",\"colorbar\":{\"outlinewidth\":0,\"ticks\":\"\"},\"colorscale\":[[0.0,\"#0d0887\"],[0.1111111111111111,\"#46039f\"],[0.2222222222222222,\"#7201a8\"],[0.3333333333333333,\"#9c179e\"],[0.4444444444444444,\"#bd3786\"],[0.5555555555555556,\"#d8576b\"],[0.6666666666666666,\"#ed7953\"],[0.7777777777777778,\"#fb9f3a\"],[0.8888888888888888,\"#fdca26\"],[1.0,\"#f0f921\"]]}],\"heatmapgl\":[{\"type\":\"heatmapgl\",\"colorbar\":{\"outlinewidth\":0,\"ticks\":\"\"},\"colorscale\":[[0.0,\"#0d0887\"],[0.1111111111111111,\"#46039f\"],[0.2222222222222222,\"#7201a8\"],[0.3333333333333333,\"#9c179e\"],[0.4444444444444444,\"#bd3786\"],[0.5555555555555556,\"#d8576b\"],[0.6666666666666666,\"#ed7953\"],[0.7777777777777778,\"#fb9f3a\"],[0.8888888888888888,\"#fdca26\"],[1.0,\"#f0f921\"]]}],\"contourcarpet\":[{\"type\":\"contourcarpet\",\"colorbar\":{\"outlinewidth\":0,\"ticks\":\"\"}}],\"contour\":[{\"type\":\"contour\",\"colorbar\":{\"outlinewidth\":0,\"ticks\":\"\"},\"colorscale\":[[0.0,\"#0d0887\"],[0.1111111111111111,\"#46039f\"],[0.2222222222222222,\"#7201a8\"],[0.3333333333333333,\"#9c179e\"],[0.4444444444444444,\"#bd3786\"],[0.5555555555555556,\"#d8576b\"],[0.6666666666666666,\"#ed7953\"],[0.7777777777777778,\"#fb9f3a\"],[0.8888888888888888,\"#fdca26\"],[1.0,\"#f0f921\"]]}],\"surface\":[{\"type\":\"surface\",\"colorbar\":{\"outlinewidth\":0,\"ticks\":\"\"},\"colorscale\":[[0.0,\"#0d0887\"],[0.1111111111111111,\"#46039f\"],[0.2222222222222222,\"#7201a8\"],[0.3333333333333333,\"#9c179e\"],[0.4444444444444444,\"#bd3786\"],[0.5555555555555556,\"#d8576b\"],[0.6666666666666666,\"#ed7953\"],[0.7777777777777778,\"#fb9f3a\"],[0.8888888888888888,\"#fdca26\"],[1.0,\"#f0f921\"]]}],\"mesh3d\":[{\"type\":\"mesh3d\",\"colorbar\":{\"outlinewidth\":0,\"ticks\":\"\"}}],\"scatter\":[{\"fillpattern\":{\"fillmode\":\"overlay\",\"size\":10,\"solidity\":0.2},\"type\":\"scatter\"}],\"parcoords\":[{\"type\":\"parcoords\",\"line\":{\"colorbar\":{\"outlinewidth\":0,\"ticks\":\"\"}}}],\"scatterpolargl\":[{\"type\":\"scatterpolargl\",\"marker\":{\"colorbar\":{\"outlinewidth\":0,\"ticks\":\"\"}}}],\"bar\":[{\"error_x\":{\"color\":\"#2a3f5f\"},\"error_y\":{\"color\":\"#2a3f5f\"},\"marker\":{\"line\":{\"color\":\"#E5ECF6\",\"width\":0.5},\"pattern\":{\"fillmode\":\"overlay\",\"size\":10,\"solidity\":0.2}},\"type\":\"bar\"}],\"scattergeo\":[{\"type\":\"scattergeo\",\"marker\":{\"colorbar\":{\"outlinewidth\":0,\"ticks\":\"\"}}}],\"scatterpolar\":[{\"type\":\"scatterpolar\",\"marker\":{\"colorbar\":{\"outlinewidth\":0,\"ticks\":\"\"}}}],\"histogram\":[{\"marker\":{\"pattern\":{\"fillmode\":\"overlay\",\"size\":10,\"solidity\":0.2}},\"type\":\"histogram\"}],\"scattergl\":[{\"type\":\"scattergl\",\"marker\":{\"colorbar\":{\"outlinewidth\":0,\"ticks\":\"\"}}}],\"scatter3d\":[{\"type\":\"scatter3d\",\"line\":{\"colorbar\":{\"outlinewidth\":0,\"ticks\":\"\"}},\"marker\":{\"colorbar\":{\"outlinewidth\":0,\"ticks\":\"\"}}}],\"scattermapbox\":[{\"type\":\"scattermapbox\",\"marker\":{\"colorbar\":{\"outlinewidth\":0,\"ticks\":\"\"}}}],\"scatterternary\":[{\"type\":\"scatterternary\",\"marker\":{\"colorbar\":{\"outlinewidth\":0,\"ticks\":\"\"}}}],\"scattercarpet\":[{\"type\":\"scattercarpet\",\"marker\":{\"colorbar\":{\"outlinewidth\":0,\"ticks\":\"\"}}}],\"carpet\":[{\"aaxis\":{\"endlinecolor\":\"#2a3f5f\",\"gridcolor\":\"white\",\"linecolor\":\"white\",\"minorgridcolor\":\"white\",\"startlinecolor\":\"#2a3f5f\"},\"baxis\":{\"endlinecolor\":\"#2a3f5f\",\"gridcolor\":\"white\",\"linecolor\":\"white\",\"minorgridcolor\":\"white\",\"startlinecolor\":\"#2a3f5f\"},\"type\":\"carpet\"}],\"table\":[{\"cells\":{\"fill\":{\"color\":\"#EBF0F8\"},\"line\":{\"color\":\"white\"}},\"header\":{\"fill\":{\"color\":\"#C8D4E3\"},\"line\":{\"color\":\"white\"}},\"type\":\"table\"}],\"barpolar\":[{\"marker\":{\"line\":{\"color\":\"#E5ECF6\",\"width\":0.5},\"pattern\":{\"fillmode\":\"overlay\",\"size\":10,\"solidity\":0.2}},\"type\":\"barpolar\"}],\"pie\":[{\"automargin\":true,\"type\":\"pie\"}]},\"layout\":{\"autotypenumbers\":\"strict\",\"colorway\":[\"#636efa\",\"#EF553B\",\"#00cc96\",\"#ab63fa\",\"#FFA15A\",\"#19d3f3\",\"#FF6692\",\"#B6E880\",\"#FF97FF\",\"#FECB52\"],\"font\":{\"color\":\"#2a3f5f\"},\"hovermode\":\"closest\",\"hoverlabel\":{\"align\":\"left\"},\"paper_bgcolor\":\"white\",\"plot_bgcolor\":\"#E5ECF6\",\"polar\":{\"bgcolor\":\"#E5ECF6\",\"angularaxis\":{\"gridcolor\":\"white\",\"linecolor\":\"white\",\"ticks\":\"\"},\"radialaxis\":{\"gridcolor\":\"white\",\"linecolor\":\"white\",\"ticks\":\"\"}},\"ternary\":{\"bgcolor\":\"#E5ECF6\",\"aaxis\":{\"gridcolor\":\"white\",\"linecolor\":\"white\",\"ticks\":\"\"},\"baxis\":{\"gridcolor\":\"white\",\"linecolor\":\"white\",\"ticks\":\"\"},\"caxis\":{\"gridcolor\":\"white\",\"linecolor\":\"white\",\"ticks\":\"\"}},\"coloraxis\":{\"colorbar\":{\"outlinewidth\":0,\"ticks\":\"\"}},\"colorscale\":{\"sequential\":[[0.0,\"#0d0887\"],[0.1111111111111111,\"#46039f\"],[0.2222222222222222,\"#7201a8\"],[0.3333333333333333,\"#9c179e\"],[0.4444444444444444,\"#bd3786\"],[0.5555555555555556,\"#d8576b\"],[0.6666666666666666,\"#ed7953\"],[0.7777777777777778,\"#fb9f3a\"],[0.8888888888888888,\"#fdca26\"],[1.0,\"#f0f921\"]],\"sequentialminus\":[[0.0,\"#0d0887\"],[0.1111111111111111,\"#46039f\"],[0.2222222222222222,\"#7201a8\"],[0.3333333333333333,\"#9c179e\"],[0.4444444444444444,\"#bd3786\"],[0.5555555555555556,\"#d8576b\"],[0.6666666666666666,\"#ed7953\"],[0.7777777777777778,\"#fb9f3a\"],[0.8888888888888888,\"#fdca26\"],[1.0,\"#f0f921\"]],\"diverging\":[[0,\"#8e0152\"],[0.1,\"#c51b7d\"],[0.2,\"#de77ae\"],[0.3,\"#f1b6da\"],[0.4,\"#fde0ef\"],[0.5,\"#f7f7f7\"],[0.6,\"#e6f5d0\"],[0.7,\"#b8e186\"],[0.8,\"#7fbc41\"],[0.9,\"#4d9221\"],[1,\"#276419\"]]},\"xaxis\":{\"gridcolor\":\"white\",\"linecolor\":\"white\",\"ticks\":\"\",\"title\":{\"standoff\":15},\"zerolinecolor\":\"white\",\"automargin\":true,\"zerolinewidth\":2},\"yaxis\":{\"gridcolor\":\"white\",\"linecolor\":\"white\",\"ticks\":\"\",\"title\":{\"standoff\":15},\"zerolinecolor\":\"white\",\"automargin\":true,\"zerolinewidth\":2},\"scene\":{\"xaxis\":{\"backgroundcolor\":\"#E5ECF6\",\"gridcolor\":\"white\",\"linecolor\":\"white\",\"showbackground\":true,\"ticks\":\"\",\"zerolinecolor\":\"white\",\"gridwidth\":2},\"yaxis\":{\"backgroundcolor\":\"#E5ECF6\",\"gridcolor\":\"white\",\"linecolor\":\"white\",\"showbackground\":true,\"ticks\":\"\",\"zerolinecolor\":\"white\",\"gridwidth\":2},\"zaxis\":{\"backgroundcolor\":\"#E5ECF6\",\"gridcolor\":\"white\",\"linecolor\":\"white\",\"showbackground\":true,\"ticks\":\"\",\"zerolinecolor\":\"white\",\"gridwidth\":2}},\"shapedefaults\":{\"line\":{\"color\":\"#2a3f5f\"}},\"annotationdefaults\":{\"arrowcolor\":\"#2a3f5f\",\"arrowhead\":0,\"arrowwidth\":1},\"geo\":{\"bgcolor\":\"white\",\"landcolor\":\"#E5ECF6\",\"subunitcolor\":\"white\",\"showland\":true,\"showlakes\":true,\"lakecolor\":\"white\"},\"title\":{\"x\":0.05},\"mapbox\":{\"style\":\"light\"}}},\"xaxis\":{\"anchor\":\"y\",\"domain\":[0.0,1.0],\"title\":{\"text\":\"Nom recette\"}},\"yaxis\":{\"anchor\":\"x\",\"domain\":[0.0,1.0],\"title\":{\"text\":\"Glucides (g/100 g)\"}},\"legend\":{\"title\":{\"text\":\"Ingr\\u00e9dient\"},\"tracegroupgap\":0},\"title\":{\"text\":\"Glucides (g/100 g) pour 5 plats v\\u00e9g\\u00e9tariens\"},\"barmode\":\"relative\",\"height\":500,\"width\":800,\"showlegend\":false},                        {\"responsive\": true}                    ).then(function(){\n",
       "                            \n",
       "var gd = document.getElementById('65891b0a-896c-4d8e-a34e-44abb9d372d7');\n",
       "var x = new MutationObserver(function (mutations, observer) {{\n",
       "        var display = window.getComputedStyle(gd).display;\n",
       "        if (!display || display === 'none') {{\n",
       "            console.log([gd, 'removed!']);\n",
       "            Plotly.purge(gd);\n",
       "            observer.disconnect();\n",
       "        }}\n",
       "}});\n",
       "\n",
       "// Listen for the removal of the full notebook cells\n",
       "var notebookContainer = gd.closest('#notebook-container');\n",
       "if (notebookContainer) {{\n",
       "    x.observe(notebookContainer, {childList: true});\n",
       "}}\n",
       "\n",
       "// Listen for the clearing of the current output cell\n",
       "var outputEl = gd.closest('.output');\n",
       "if (outputEl) {{\n",
       "    x.observe(outputEl, {childList: true});\n",
       "}}\n",
       "\n",
       "                        })                };                });            </script>        </div>"
      ]
     },
     "metadata": {},
     "output_type": "display_data"
    }
   ],
   "source": [
    "fig = px.bar(result, x=\"Nom recette\", y=\"Glucides (g/100 g)\", color=\"Ingrédient\", title=\"Glucides (g/100 g) pour 5 plats végétariens\", width=800, height=500)\n",
    "fig.update_layout(showlegend=False)\n",
    "fig.show()"
   ]
  }
 ],
 "metadata": {
  "kernelspec": {
   "display_name": "Python 3 (ipykernel)",
   "language": "python",
   "name": "python3"
  },
  "language_info": {
   "codemirror_mode": {
    "name": "ipython",
    "version": 3
   },
   "file_extension": ".py",
   "mimetype": "text/x-python",
   "name": "python",
   "nbconvert_exporter": "python",
   "pygments_lexer": "ipython3",
   "version": "3.10.4"
  }
 },
 "nbformat": 4,
 "nbformat_minor": 5
}
