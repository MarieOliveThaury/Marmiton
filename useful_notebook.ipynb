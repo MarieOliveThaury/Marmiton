{
 "cells": [
  {
   "cell_type": "code",
   "execution_count": 1,
   "id": "7dac6342-f22e-47b4-bcb3-9dc81259ff62",
   "metadata": {},
   "outputs": [],
   "source": [
    "#Installation de Selenium\n",
    "\n",
    "#!wget https://dl.google.com/linux/direct/google-chrome-stable_current_amd64.deb -O /tmp/chrome.deb\n",
    "#!sudo apt-get update\n",
    "#!sudo -E apt-get install -y /tmp/chrome.deb\n",
    "#!pip install chromedriver-autoinstaller selenium"
   ]
  },
  {
   "cell_type": "code",
   "execution_count": 2,
   "id": "417e6cb8-8de4-4c96-9b76-d3f751afac75",
   "metadata": {},
   "outputs": [],
   "source": [
    "#!pip install unidecode"
   ]
  },
  {
   "cell_type": "code",
   "execution_count": 3,
   "id": "34d575f7-5c8f-4ff9-b9f0-79f183424225",
   "metadata": {},
   "outputs": [
    {
     "name": "stdout",
     "output_type": "stream",
     "text": [
      "data_tools importé !\n",
      "conversion_tools importé !\n",
      "scraping_marmiton importé ! \n",
      "scrapping_ciqual importé !\n"
     ]
    }
   ],
   "source": [
    "import main"
   ]
  },
  {
   "cell_type": "code",
   "execution_count": 4,
   "id": "3080ad02-364e-40c1-ad8c-71713fa0aaad",
   "metadata": {},
   "outputs": [],
   "source": [
    "from main import looking_for, compare_recipes"
   ]
  },
  {
   "cell_type": "code",
   "execution_count": null,
   "id": "f8751633-650f-457b-9633-4452aa9dc085",
   "metadata": {},
   "outputs": [
    {
     "data": {
      "application/vnd.jupyter.widget-view+json": {
       "model_id": "9fbc211c3fa24505bfcee1c06e97458e",
       "version_major": 2,
       "version_minor": 0
      },
      "text/plain": [
       "  0%|          | 0/5 [00:00<?, ?it/s]"
      ]
     },
     "metadata": {},
     "output_type": "display_data"
    },
    {
     "data": {
      "application/vnd.jupyter.widget-view+json": {
       "model_id": "692a914f036e4c39ab4f67f662efa90a",
       "version_major": 2,
       "version_minor": 0
      },
      "text/plain": [
       "  0%|          | 0/62 [00:00<?, ?it/s]"
      ]
     },
     "metadata": {},
     "output_type": "display_data"
    }
   ],
   "source": [
    "result = looking_for(\"végétarien\", 5)"
   ]
  },
  {
   "cell_type": "code",
   "execution_count": null,
   "id": "df07eaf6-76d7-4a02-83eb-760175975c33",
   "metadata": {},
   "outputs": [],
   "source": [
    "result"
   ]
  },
  {
   "cell_type": "code",
   "execution_count": null,
   "id": "837920ff-95de-460c-a02e-c57656e23958",
   "metadata": {},
   "outputs": [],
   "source": [
    "compare_recipes(result, \"Glucides (g)\")"
   ]
  },
  {
   "cell_type": "code",
   "execution_count": null,
   "id": "6599f88a-1383-46f0-9f7a-08fdb5b4a53a",
   "metadata": {},
   "outputs": [],
   "source": [
    "compare_recipes(result, \"Protéines (g)\")"
   ]
  }
 ],
 "metadata": {
  "kernelspec": {
   "display_name": "Python 3 (ipykernel)",
   "language": "python",
   "name": "python3"
  },
  "language_info": {
   "codemirror_mode": {
    "name": "ipython",
    "version": 3
   },
   "file_extension": ".py",
   "mimetype": "text/x-python",
   "name": "python",
   "nbconvert_exporter": "python",
   "pygments_lexer": "ipython3",
   "version": "3.10.4"
  }
 },
 "nbformat": 4,
 "nbformat_minor": 5
}
