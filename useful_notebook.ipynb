{
 "cells": [
  {
   "cell_type": "code",
   "execution_count": 1,
   "id": "7dac6342-f22e-47b4-bcb3-9dc81259ff62",
   "metadata": {},
   "outputs": [],
   "source": [
    "#Installation de Selenium\n",
    "\n",
    "#!wget https://dl.google.com/linux/direct/google-chrome-stable_current_amd64.deb -O /tmp/chrome.deb\n",
    "#!sudo apt-get update\n",
    "#!sudo -E apt-get install -y /tmp/chrome.deb\n",
    "#!pip install chromedriver-autoinstaller selenium"
   ]
  },
  {
   "cell_type": "code",
   "execution_count": 2,
   "id": "417e6cb8-8de4-4c96-9b76-d3f751afac75",
   "metadata": {},
   "outputs": [],
   "source": [
    "#!pip install unidecode"
   ]
  },
  {
   "cell_type": "code",
   "execution_count": 3,
   "id": "34d575f7-5c8f-4ff9-b9f0-79f183424225",
   "metadata": {},
   "outputs": [
    {
     "name": "stdout",
     "output_type": "stream",
     "text": [
      "data_tools importé !\n",
      "conversion_tools importé !\n",
      "scraping_marmiton importé ! \n",
      "scrapping_ciqual importé !\n"
     ]
    }
   ],
   "source": [
    "import scrapping.scrapping_ciqual"
   ]
  },
  {
   "cell_type": "code",
   "execution_count": 4,
   "id": "e735410f-4050-435a-90c0-1442fc458a79",
   "metadata": {},
   "outputs": [
    {
     "name": "stdout",
     "output_type": "stream",
     "text": [
      "scrapping_ciqual importé !\n"
     ]
    },
    {
     "data": {
      "text/plain": [
       "<module 'scrapping.scrapping_ciqual' from '/home/onyxia/work/Marmiton/scrapping/scrapping_ciqual.py'>"
      ]
     },
     "execution_count": 4,
     "metadata": {},
     "output_type": "execute_result"
    }
   ],
   "source": [
    "from importlib import reload\n",
    "reload(scrapping.scrapping_ciqual)"
   ]
  }
 ],
 "metadata": {
  "kernelspec": {
   "display_name": "Python 3 (ipykernel)",
   "language": "python",
   "name": "python3"
  },
  "language_info": {
   "codemirror_mode": {
    "name": "ipython",
    "version": 3
   },
   "file_extension": ".py",
   "mimetype": "text/x-python",
   "name": "python",
   "nbconvert_exporter": "python",
   "pygments_lexer": "ipython3",
   "version": "3.10.4"
  }
 },
 "nbformat": 4,
 "nbformat_minor": 5
}
