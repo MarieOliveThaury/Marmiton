{
 "cells": [
  {
   "cell_type": "markdown",
   "id": "c18ece2a-eb1e-4495-8abf-9af1cb58d986",
   "metadata": {
    "tags": []
   },
   "source": [
    "## Installation des modules nécessaires : "
   ]
  },
  {
   "cell_type": "markdown",
   "id": "14675962-aa07-470f-bf11-26d4ea5fc912",
   "metadata": {},
   "source": [
    "#### Installation du chromedriver sur SSP CLOUD "
   ]
  },
  {
   "cell_type": "code",
   "execution_count": 2,
   "id": "7dac6342-f22e-47b4-bcb3-9dc81259ff62",
   "metadata": {},
   "outputs": [],
   "source": [
    "#!wget https://dl.google.com/linux/direct/google-chrome-stable_current_amd64.deb -O /tmp/chrome.deb\n",
    "#!sudo apt-get update\n",
    "#!sudo -E apt-get install -y /tmp/chrome.deb\n",
    "#!pip install chromedriver-autoinstaller selenium\n",
    "\n",
    "#import chromedriver_autoinstaller\n",
    "#chromedriver_autoinstaller.install() "
   ]
  },
  {
   "cell_type": "markdown",
   "id": "31a12f9d-8181-4760-aa79-289d39f5b194",
   "metadata": {
    "tags": []
   },
   "source": [
    "#### Installation du chromedriver sur Google Colab "
   ]
  },
  {
   "cell_type": "code",
   "execution_count": 2,
   "id": "719ae8da-ed11-4ff8-bae3-4d3cf12207a4",
   "metadata": {},
   "outputs": [],
   "source": [
    "#!sudo apt-get update\n",
    "#!sudo apt install -y unzip xvfb libxi6 libgconf-2-4 -y\n",
    "#!sudo apt install chromium-chromedriver -y\n",
    "#!cp /usr/lib/chromium-browser/chromedriver /usr/bin"
   ]
  },
  {
   "cell_type": "markdown",
   "id": "7434efef-ffce-40a2-8bc5-327308852937",
   "metadata": {},
   "source": [
    "Si vous rencontrez des diffultés à installer le chromedriver, veuillez vous référer au [site](https://chromedriver.chromium.org/)."
   ]
  },
  {
   "cell_type": "markdown",
   "id": "766874ff-4b81-497f-b23d-8aeaa9186a8d",
   "metadata": {
    "tags": []
   },
   "source": [
    "#### Autres modules à installer"
   ]
  },
  {
   "cell_type": "code",
   "execution_count": 5,
   "id": "f1780d2e-1a0c-453d-a4ae-91a072d32fc0",
   "metadata": {},
   "outputs": [],
   "source": [
    "#!pip install selenium"
   ]
  },
  {
   "cell_type": "code",
   "execution_count": 6,
   "id": "417e6cb8-8de4-4c96-9b76-d3f751afac75",
   "metadata": {},
   "outputs": [],
   "source": [
    "#!pip install unidecode"
   ]
  },
  {
   "cell_type": "code",
   "execution_count": 7,
   "id": "34d575f7-5c8f-4ff9-b9f0-79f183424225",
   "metadata": {},
   "outputs": [
    {
     "name": "stdout",
     "output_type": "stream",
     "text": [
      "data_tools importé !\n",
      "conversion_tools importé !\n",
      "scraping_marmiton importé ! \n",
      "scrapping_ciqual importé !\n",
      "\n"
     ]
    }
   ],
   "source": [
    "import main"
   ]
  },
  {
   "cell_type": "markdown",
   "id": "43992055-54ea-4830-a303-5ce1b6cd99d1",
   "metadata": {
    "tags": []
   },
   "source": [
    "## Graphique compare_recipes "
   ]
  },
  {
   "cell_type": "code",
   "execution_count": 8,
   "id": "3080ad02-364e-40c1-ad8c-71713fa0aaad",
   "metadata": {},
   "outputs": [],
   "source": [
    "from main import looking_for, compare_recipes"
   ]
  },
  {
   "cell_type": "code",
   "execution_count": 10,
   "id": "f8751633-650f-457b-9633-4452aa9dc085",
   "metadata": {},
   "outputs": [
    {
     "name": "stdout",
     "output_type": "stream",
     "text": [
      "Etape 1 : récupération des recettes que vous propose Marmiton pour :  végétarien\n"
     ]
    },
    {
     "data": {
      "application/vnd.jupyter.widget-view+json": {
       "model_id": "71d5ab0b6c444b1691285152ca2e565d",
       "version_major": 2,
       "version_minor": 0
      },
      "text/plain": [
       "  0%|          | 0/1 [00:00<?, ?it/s]"
      ]
     },
     "metadata": {},
     "output_type": "display_data"
    },
    {
     "name": "stdout",
     "output_type": "stream",
     "text": [
      "Les recettes proposées par Marmiton ont été récupérées !\n",
      "\n",
      "Etape 2 : évaluons la qualité nutritionnelle des recettes que vous propose Marmiton\n",
      "Si le programme plante, veuillez relancer le Kernel, un problème lié au scrapping est peut-être survenu\n"
     ]
    },
    {
     "data": {
      "application/vnd.jupyter.widget-view+json": {
       "model_id": "c1b107ed4a2242f9ab7da9836b84ac8f",
       "version_major": 2,
       "version_minor": 0
      },
      "text/plain": [
       "  0%|          | 0/11 [00:00<?, ?it/s]"
      ]
     },
     "metadata": {},
     "output_type": "display_data"
    },
    {
     "name": "stdout",
     "output_type": "stream",
     "text": [
      "La qualité nutritionnelle des recettes correspondant à votre recherche est récupérée !\n",
      "Temps d'execution : 26.557309865951538 \n",
      "\n"
     ]
    }
   ],
   "source": [
    "search = \"végétarien\"\n",
    "number_of_recipe = 5\n",
    "test_compare_recipes = looking_for(search, number_of_recipe)"
   ]
  },
  {
   "cell_type": "markdown",
   "id": "b8451d8b-df2d-4a6a-8e08-77f8196563c4",
   "metadata": {},
   "source": [
    "##### Si vous n'avez pas le temps de faire tourner le programme `looking_for` (environ 2 min pour 5 recettes), vous pouvez tester les fonctions suivantes grâce à la commande ci-dessous : "
   ]
  },
  {
   "cell_type": "code",
   "execution_count": 6,
   "id": "13fba3ac-0608-4175-bf87-596aa0d7e228",
   "metadata": {},
   "outputs": [],
   "source": [
    "#import pandas as pd\n",
    "#test_compare_recipes = pd.read_csv('references/vege5.csv')"
   ]
  },
  {
   "cell_type": "code",
   "execution_count": 7,
   "id": "df07eaf6-76d7-4a02-83eb-760175975c33",
   "metadata": {},
   "outputs": [
    {
     "ename": "NameError",
     "evalue": "name 'test_compare_recipes' is not defined",
     "output_type": "error",
     "traceback": [
      "\u001b[0;31m---------------------------------------------------------------------------\u001b[0m",
      "\u001b[0;31mNameError\u001b[0m                                 Traceback (most recent call last)",
      "Cell \u001b[0;32mIn [7], line 1\u001b[0m\n\u001b[0;32m----> 1\u001b[0m \u001b[43mtest_compare_recipes\u001b[49m\u001b[38;5;241m.\u001b[39msample(\u001b[38;5;241m5\u001b[39m)\n",
      "\u001b[0;31mNameError\u001b[0m: name 'test_compare_recipes' is not defined"
     ]
    }
   ],
   "source": [
    "test_compare_recipes.sample(5)"
   ]
  },
  {
   "cell_type": "code",
   "execution_count": null,
   "id": "837920ff-95de-460c-a02e-c57656e23958",
   "metadata": {},
   "outputs": [],
   "source": [
    "nutriment = \"Sucres (g)\"\n",
    "compare_recipes(test_compare_recipes, nutriment)"
   ]
  },
  {
   "cell_type": "markdown",
   "id": "ac0ab02a-9e90-4ba8-9109-5173d7ffe759",
   "metadata": {},
   "source": [
    "## Graphique compare_food"
   ]
  },
  {
   "cell_type": "code",
   "execution_count": null,
   "id": "6b3b306e-beda-405c-a95b-6b1821f357dc",
   "metadata": {},
   "outputs": [],
   "source": [
    "from main import compare_food"
   ]
  },
  {
   "cell_type": "markdown",
   "id": "dda5ce4c-ca80-4b64-9e95-9463e4849988",
   "metadata": {},
   "source": [
    "Pour cette analyse descriptive, nous nous basons sur un échantillon de 100 recettes par catégorie (avec ou sans viande), qui correspond aux 100 premiers résultats obtenus en effectuant les recherches \"vegetarien\" et \"viande\" sur Marmiton.\n",
    "\n",
    "*N.B : Les données utilisées ci-dessous ont été scrappées grâce à la fonction `looking_for`. En raison du temps d'exécution de celle-ci sur 100 recettes, nous avons préféré stocker les données dans le dossier `references` et y faire directement appel.*"
   ]
  },
  {
   "cell_type": "code",
   "execution_count": null,
   "id": "014a504a-8823-4d8d-8461-c9b5c5a1bf38",
   "metadata": {},
   "outputs": [],
   "source": [
    "import pandas as pd\n",
    "test_compare_food_1 = pd.read_csv('references/vege100.csv')\n",
    "test_compare_food_2 = pd.read_csv('references/viande100.csv')"
   ]
  },
  {
   "cell_type": "code",
   "execution_count": null,
   "id": "98a7ce0e-d19b-4297-a48c-9ac750416d2e",
   "metadata": {},
   "outputs": [],
   "source": [
    "compare_food(test_compare_food_1, 'végétarien', test_compare_food_2, 'viande')"
   ]
  },
  {
   "cell_type": "markdown",
   "id": "924d3486-a5af-4128-bf4d-0224474dcc97",
   "metadata": {},
   "source": [
    "Les repas avec viande ont toujours des apports nutritionnels plus élevés que les repas végétariens. C'est surtout vrai pour les glucides, lipides et protéines."
   ]
  },
  {
   "cell_type": "markdown",
   "id": "6af1740e-1e64-4eda-9d3b-d355b7b2416e",
   "metadata": {
    "tags": []
   },
   "source": [
    "## Graphique nutriStandard et fonction nutriTest"
   ]
  },
  {
   "cell_type": "code",
   "execution_count": null,
   "id": "9111f4ab-f146-48b4-a473-5cb7db38b526",
   "metadata": {},
   "outputs": [],
   "source": [
    "test_nutriStandard = looking_for('Ragout végétarien aux légumes', 1)"
   ]
  },
  {
   "cell_type": "markdown",
   "id": "059c7f73-e961-491e-b4c8-d47f900a8123",
   "metadata": {},
   "source": [
    "##### Si vous n'avez pas le temps de faire tourner le programme `looking_for` (environ 30 sec pour 1 recette), vous pouvez tester les fonctions suivantes grâce à la commande ci-dessous : "
   ]
  },
  {
   "cell_type": "code",
   "execution_count": null,
   "id": "d4e22e2a-949d-4fa8-8589-151fd7a9a508",
   "metadata": {},
   "outputs": [],
   "source": [
    "#import pandas as pd\n",
    "#test_nutriStandard = pd.read_csv('references/Ragoût_végétarien.csv')"
   ]
  },
  {
   "cell_type": "code",
   "execution_count": null,
   "id": "bda94c40-f5ad-461c-a9b5-0232dea3f8ab",
   "metadata": {},
   "outputs": [],
   "source": [
    "from main import nutriStandard\n",
    "nutriStandard(test_nutriStandard).show()"
   ]
  },
  {
   "cell_type": "code",
   "execution_count": null,
   "id": "1b2389d1-3a89-48b6-9a08-ef64c17e186e",
   "metadata": {},
   "outputs": [],
   "source": []
  },
  {
   "cell_type": "markdown",
   "id": "ae02736b-f459-435c-914f-571c48d3d377",
   "metadata": {
    "tags": []
   },
   "source": [
    "### Combien de recettes végétariennes/avec viande sont-elles \"équilibrées\" ?"
   ]
  },
  {
   "cell_type": "markdown",
   "id": "9419cd2a-ea0f-4cff-8d42-55f6637e09cd",
   "metadata": {},
   "source": [
    "À partir des seuils utilisés ci-dessus, nous pouvons proposer une définition d'un repas équilibré, comme un repas conférant un apport satisfaisant à la fois en Lipides, en Glucides et en Protéines.\n",
    "\n",
    "La question est désormais de savoir dans quelle mesure les recettes végétariennes peuvent être considérées comme équilibrées, et s'il existe une différence significative entre ces dernières et les recettes avec viande."
   ]
  },
  {
   "cell_type": "code",
   "execution_count": null,
   "id": "948586a1-9cf6-408c-9f32-efb348da8bb9",
   "metadata": {},
   "outputs": [],
   "source": [
    "import pandas as pd\n",
    "from main import nutriTest"
   ]
  },
  {
   "cell_type": "code",
   "execution_count": null,
   "id": "5d2ef3cf-9f59-454b-b811-045fd5331cf4",
   "metadata": {},
   "outputs": [],
   "source": [
    "test_nutriStandard_vege = pd.read_csv('references/vege100.csv')\n",
    "test_nutriStandard_viande = pd.read_csv('references/viande100.csv')"
   ]
  },
  {
   "cell_type": "code",
   "execution_count": null,
   "id": "6562ec58-a34b-46fc-b5d8-5d23b233bc59",
   "metadata": {},
   "outputs": [],
   "source": [
    "df_vege = nutriTest(test_nutriStandard_vege)\n",
    "df_viande = nutriTest(test_nutriStandard_viande)"
   ]
  },
  {
   "cell_type": "code",
   "execution_count": null,
   "id": "29297cce-0f95-46a0-b3e8-f29416c7f849",
   "metadata": {},
   "outputs": [],
   "source": [
    "#Pour compter le nombre de repas équilibré dans l'échantillon\n",
    "df_vege['Repas équilibré'].value_counts()"
   ]
  },
  {
   "cell_type": "markdown",
   "id": "79c7afb1-b669-4475-9372-65993de6b031",
   "metadata": {},
   "source": [
    "Sur notre échantillon de 100 recettes végétariennes, seules 3 recettes peuvent être considérées comme équilibrées."
   ]
  },
  {
   "cell_type": "code",
   "execution_count": null,
   "id": "9ae128e6-08e9-42b2-b208-2f00bf3b3f1f",
   "metadata": {},
   "outputs": [],
   "source": [
    "df_viande['Repas équilibré'].value_counts()"
   ]
  },
  {
   "cell_type": "markdown",
   "id": "dc6c1a8f-8631-494c-ae7b-f7019bf7ab17",
   "metadata": {},
   "source": [
    "Sur notre échantillon de 100 recettes avec viande, aucune recette ne peut être considérée comme équilibrée.\n",
    "\n",
    "Le critère *repas équilibré* semble très exigeant. Nous pouvons toutefois penser que les repas végétariens sont plus sains que les repas avec viande. Pour en avoir le coeur net, regardons dans le détail les proportions de recettes qui peuvent être considérées comme satisfaisantes en l'un des trois macronutriments."
   ]
  },
  {
   "cell_type": "code",
   "execution_count": null,
   "id": "c1998e13-57c5-400c-b8c4-e9749288863d",
   "metadata": {},
   "outputs": [],
   "source": [
    "print(df_vege['Satisfaisant en glucides'].value_counts())\n",
    "print(df_vege['Satisfaisant en lipides'].value_counts())\n",
    "print(df_vege['Satisfaisant en protéines'].value_counts())"
   ]
  },
  {
   "cell_type": "code",
   "execution_count": null,
   "id": "0cbf2b66-73c3-4393-ad49-0d93d9976a39",
   "metadata": {},
   "outputs": [],
   "source": [
    "print(df_viande['Satisfaisant en glucides'].value_counts())\n",
    "print(df_viande['Satisfaisant en lipides'].value_counts())\n",
    "print(df_viande['Satisfaisant en protéines'].value_counts())"
   ]
  },
  {
   "cell_type": "markdown",
   "id": "9965df5a-d8bd-4811-b82a-ed02034bd4cb",
   "metadata": {},
   "source": [
    "Pour chacun des macronutriments, on compte plus de recettes ayant un apport satisfaisant au sein des recettes végétariennes qu'au sein des recettes avec viande. On peut donc dire que les plats végétariens sont plus sains que les plats avec viande, en particulier sur le critère *glucides*, et de manière encore plus nette sur le critère *protéines*.\n",
    "\n",
    "Notons que les protéines sont souvent citées comme un exemple de nutriment pouvant manquer dans un régime végétarien. Les graphiques précédents nous ont montré que les recettes végétariennes sont en moyennes moins riches en protéines que les recettes avec viande. Or ces mêmes recettes végétariennes sont aussi plus saines dans leur apport en protéines. Ici, ce sont en fait les recettes carnées qui seraient trop riches en protéines."
   ]
  },
  {
   "cell_type": "markdown",
   "id": "fdbe9e5a-ca77-4eaa-a7c4-7dcd13a17a78",
   "metadata": {},
   "source": [
    "# III - Modélisation"
   ]
  },
  {
   "cell_type": "code",
   "execution_count": 3,
   "id": "721e779e-9358-4bce-9441-7c16a715f6a8",
   "metadata": {},
   "outputs": [],
   "source": [
    "import pandas as pd\n",
    "import seaborn as sns\n",
    "#import main\n",
    "import statsmodels.api as sm"
   ]
  },
  {
   "cell_type": "code",
   "execution_count": 4,
   "id": "40bc7a59-e72b-42ae-afed-01d8f6bb5937",
   "metadata": {},
   "outputs": [
    {
     "ename": "ModuleNotFoundError",
     "evalue": "No module named 'selenium'",
     "output_type": "error",
     "traceback": [
      "\u001b[0;31m---------------------------------------------------------------------------\u001b[0m",
      "\u001b[0;31mModuleNotFoundError\u001b[0m                       Traceback (most recent call last)",
      "Cell \u001b[0;32mIn [4], line 1\u001b[0m\n\u001b[0;32m----> 1\u001b[0m \u001b[38;5;28;01mfrom\u001b[39;00m \u001b[38;5;21;01mmain\u001b[39;00m \u001b[38;5;28;01mimport\u001b[39;00m reg_simple,reg_multiple\n",
      "File \u001b[0;32m~/work/Marmiton_Ciqual/main.py:1\u001b[0m\n\u001b[0;32m----> 1\u001b[0m \u001b[38;5;28;01mfrom\u001b[39;00m \u001b[38;5;21;01mscrapping\u001b[39;00m\u001b[38;5;21;01m.\u001b[39;00m\u001b[38;5;21;01mscrapping_ciqual\u001b[39;00m \u001b[38;5;28;01mimport\u001b[39;00m \u001b[38;5;241m*\u001b[39m\n\u001b[1;32m      2\u001b[0m \u001b[38;5;28;01mimport\u001b[39;00m \u001b[38;5;21;01mplotly\u001b[39;00m\u001b[38;5;21;01m.\u001b[39;00m\u001b[38;5;21;01mexpress\u001b[39;00m \u001b[38;5;28;01mas\u001b[39;00m \u001b[38;5;21;01mpx\u001b[39;00m\n\u001b[1;32m      3\u001b[0m \u001b[38;5;28;01mfrom\u001b[39;00m \u001b[38;5;21;01mplotly\u001b[39;00m\u001b[38;5;21;01m.\u001b[39;00m\u001b[38;5;21;01msubplots\u001b[39;00m \u001b[38;5;28;01mimport\u001b[39;00m make_subplots\n",
      "File \u001b[0;32m~/work/Marmiton_Ciqual/scrapping/scrapping_ciqual.py:1\u001b[0m\n\u001b[0;32m----> 1\u001b[0m \u001b[38;5;28;01mfrom\u001b[39;00m \u001b[38;5;21;01mselenium\u001b[39;00m \u001b[38;5;28;01mimport\u001b[39;00m webdriver\n\u001b[1;32m      2\u001b[0m \u001b[38;5;28;01mfrom\u001b[39;00m \u001b[38;5;21;01mselenium\u001b[39;00m\u001b[38;5;21;01m.\u001b[39;00m\u001b[38;5;21;01mwebdriver\u001b[39;00m\u001b[38;5;21;01m.\u001b[39;00m\u001b[38;5;21;01mcommon\u001b[39;00m\u001b[38;5;21;01m.\u001b[39;00m\u001b[38;5;21;01mkeys\u001b[39;00m \u001b[38;5;28;01mimport\u001b[39;00m Keys\n\u001b[1;32m      3\u001b[0m \u001b[38;5;28;01mfrom\u001b[39;00m \u001b[38;5;21;01mselenium\u001b[39;00m\u001b[38;5;21;01m.\u001b[39;00m\u001b[38;5;21;01mwebdriver\u001b[39;00m\u001b[38;5;21;01m.\u001b[39;00m\u001b[38;5;21;01mcommon\u001b[39;00m\u001b[38;5;21;01m.\u001b[39;00m\u001b[38;5;21;01mby\u001b[39;00m \u001b[38;5;28;01mimport\u001b[39;00m By\n",
      "\u001b[0;31mModuleNotFoundError\u001b[0m: No module named 'selenium'"
     ]
    }
   ],
   "source": [
    "from main import reg_simple,reg_multiple"
   ]
  },
  {
   "cell_type": "code",
   "execution_count": 7,
   "id": "a7c93a0d-e306-4741-b2fb-5979707bbad5",
   "metadata": {},
   "outputs": [
    {
     "name": "stderr",
     "output_type": "stream",
     "text": [
      "/tmp/ipykernel_138/1977524060.py:6: FutureWarning: The default value of numeric_only in DataFrameGroupBy.sum is deprecated. In a future version, numeric_only will default to False. Either specify numeric_only or select only columns which should be valid for the function.\n",
      "  moyenne_non_vege=base_non_vege.groupby('Nom recette').sum()\n",
      "/tmp/ipykernel_138/1977524060.py:7: FutureWarning: The default value of numeric_only in DataFrameGroupBy.sum is deprecated. In a future version, numeric_only will default to False. Either specify numeric_only or select only columns which should be valid for the function.\n",
      "  moyenne_vege=base_vege.groupby('Nom recette').sum()\n"
     ]
    }
   ],
   "source": [
    "base_vege=pd.read_csv('references/vege100.csv')\n",
    "base_non_vege=pd.read_csv('references/viande100.csv')\n",
    "avis_vege=base_vege.groupby('Nom recette').agg({'Nombre de commentaires':'first'})\n",
    "avis_non_vege=base_non_vege.groupby('Nom recette').agg({'Nombre de commentaires':'first'})\n",
    "avis_final=pd.concat([avis_non_vege,avis_vege])\n",
    "moyenne_non_vege=base_non_vege.groupby('Nom recette').sum()\n",
    "moyenne_vege=base_vege.groupby('Nom recette').sum()\n",
    "moyenne_non_vege=moyenne_non_vege.div(moyenne_non_vege['Quantité'],axis=0)*100\n",
    "moyenne_vege=moyenne_vege.div(moyenne_vege['Quantité'],axis=0)*100\n",
    "moyenne_non_vege['Viande']=1\n",
    "moyenne_vege['Viande']=0\n",
    "moyenne_finale=pd.concat([moyenne_non_vege,moyenne_vege])\n",
    "moyenne_finale=moyenne_finale.merge(avis_final, on='Nom recette', how='left')"
   ]
  },
  {
   "cell_type": "code",
   "execution_count": null,
   "id": "7da495ea-bb9c-42dc-b071-33b551c09cda",
   "metadata": {},
   "outputs": [],
   "source": [
    "reg_simple(moyenne_finale['Viande'],moyenne_finale['Nombre de commentaires'])"
   ]
  },
  {
   "cell_type": "code",
   "execution_count": null,
   "id": "bfb5366d-ceb3-436e-b770-0731ba15e255",
   "metadata": {},
   "outputs": [],
   "source": [
    "sns.lmplot(x=\"Viande\", y=\"Nombre de commentaires\", data=moyenne_finale)"
   ]
  },
  {
   "cell_type": "code",
   "execution_count": null,
   "id": "816a31f0-fa91-4f5f-9705-300c7735d919",
   "metadata": {},
   "outputs": [],
   "source": [
    "reg_multiple(moyenne_finale[['Protéines (g)','Viande']],moyenne_finale['Nombre de commentaires'])"
   ]
  },
  {
   "cell_type": "code",
   "execution_count": null,
   "id": "603239e1-5b4e-4d04-9f72-25e0aa99cff2",
   "metadata": {},
   "outputs": [],
   "source": [
    "reg_multiple(moyenne_finale[['Protéines (g)','Glucides (g)','Sucres (g)','Lipides (g)','AG saturés (g)','Viande']],moyenne_finale['Nombre de commentaires'])"
   ]
  }
 ],
 "metadata": {
  "kernelspec": {
   "display_name": "Python 3 (ipykernel)",
   "language": "python",
   "name": "python3"
  },
  "language_info": {
   "codemirror_mode": {
    "name": "ipython",
    "version": 3
   },
   "file_extension": ".py",
   "mimetype": "text/x-python",
   "name": "python",
   "nbconvert_exporter": "python",
   "pygments_lexer": "ipython3",
   "version": "3.10.4"
  }
 },
 "nbformat": 4,
 "nbformat_minor": 5
}
