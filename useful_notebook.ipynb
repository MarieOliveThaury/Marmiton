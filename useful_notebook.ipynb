{
 "cells": [
  {
   "cell_type": "markdown",
   "id": "c18ece2a-eb1e-4495-8abf-9af1cb58d986",
   "metadata": {
    "tags": []
   },
   "source": [
    "## Installation des modules nécessaires : "
   ]
  },
  {
   "cell_type": "markdown",
   "id": "14675962-aa07-470f-bf11-26d4ea5fc912",
   "metadata": {},
   "source": [
    "#### Installation du chromedriver sur SSP CLOUD "
   ]
  },
  {
   "cell_type": "code",
   "execution_count": null,
   "id": "7dac6342-f22e-47b4-bcb3-9dc81259ff62",
   "metadata": {},
   "outputs": [],
   "source": [
    "#!wget https://dl.google.com/linux/direct/google-chrome-stable_current_amd64.deb -O /tmp/chrome.deb\n",
    "#!sudo apt-get update\n",
    "#!sudo -E apt-get install -y /tmp/chrome.deb\n",
    "#!pip install chromedriver-autoinstaller selenium\n",
    "\n",
    "#import chromedriver_autoinstaller\n",
    "#chromedriver_autoinstaller.install() "
   ]
  },
  {
   "cell_type": "markdown",
   "id": "31a12f9d-8181-4760-aa79-289d39f5b194",
   "metadata": {
    "tags": []
   },
   "source": [
    "#### Installation du chromedriver sur Google Colab "
   ]
  },
  {
   "cell_type": "code",
   "execution_count": 7,
   "id": "719ae8da-ed11-4ff8-bae3-4d3cf12207a4",
   "metadata": {},
   "outputs": [],
   "source": [
    "#!sudo apt-get update\n",
    "#!sudo apt install -y unzip xvfb libxi6 libgconf-2-4 -y\n",
    "#!sudo apt install chromium-chromedriver -y\n",
    "#!cp /usr/lib/chromium-browser/chromedriver /usr/bin"
   ]
  },
  {
   "cell_type": "markdown",
   "id": "7434efef-ffce-40a2-8bc5-327308852937",
   "metadata": {},
   "source": [
    "Si vous rencontrez des diffultés à installer le chromedriver, veuillez vous référer au [site](https://chromedriver.chromium.org/)."
   ]
  },
  {
   "cell_type": "markdown",
   "id": "766874ff-4b81-497f-b23d-8aeaa9186a8d",
   "metadata": {
    "tags": []
   },
   "source": [
    "#### Autres modules à installer"
   ]
  },
  {
   "cell_type": "code",
   "execution_count": 9,
   "id": "f1780d2e-1a0c-453d-a4ae-91a072d32fc0",
   "metadata": {},
   "outputs": [
    {
     "name": "stdout",
     "output_type": "stream",
     "text": [
      "Requirement already satisfied: selenium in /opt/mamba/lib/python3.10/site-packages (4.7.2)\n",
      "Requirement already satisfied: trio~=0.17 in /opt/mamba/lib/python3.10/site-packages (from selenium) (0.22.0)\n",
      "Requirement already satisfied: urllib3[socks]~=1.26 in /opt/mamba/lib/python3.10/site-packages (from selenium) (1.26.11)\n",
      "Requirement already satisfied: trio-websocket~=0.9 in /opt/mamba/lib/python3.10/site-packages (from selenium) (0.9.2)\n",
      "Requirement already satisfied: certifi>=2021.10.8 in /opt/mamba/lib/python3.10/site-packages (from selenium) (2022.9.24)\n",
      "Requirement already satisfied: sniffio in /opt/mamba/lib/python3.10/site-packages (from trio~=0.17->selenium) (1.3.0)\n",
      "Requirement already satisfied: attrs>=19.2.0 in /opt/mamba/lib/python3.10/site-packages (from trio~=0.17->selenium) (22.1.0)\n",
      "Requirement already satisfied: sortedcontainers in /opt/mamba/lib/python3.10/site-packages (from trio~=0.17->selenium) (2.4.0)\n",
      "Requirement already satisfied: exceptiongroup>=1.0.0rc9 in /opt/mamba/lib/python3.10/site-packages (from trio~=0.17->selenium) (1.0.4)\n",
      "Requirement already satisfied: idna in /opt/mamba/lib/python3.10/site-packages (from trio~=0.17->selenium) (3.4)\n",
      "Requirement already satisfied: async-generator>=1.9 in /opt/mamba/lib/python3.10/site-packages (from trio~=0.17->selenium) (1.10)\n",
      "Requirement already satisfied: outcome in /opt/mamba/lib/python3.10/site-packages (from trio~=0.17->selenium) (1.2.0)\n",
      "Requirement already satisfied: wsproto>=0.14 in /opt/mamba/lib/python3.10/site-packages (from trio-websocket~=0.9->selenium) (1.2.0)\n",
      "Requirement already satisfied: PySocks!=1.5.7,<2.0,>=1.5.6 in /opt/mamba/lib/python3.10/site-packages (from urllib3[socks]~=1.26->selenium) (1.7.1)\n",
      "Requirement already satisfied: h11<1,>=0.9.0 in /opt/mamba/lib/python3.10/site-packages (from wsproto>=0.14->trio-websocket~=0.9->selenium) (0.14.0)\n"
     ]
    }
   ],
   "source": [
    "!pip install selenium"
   ]
  },
  {
   "cell_type": "code",
   "execution_count": 10,
   "id": "417e6cb8-8de4-4c96-9b76-d3f751afac75",
   "metadata": {},
   "outputs": [
    {
     "name": "stdout",
     "output_type": "stream",
     "text": [
      "Collecting unidecode\n",
      "  Downloading Unidecode-1.3.6-py3-none-any.whl (235 kB)\n",
      "\u001b[2K     \u001b[90m━━━━━━━━━━━━━━━━━━━━━━━━━━━━━━━━━━━━━━━\u001b[0m \u001b[32m235.9/235.9 kB\u001b[0m \u001b[31m7.6 MB/s\u001b[0m eta \u001b[36m0:00:00\u001b[0m\n",
      "\u001b[?25hInstalling collected packages: unidecode\n",
      "Successfully installed unidecode-1.3.6\n"
     ]
    }
   ],
   "source": [
    "!pip install unidecode"
   ]
  },
  {
   "cell_type": "code",
   "execution_count": 16,
   "id": "34d575f7-5c8f-4ff9-b9f0-79f183424225",
   "metadata": {},
   "outputs": [],
   "source": [
    "import main"
   ]
  },
  {
   "cell_type": "markdown",
   "id": "2b738cca-8aa6-499b-ae39-996119a5c4ff",
   "metadata": {},
   "source": [
    "# I-Récupération des données :"
   ]
  },
  {
   "cell_type": "markdown",
   "id": "bb7465df-52b3-455c-887a-159bb7a5c6ab",
   "metadata": {},
   "source": [
    "### A - Le scrapping de Marmiton :"
   ]
  },
  {
   "cell_type": "markdown",
   "id": "585ac817-058e-44ba-89d0-7c3cca6704c7",
   "metadata": {},
   "source": [
    "Notre projet a débuté par de la récupération de données. La première étape a été de récupérer les données provenant de Marmiton. Dans le fichier `scrapping_marmiton.py` se trouvent l'ensemble des fonctions nécessaires pour l'extraction de ces données. Pour scrapper les données de Marmiton, nous avons fait le choix de réaliser un scrapping statique grâce à la méthode `BeautifulSoup`. Comparée à un scrapping dynamique, cette technique présentait pour nous deux avantages : \n",
    "1) déjà, n'ayant jamais fait de scrapping auparavant, cette méthode était plus abordable et plus facile à coder. \n",
    "2) ensuite, elle ignore complètement la présence de fenêtres pop-up publicitaires, présentes dès l'ouverture de la page d'accueil, et pouvant apparaître au cours de la recherche. Ne pas avoir à gérer ces fenêtres publicitaires nous a notamment permis d'optimiser le temps d'execution de l'algorithme car nous n'avions pas besoin d'utiliser des commandes telles que `time.sleep()`.\n"
   ]
  },
  {
   "cell_type": "code",
   "execution_count": 29,
   "id": "9c7c4a50-2e6c-4fbf-8557-a10fbfb29379",
   "metadata": {},
   "outputs": [],
   "source": [
    "from scrapping.scrapping_marmiton import *"
   ]
  },
  {
   "cell_type": "markdown",
   "id": "f78fed70-723d-4e4c-8c33-e3b3dee1f96b",
   "metadata": {},
   "source": [
    "Le scrapping des données Marmiton à partir d'une recherche de type `'végétarien'` se fait en trois étapes :\n",
    "\n",
    "1) tout d'abord, la fonction `find_all_dishes` trouve l'ensemble des pages de proposition correspondant à la recherche `'végétarien'`, une page de recherche étant une page sur laquelle s'affiche une dizaine de plats.\n",
    "2) ensuite, cette même fonction récupère à partir de ces pages de proposition, les urls des pages des plats proposés pour la recherche `'végétarien'`"
   ]
  },
  {
   "cell_type": "code",
   "execution_count": 30,
   "id": "b6a78dd5-c3bb-4a36-a0ee-6135d5d1f119",
   "metadata": {},
   "outputs": [
    {
     "data": {
      "text/plain": [
       "['https://www.marmiton.org/recettes/recette_lasagnes-vegetariennes-facile_10527.aspx',\n",
       " 'https://www.marmiton.org/recettes/recette_hachis-parmentier-vegetarien_14594.aspx',\n",
       " 'https://www.marmiton.org/recettes/recette_curry-de-legumes-vegetarien_88522.aspx',\n",
       " 'https://www.marmiton.org/recettes/recette_hamburger-vegetarien_19445.aspx',\n",
       " 'https://www.marmiton.org/recettes/recette_tourte-de-noel-vegetarienne-de-coralie_15536.aspx']"
      ]
     },
     "execution_count": 30,
     "metadata": {},
     "output_type": "execute_result"
    }
   ],
   "source": [
    "find_all_dishes('végétarien',5)"
   ]
  },
  {
   "cell_type": "markdown",
   "id": "36f3b254-d9d8-4ce6-a316-5060c429b252",
   "metadata": {},
   "source": [
    "3) finalement, la fonction `find_all_recipes` récupère grâce à la fonction `find_recipe` pour chaque plat proposé pour la recherche `'végétarien'` : \n",
    "- le nom de la recette,\n",
    "- la recette (ingrédients et quantités), \n",
    "- le nombre de personnes,  \n",
    "- le nombre de commentaires. "
   ]
  },
  {
   "cell_type": "markdown",
   "id": "20383083-8a0a-4f93-910d-5db3cd1bcaea",
   "metadata": {},
   "source": [
    "Notez que la conversion de toutes les quantités en grammes est expliquée plus en détail dans le fichier readme"
   ]
  },
  {
   "cell_type": "markdown",
   "id": "8ebe8684-b36e-4015-86fb-5f663da7357a",
   "metadata": {},
   "source": [
    "find_all_recipes('végétarien',5)"
   ]
  },
  {
   "cell_type": "markdown",
   "id": "1aa65262-bcda-444d-964e-9dd7eb76308b",
   "metadata": {},
   "source": [
    "### B - Scrapping Ciqual :"
   ]
  },
  {
   "cell_type": "markdown",
   "id": "ec40b5cf-d356-46ba-bb11-49801e051e07",
   "metadata": {},
   "source": [
    "Une fois les données de Marmiton obtenues, notre objectif était de croiser ces données avec les données nutritionnelles de la base Ciqual de l’ANSES. Pour chaque ingrédient de chaque recette scrappée sur Marmiton, nous souhaitions obtenir les apports nutritionnels globaux (apport calorique et énergétique), ainsi que la composition nutritionnelle pour quelques nutriments principaux (lipides, glucides, protéines…)."
   ]
  },
  {
   "cell_type": "markdown",
   "id": "88eb9362-3eda-4999-9ade-8cad7410a60d",
   "metadata": {},
   "source": [
    "Nous avons décidé de scrapper directement le site internet de Ciqual, pour récupérer les données souhaitées. Cette méthode avait de nombreux avantages: tout d’abord, nous bénéficiions du moteur de recherche de Ciqual, et n’avions qu’à nous assurer de formuler correctement notre recherche pour obtenir un résultat adéquat ; pour chaque recherche, nous avons ainsi gardé le premier résultat. Ensuite, le site de Ciqual offrait la possibilité de consulter directement la composition abrégée de l’ingrédient cherché, soit les nutriments principaux retenus pour notre étude. Enfin, cette méthode présentait pour nous un intérêt pédagogique : le site de Ciqual étant codé de façon dynamique, le scrapping nécessitait ici l’utilisation de `Selenium`."
   ]
  },
  {
   "cell_type": "markdown",
   "id": "7b4c271c-b860-4c5f-878d-c8ff5908f503",
   "metadata": {},
   "source": [
    "Dans le fichier `scrapping_ciqual.py` vous trouverez la fonction `nutrition` nécessaire à la collecte des données Ciqual. Notre scrapper fonctionne avec le browser `chromedriver`."
   ]
  },
  {
   "cell_type": "code",
   "execution_count": null,
   "id": "5daffd76-1542-4daa-87a2-a0aca84d7a97",
   "metadata": {},
   "outputs": [],
   "source": []
  },
  {
   "cell_type": "markdown",
   "id": "43992055-54ea-4830-a303-5ce1b6cd99d1",
   "metadata": {
    "tags": []
   },
   "source": [
    "## Graphique compare_recipes "
   ]
  },
  {
   "cell_type": "code",
   "execution_count": 12,
   "id": "3080ad02-364e-40c1-ad8c-71713fa0aaad",
   "metadata": {},
   "outputs": [],
   "source": [
    "from main import looking_for, compare_recipes"
   ]
  },
  {
   "cell_type": "code",
   "execution_count": 13,
   "id": "f8751633-650f-457b-9633-4452aa9dc085",
   "metadata": {},
   "outputs": [
    {
     "name": "stdout",
     "output_type": "stream",
     "text": [
      "Etape 1 : récupération des recettes que vous propose Marmiton pour :  végétarien\n"
     ]
    },
    {
     "data": {
      "application/vnd.jupyter.widget-view+json": {
       "model_id": "2ab0f267a35c40bc8df63747a874f34b",
       "version_major": 2,
       "version_minor": 0
      },
      "text/plain": [
       "  0%|          | 0/5 [00:00<?, ?it/s]"
      ]
     },
     "metadata": {},
     "output_type": "display_data"
    },
    {
     "name": "stdout",
     "output_type": "stream",
     "text": [
      "Les recettes proposées par Marmiton ont été récupérées !\n",
      "\n",
      "Etape 2 : évaluons la qualité nutritionnelle des recettes que vous propose Marmiton\n",
      "Si le programme plante, veuillez relancer le Kernel, un problème lié au scrapping est peut-être survenu\n"
     ]
    },
    {
     "data": {
      "application/vnd.jupyter.widget-view+json": {
       "model_id": "c75b90d3883d4a589f92faa7212cd128",
       "version_major": 2,
       "version_minor": 0
      },
      "text/plain": [
       "  0%|          | 0/62 [00:00<?, ?it/s]"
      ]
     },
     "metadata": {},
     "output_type": "display_data"
    },
    {
     "name": "stdout",
     "output_type": "stream",
     "text": [
      "La qualité nutritionnelle des recettes correspondant à votre recherche est récupérée !\n",
      "Temps d'execution : 123.20178771018982 \n",
      "\n"
     ]
    }
   ],
   "source": [
    "search = \"végétarien\"\n",
    "number_of_recipe = 5\n",
    "test_compare_recipes = looking_for(search, number_of_recipe)"
   ]
  },
  {
   "cell_type": "markdown",
   "id": "b8451d8b-df2d-4a6a-8e08-77f8196563c4",
   "metadata": {},
   "source": [
    "##### Si vous n'avez pas le temps de faire tourner le programme `looking_for` (environ 2 min pour 5 recettes), vous pouvez tester les fonctions suivantes grâce à la commande ci-dessous : "
   ]
  },
  {
   "cell_type": "code",
   "execution_count": null,
   "id": "13fba3ac-0608-4175-bf87-596aa0d7e228",
   "metadata": {},
   "outputs": [],
   "source": [
    "import pandas as pd\n",
    "#test_compare_recipes = pd.read_csv('references/vege5.csv')"
   ]
  },
  {
   "cell_type": "code",
   "execution_count": null,
   "id": "df07eaf6-76d7-4a02-83eb-760175975c33",
   "metadata": {},
   "outputs": [],
   "source": [
    "test_compare_recipes.sample(5)"
   ]
  },
  {
   "cell_type": "code",
   "execution_count": null,
   "id": "837920ff-95de-460c-a02e-c57656e23958",
   "metadata": {},
   "outputs": [],
   "source": [
    "nutriment = \"Sucres (g)\"\n",
    "compare_recipes(test_compare_recipes, nutriment)"
   ]
  },
  {
   "cell_type": "markdown",
   "id": "ac0ab02a-9e90-4ba8-9109-5173d7ffe759",
   "metadata": {},
   "source": [
    "## Graphique compare_food"
   ]
  },
  {
   "cell_type": "code",
   "execution_count": null,
   "id": "6b3b306e-beda-405c-a95b-6b1821f357dc",
   "metadata": {},
   "outputs": [],
   "source": [
    "from main import compare_food"
   ]
  },
  {
   "cell_type": "markdown",
   "id": "dda5ce4c-ca80-4b64-9e95-9463e4849988",
   "metadata": {},
   "source": [
    "Pour cette analyse descriptive, nous nous basons sur un échantillon de 100 recettes par catégorie (avec ou sans viande), qui correspond aux 100 premiers résultats obtenus en effectuant les recherches \"vegetarien\" et \"viande\" sur Marmiton.\n",
    "\n",
    "*N.B : Les données utilisées ci-dessous ont été scrappées grâce à la fonction `looking_for`. En raison du temps d'exécution de celle-ci sur 100 recettes, nous avons préféré stocker les données dans le dossier `references` et y faire directement appel.*"
   ]
  },
  {
   "cell_type": "code",
   "execution_count": null,
   "id": "014a504a-8823-4d8d-8461-c9b5c5a1bf38",
   "metadata": {},
   "outputs": [],
   "source": [
    "import pandas as pd\n",
    "test_compare_food_1 = pd.read_csv('references/vege100.csv')\n",
    "test_compare_food_2 = pd.read_csv('references/viande100.csv')"
   ]
  },
  {
   "cell_type": "code",
   "execution_count": null,
   "id": "98a7ce0e-d19b-4297-a48c-9ac750416d2e",
   "metadata": {},
   "outputs": [],
   "source": [
    "compare_food(test_compare_food_1, 'végétarien', test_compare_food_2, 'viande')"
   ]
  },
  {
   "cell_type": "markdown",
   "id": "924d3486-a5af-4128-bf4d-0224474dcc97",
   "metadata": {},
   "source": [
    "Les repas avec viande ont toujours des apports nutritionnels plus élevés que les repas végétariens. C'est surtout vrai pour les glucides, lipides et protéines."
   ]
  },
  {
   "cell_type": "markdown",
   "id": "6af1740e-1e64-4eda-9d3b-d355b7b2416e",
   "metadata": {
    "tags": []
   },
   "source": [
    "## Graphique nutriStandard et fonction nutriTest"
   ]
  },
  {
   "cell_type": "code",
   "execution_count": null,
   "id": "9111f4ab-f146-48b4-a473-5cb7db38b526",
   "metadata": {},
   "outputs": [],
   "source": [
    "test_nutriStandard = looking_for('Ragout végétarien aux légumes', 1)"
   ]
  },
  {
   "cell_type": "markdown",
   "id": "059c7f73-e961-491e-b4c8-d47f900a8123",
   "metadata": {},
   "source": [
    "##### Si vous n'avez pas le temps de faire tourner le programme `looking_for` (environ 30 sec pour 1 recette), vous pouvez tester les fonctions suivantes grâce à la commande ci-dessous : "
   ]
  },
  {
   "cell_type": "code",
   "execution_count": null,
   "id": "d4e22e2a-949d-4fa8-8589-151fd7a9a508",
   "metadata": {},
   "outputs": [],
   "source": [
    "#import pandas as pd\n",
    "#test_nutriStandard = pd.read_csv('references/Ragoût_végétarien.csv')"
   ]
  },
  {
   "cell_type": "code",
   "execution_count": null,
   "id": "bda94c40-f5ad-461c-a9b5-0232dea3f8ab",
   "metadata": {},
   "outputs": [],
   "source": [
    "from main import nutriStandard\n",
    "nutriStandard(test_nutriStandard).show()"
   ]
  },
  {
   "cell_type": "code",
   "execution_count": null,
   "id": "1b2389d1-3a89-48b6-9a08-ef64c17e186e",
   "metadata": {},
   "outputs": [],
   "source": []
  },
  {
   "cell_type": "markdown",
   "id": "ae02736b-f459-435c-914f-571c48d3d377",
   "metadata": {
    "tags": []
   },
   "source": [
    "### Combien de recettes végétariennes/avec viande sont-elles \"équilibrées\" ?"
   ]
  },
  {
   "cell_type": "markdown",
   "id": "9419cd2a-ea0f-4cff-8d42-55f6637e09cd",
   "metadata": {},
   "source": [
    "À partir des seuils utilisés ci-dessus, nous pouvons proposer une définition d'un repas équilibré, comme un repas conférant un apport satisfaisant à la fois en Lipides, en Glucides et en Protéines.\n",
    "\n",
    "La question est désormais de savoir dans quelle mesure les recettes végétariennes peuvent être considérées comme équilibrées, et s'il existe une différence significative entre ces dernières et les recettes avec viande."
   ]
  },
  {
   "cell_type": "code",
   "execution_count": null,
   "id": "948586a1-9cf6-408c-9f32-efb348da8bb9",
   "metadata": {},
   "outputs": [],
   "source": [
    "import pandas as pd\n",
    "from main import nutriTest"
   ]
  },
  {
   "cell_type": "code",
   "execution_count": null,
   "id": "5d2ef3cf-9f59-454b-b811-045fd5331cf4",
   "metadata": {},
   "outputs": [],
   "source": [
    "test_nutriStandard_vege = pd.read_csv('references/vege100.csv')\n",
    "test_nutriStandard_viande = pd.read_csv('references/viande100.csv')"
   ]
  },
  {
   "cell_type": "code",
   "execution_count": null,
   "id": "6562ec58-a34b-46fc-b5d8-5d23b233bc59",
   "metadata": {},
   "outputs": [],
   "source": [
    "df_vege = nutriTest(test_nutriStandard_vege)\n",
    "df_viande = nutriTest(test_nutriStandard_viande)"
   ]
  },
  {
   "cell_type": "code",
   "execution_count": null,
   "id": "29297cce-0f95-46a0-b3e8-f29416c7f849",
   "metadata": {},
   "outputs": [],
   "source": [
    "#Pour compter le nombre de repas équilibré dans l'échantillon\n",
    "df_vege['Repas équilibré'].value_counts()"
   ]
  },
  {
   "cell_type": "markdown",
   "id": "79c7afb1-b669-4475-9372-65993de6b031",
   "metadata": {},
   "source": [
    "Sur notre échantillon de 100 recettes végétariennes, seules 3 recettes peuvent être considérées comme équilibrées."
   ]
  },
  {
   "cell_type": "code",
   "execution_count": null,
   "id": "9ae128e6-08e9-42b2-b208-2f00bf3b3f1f",
   "metadata": {},
   "outputs": [],
   "source": [
    "df_viande['Repas équilibré'].value_counts()"
   ]
  },
  {
   "cell_type": "markdown",
   "id": "dc6c1a8f-8631-494c-ae7b-f7019bf7ab17",
   "metadata": {},
   "source": [
    "Sur notre échantillon de 100 recettes avec viande, aucune recette ne peut être considérée comme équilibrée.\n",
    "\n",
    "Le critère *repas équilibré* semble très exigeant. Nous pouvons toutefois penser que les repas végétariens sont plus sains que les repas avec viande. Pour en avoir le coeur net, regardons dans le détail les proportions de recettes qui peuvent être considérées comme satisfaisantes en l'un des trois macronutriments."
   ]
  },
  {
   "cell_type": "code",
   "execution_count": null,
   "id": "c1998e13-57c5-400c-b8c4-e9749288863d",
   "metadata": {},
   "outputs": [],
   "source": [
    "print(df_vege['Satisfaisant en glucides'].value_counts())\n",
    "print(df_vege['Satisfaisant en lipides'].value_counts())\n",
    "print(df_vege['Satisfaisant en protéines'].value_counts())"
   ]
  },
  {
   "cell_type": "code",
   "execution_count": null,
   "id": "0cbf2b66-73c3-4393-ad49-0d93d9976a39",
   "metadata": {},
   "outputs": [],
   "source": [
    "print(df_viande['Satisfaisant en glucides'].value_counts())\n",
    "print(df_viande['Satisfaisant en lipides'].value_counts())\n",
    "print(df_viande['Satisfaisant en protéines'].value_counts())"
   ]
  },
  {
   "cell_type": "markdown",
   "id": "9965df5a-d8bd-4811-b82a-ed02034bd4cb",
   "metadata": {},
   "source": [
    "Pour chacun des macronutriments, on compte plus de recettes ayant un apport satisfaisant au sein des recettes végétariennes qu'au sein des recettes avec viande. On peut donc dire que les plats végétariens sont plus sains que les plats avec viande, en particulier sur le critère *glucides*, et de manière encore plus nette sur le critère *protéines*.\n",
    "\n",
    "Notons que les protéines sont souvent citées comme un exemple de nutriment pouvant manquer dans un régime végétarien. Les graphiques précédents nous ont montré que les recettes végétariennes sont en moyennes moins riches en protéines que les recettes avec viande. Or ces mêmes recettes végétariennes sont aussi plus saines dans leur apport en protéines. Ici, ce sont en fait les recettes carnées qui seraient trop riches en protéines."
   ]
  },
  {
   "cell_type": "markdown",
   "id": "fdbe9e5a-ca77-4eaa-a7c4-7dcd13a17a78",
   "metadata": {},
   "source": [
    "# III - Modélisation"
   ]
  },
  {
   "cell_type": "code",
   "execution_count": 1,
   "id": "721e779e-9358-4bce-9441-7c16a715f6a8",
   "metadata": {},
   "outputs": [],
   "source": [
    "import pandas as pd\n",
    "import seaborn as sns\n",
    "#import main\n",
    "import statsmodels.api as sm"
   ]
  },
  {
   "cell_type": "code",
   "execution_count": 2,
   "id": "40bc7a59-e72b-42ae-afed-01d8f6bb5937",
   "metadata": {},
   "outputs": [
    {
     "name": "stdout",
     "output_type": "stream",
     "text": [
      "data_tools importé !\n",
      "conversion_tools importé !\n",
      "scraping_marmiton importé ! \n",
      "scrapping_ciqual importé !\n",
      "\n"
     ]
    }
   ],
   "source": [
    "from main import reg_simple,reg_multiple"
   ]
  },
  {
   "cell_type": "code",
   "execution_count": 3,
   "id": "a7c93a0d-e306-4741-b2fb-5979707bbad5",
   "metadata": {},
   "outputs": [
    {
     "name": "stderr",
     "output_type": "stream",
     "text": [
      "/tmp/ipykernel_9612/1357761593.py:6: FutureWarning: The default value of numeric_only in DataFrameGroupBy.sum is deprecated. In a future version, numeric_only will default to False. Either specify numeric_only or select only columns which should be valid for the function.\n",
      "  moyenne_non_vege=base_non_vege.groupby('Nom recette').sum()\n",
      "/tmp/ipykernel_9612/1357761593.py:7: FutureWarning: The default value of numeric_only in DataFrameGroupBy.sum is deprecated. In a future version, numeric_only will default to False. Either specify numeric_only or select only columns which should be valid for the function.\n",
      "  moyenne_vege=base_vege.groupby('Nom recette').sum()\n"
     ]
    }
   ],
   "source": [
    "base_vege=pd.read_csv('references/vege100.csv')\n",
    "base_non_vege=pd.read_csv('references/viande100.csv')\n",
    "avis_vege=base_vege.groupby('Nom recette').agg({'Nombre de commentaires':'first'})\n",
    "avis_non_vege=base_non_vege.groupby('Nom recette').agg({'Nombre de commentaires':'first'})\n",
    "avis_final=pd.concat([avis_non_vege,avis_vege])\n",
    "moyenne_non_vege=base_non_vege.groupby('Nom recette').sum()\n",
    "moyenne_vege=base_vege.groupby('Nom recette').sum()\n",
    "moyenne_non_vege=moyenne_non_vege.div(moyenne_non_vege['Quantité'],axis=0)*100\n",
    "moyenne_vege=moyenne_vege.div(moyenne_vege['Quantité'],axis=0)*100\n",
    "moyenne_non_vege['Viande']=1\n",
    "moyenne_vege['Viande']=0\n",
    "moyenne_finale=pd.concat([moyenne_non_vege,moyenne_vege])\n",
    "moyenne_finale=moyenne_finale.drop(['Nombre de commentaires'], axis=1)\n",
    "moyenne_finale=moyenne_finale.merge(avis_final, on='Nom recette', how='left')"
   ]
  },
  {
   "cell_type": "code",
   "execution_count": 4,
   "id": "7da495ea-bb9c-42dc-b071-33b551c09cda",
   "metadata": {},
   "outputs": [
    {
     "name": "stdout",
     "output_type": "stream",
     "text": [
      "                              OLS Regression Results                              \n",
      "==================================================================================\n",
      "Dep. Variable:     Nombre de commentaires   R-squared:                       0.023\n",
      "Model:                                OLS   Adj. R-squared:                  0.018\n",
      "Method:                     Least Squares   F-statistic:                     4.713\n",
      "Date:                    Tue, 20 Dec 2022   Prob (F-statistic):             0.0311\n",
      "Time:                            19:25:26   Log-Likelihood:                -969.84\n",
      "No. Observations:                     200   AIC:                             1944.\n",
      "Df Residuals:                         198   BIC:                             1950.\n",
      "Df Model:                               1                                         \n",
      "Covariance Type:                nonrobust                                         \n",
      "==============================================================================\n",
      "                 coef    std err          t      P>|t|      [0.025      0.975]\n",
      "------------------------------------------------------------------------------\n",
      "const         14.1100      3.104      4.546      0.000       7.989      20.231\n",
      "Viande         9.5300      4.390      2.171      0.031       0.873      18.187\n",
      "==============================================================================\n",
      "Omnibus:                      270.506   Durbin-Watson:                   2.036\n",
      "Prob(Omnibus):                  0.000   Jarque-Bera (JB):            16843.922\n",
      "Skew:                           5.923   Prob(JB):                         0.00\n",
      "Kurtosis:                      46.370   Cond. No.                         2.62\n",
      "==============================================================================\n",
      "\n",
      "Notes:\n",
      "[1] Standard Errors assume that the covariance matrix of the errors is correctly specified.\n"
     ]
    }
   ],
   "source": [
    "reg_simple(moyenne_finale['Viande'],moyenne_finale['Nombre de commentaires'])"
   ]
  },
  {
   "cell_type": "code",
   "execution_count": null,
   "id": "bfb5366d-ceb3-436e-b770-0731ba15e255",
   "metadata": {},
   "outputs": [],
   "source": [
    "sns.lmplot(x=\"Viande\", y=\"Nombre de commentaires\", data=moyenne_finale)"
   ]
  },
  {
   "cell_type": "code",
   "execution_count": null,
   "id": "816a31f0-fa91-4f5f-9705-300c7735d919",
   "metadata": {},
   "outputs": [],
   "source": [
    "reg_multiple(moyenne_finale[['Protéines (g)','Viande']],moyenne_finale['Nombre de commentaires'])"
   ]
  },
  {
   "cell_type": "code",
   "execution_count": 5,
   "id": "603239e1-5b4e-4d04-9f72-25e0aa99cff2",
   "metadata": {},
   "outputs": [
    {
     "name": "stdout",
     "output_type": "stream",
     "text": [
      "                              OLS Regression Results                              \n",
      "==================================================================================\n",
      "Dep. Variable:     Nombre de commentaires   R-squared:                       0.037\n",
      "Model:                                OLS   Adj. R-squared:                  0.007\n",
      "Method:                     Least Squares   F-statistic:                     1.234\n",
      "Date:                    Tue, 20 Dec 2022   Prob (F-statistic):              0.291\n",
      "Time:                            19:25:34   Log-Likelihood:                -968.43\n",
      "No. Observations:                     200   AIC:                             1951.\n",
      "Df Residuals:                         193   BIC:                             1974.\n",
      "Df Model:                               6                                         \n",
      "Covariance Type:                nonrobust                                         \n",
      "==================================================================================\n",
      "                     coef    std err          t      P>|t|      [0.025      0.975]\n",
      "----------------------------------------------------------------------------------\n",
      "const             15.2020      5.789      2.626      0.009       3.785      26.619\n",
      "Protéines (g)      0.3571      0.639      0.559      0.577      -0.904       1.618\n",
      "Glucides (g)      -0.2559      0.297     -0.862      0.390      -0.841       0.329\n",
      "Sucres (g)         0.9324      1.212      0.769      0.443      -1.458       3.323\n",
      "Lipides (g)       -0.5405      0.472     -1.145      0.254      -1.472       0.391\n",
      "AG saturés (g)     0.5148      1.465      0.351      0.726      -2.375       3.405\n",
      "Viande             8.2026      5.538      1.481      0.140      -2.720      19.125\n",
      "==============================================================================\n",
      "Omnibus:                      269.805   Durbin-Watson:                   1.982\n",
      "Prob(Omnibus):                  0.000   Jarque-Bera (JB):            16717.818\n",
      "Skew:                           5.897   Prob(JB):                         0.00\n",
      "Kurtosis:                      46.209   Cond. No.                         47.0\n",
      "==============================================================================\n",
      "\n",
      "Notes:\n",
      "[1] Standard Errors assume that the covariance matrix of the errors is correctly specified.\n"
     ]
    }
   ],
   "source": [
    "reg_multiple(moyenne_finale[['Protéines (g)','Glucides (g)','Sucres (g)','Lipides (g)','AG saturés (g)','Viande']],moyenne_finale['Nombre de commentaires'])"
   ]
  }
 ],
 "metadata": {
  "kernelspec": {
   "display_name": "Python 3 (ipykernel)",
   "language": "python",
   "name": "python3"
  },
  "language_info": {
   "codemirror_mode": {
    "name": "ipython",
    "version": 3
   },
   "file_extension": ".py",
   "mimetype": "text/x-python",
   "name": "python",
   "nbconvert_exporter": "python",
   "pygments_lexer": "ipython3",
   "version": "3.10.4"
  }
 },
 "nbformat": 4,
 "nbformat_minor": 5
}
