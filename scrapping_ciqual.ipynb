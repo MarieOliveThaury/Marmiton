{
 "cells": [
  {
   "cell_type": "markdown",
   "id": "025a5c2a-9e02-429f-a2d8-e5f758e739b2",
   "metadata": {},
   "source": [
    "### Installation de xlrd"
   ]
  },
  {
   "cell_type": "code",
   "execution_count": 1,
   "id": "0c0ef3a9-9e5c-484f-95ed-0a608be260a4",
   "metadata": {},
   "outputs": [],
   "source": [
    "#!pip install xlrd"
   ]
  },
  {
   "cell_type": "markdown",
   "id": "5cf1374d-a67a-4837-9efa-1136ba4f1a2e",
   "metadata": {},
   "source": [
    "### Installation de Selenium"
   ]
  },
  {
   "cell_type": "code",
   "execution_count": 2,
   "id": "26681937-0804-4300-bb73-7f128888b011",
   "metadata": {},
   "outputs": [],
   "source": [
    "#!wget https://dl.google.com/linux/direct/google-chrome-stable_current_amd64.deb -O /tmp/chrome.deb\n",
    "#!sudo apt-get update\n",
    "#!sudo -E apt-get install -y /tmp/chrome.deb\n",
    "#!pip install chromedriver-autoinstaller selenium"
   ]
  },
  {
   "cell_type": "markdown",
   "id": "3b21676e-cd65-4286-9431-5696368ba834",
   "metadata": {},
   "source": [
    "### Importation des modules "
   ]
  },
  {
   "cell_type": "code",
   "execution_count": 3,
   "id": "fda3f9e7-7f34-445d-b2e2-e0dd6f86244d",
   "metadata": {},
   "outputs": [
    {
     "name": "stdout",
     "output_type": "stream",
     "text": [
      "tout va bien\n"
     ]
    }
   ],
   "source": [
    "import scrapping_ciqual2\n",
    "from scrapping_ciqual2 import get_nutrition_recipe"
   ]
  },
  {
   "cell_type": "code",
   "execution_count": 4,
   "id": "85ec5410-f31a-4ea2-a5c1-65ef2cd0535c",
   "metadata": {},
   "outputs": [
    {
     "name": "stdout",
     "output_type": "stream",
     "text": [
      "tout va bien\n"
     ]
    },
    {
     "data": {
      "text/plain": [
       "<module 'scrapping_ciqual2' from '/home/onyxia/work/Marmiton/scrapping_ciqual2.py'>"
      ]
     },
     "execution_count": 4,
     "metadata": {},
     "output_type": "execute_result"
    }
   ],
   "source": [
    "from importlib import reload\n",
    "reload(scrapping_ciqual2)"
   ]
  },
  {
   "cell_type": "markdown",
   "id": "e1e6bf85-59e4-4605-95c9-22aa1ff3a837",
   "metadata": {},
   "source": [
    "### Test de la fonction générale : "
   ]
  },
  {
   "cell_type": "code",
   "execution_count": 5,
   "id": "7d6f9da5-90b1-4be0-ba0c-1cc42e7afc7e",
   "metadata": {},
   "outputs": [],
   "source": [
    "recipe_test_2 = {\"boeuf haché\" : '1'}"
   ]
  },
  {
   "cell_type": "code",
   "execution_count": 6,
   "id": "02b927e1-6c34-4ddb-bcaa-bc69080ae18e",
   "metadata": {},
   "outputs": [],
   "source": [
    "recipe_test = {'boeuf haché': '450g',\n",
    "  'huile': '',\n",
    "  'moutarde': '',\n",
    "  'ketchup': '',\n",
    "  'tabasco': '',\n",
    "  'poivre': '',\n",
    "  'sel': '',\n",
    "  'câpres': '',\n",
    "  'persil': '',\n",
    "  'oeuf': '1',\n",
    "  'échalote': '1',\n",
    "  'cornichons': '',\n",
    "  'ciboulette':'','maïzena' : '1 c.c'}"
   ]
  },
  {
   "cell_type": "code",
   "execution_count": 7,
   "id": "76ae14d4-699d-4368-970c-c55fd9d7cb1d",
   "metadata": {},
   "outputs": [
    {
     "name": "stdout",
     "output_type": "stream",
     "text": [
      "['boeuf haché', 'huile', 'moutarde', 'ketchup', 'tabasco', 'poivre', 'sel', 'câpres', 'persil', 'oeuf', 'échalote', 'cornichons', 'ciboulette', 'maïzena']\n"
     ]
    },
    {
     "data": {
      "application/vnd.jupyter.widget-view+json": {
       "model_id": "9c9730dba2874cc78a76e3e4c7a449ae",
       "version_major": 2,
       "version_minor": 0
      },
      "text/plain": [
       "  0%|          | 0/14 [00:00<?, ?it/s]"
      ]
     },
     "metadata": {},
     "output_type": "display_data"
    }
   ],
   "source": [
    "tab = get_nutrition_recipe(recipe_test)"
   ]
  },
  {
   "cell_type": "code",
   "execution_count": 8,
   "id": "5c63ab4b-ef2a-4d0b-8a2c-ce9d9b6a3567",
   "metadata": {},
   "outputs": [
    {
     "data": {
      "text/html": [
       "<div>\n",
       "<style scoped>\n",
       "    .dataframe tbody tr th:only-of-type {\n",
       "        vertical-align: middle;\n",
       "    }\n",
       "\n",
       "    .dataframe tbody tr th {\n",
       "        vertical-align: top;\n",
       "    }\n",
       "\n",
       "    .dataframe thead th {\n",
       "        text-align: right;\n",
       "    }\n",
       "</style>\n",
       "<table border=\"1\" class=\"dataframe\">\n",
       "  <thead>\n",
       "    <tr style=\"text-align: right;\">\n",
       "      <th></th>\n",
       "      <th>alim_nom_fr</th>\n",
       "      <th>Energie, Règlement UE N° 1169/2011 (kJ/100 g)</th>\n",
       "      <th>Protéines, N x 6.25 (g/100 g)</th>\n",
       "      <th>Glucides (g/100 g)</th>\n",
       "      <th>Lipides (g/100 g)</th>\n",
       "      <th>Sucres (g/100 g)</th>\n",
       "      <th>AG saturés (g/100 g)</th>\n",
       "      <th>Sel chlorure de sodium (g/100 g)</th>\n",
       "    </tr>\n",
       "  </thead>\n",
       "  <tbody>\n",
       "    <tr>\n",
       "      <th>1169</th>\n",
       "      <td>Boeuf, steak haché, cuit (aliment moyen)</td>\n",
       "      <td>963.0</td>\n",
       "      <td>23.80</td>\n",
       "      <td>0.0018</td>\n",
       "      <td>15.10</td>\n",
       "      <td>0.00</td>\n",
       "      <td>6.650</td>\n",
       "      <td>0.2100</td>\n",
       "    </tr>\n",
       "    <tr>\n",
       "      <th>2882</th>\n",
       "      <td>Huile végétale (aliment moyen)</td>\n",
       "      <td>3700.0</td>\n",
       "      <td>0.21</td>\n",
       "      <td>0.0000</td>\n",
       "      <td>99.90</td>\n",
       "      <td>0.00</td>\n",
       "      <td>13.500</td>\n",
       "      <td>0.0098</td>\n",
       "    </tr>\n",
       "    <tr>\n",
       "      <th>3011</th>\n",
       "      <td>Moutarde</td>\n",
       "      <td>632.0</td>\n",
       "      <td>6.92</td>\n",
       "      <td>4.3300</td>\n",
       "      <td>11.20</td>\n",
       "      <td>1.66</td>\n",
       "      <td>0.760</td>\n",
       "      <td>6.3000</td>\n",
       "    </tr>\n",
       "    <tr>\n",
       "      <th>2936</th>\n",
       "      <td>Ketchup, préemballé</td>\n",
       "      <td>420.0</td>\n",
       "      <td>1.27</td>\n",
       "      <td>21.4000</td>\n",
       "      <td>0.19</td>\n",
       "      <td>20.80</td>\n",
       "      <td>0.069</td>\n",
       "      <td>2.5900</td>\n",
       "    </tr>\n",
       "    <tr>\n",
       "      <th>3047</th>\n",
       "      <td>Poivre noir, poudre</td>\n",
       "      <td>1380.0</td>\n",
       "      <td>13.30</td>\n",
       "      <td>39.5000</td>\n",
       "      <td>7.50</td>\n",
       "      <td>0.64</td>\n",
       "      <td>2.900</td>\n",
       "      <td>0.0360</td>\n",
       "    </tr>\n",
       "    <tr>\n",
       "      <th>3043</th>\n",
       "      <td>Sel marin gris, non iodé, non fluoré</td>\n",
       "      <td>0.0</td>\n",
       "      <td>0.00</td>\n",
       "      <td>0.0000</td>\n",
       "      <td>0.00</td>\n",
       "      <td>0.00</td>\n",
       "      <td>0.000</td>\n",
       "      <td>80.5000</td>\n",
       "    </tr>\n",
       "    <tr>\n",
       "      <th>3014</th>\n",
       "      <td>Câpres, au vinaigre</td>\n",
       "      <td>0.0</td>\n",
       "      <td>2.18</td>\n",
       "      <td>3.5000</td>\n",
       "      <td>0.86</td>\n",
       "      <td>0.41</td>\n",
       "      <td>0.230</td>\n",
       "      <td>4.0600</td>\n",
       "    </tr>\n",
       "    <tr>\n",
       "      <th>3073</th>\n",
       "      <td>Persil, frais</td>\n",
       "      <td>180.0</td>\n",
       "      <td>3.71</td>\n",
       "      <td>3.4800</td>\n",
       "      <td>0.63</td>\n",
       "      <td>0.95</td>\n",
       "      <td>0.100</td>\n",
       "      <td>0.5900</td>\n",
       "    </tr>\n",
       "    <tr>\n",
       "      <th>1902</th>\n",
       "      <td>Oeuf, poché</td>\n",
       "      <td>575.0</td>\n",
       "      <td>12.50</td>\n",
       "      <td>0.7100</td>\n",
       "      <td>9.47</td>\n",
       "      <td>0.37</td>\n",
       "      <td>2.990</td>\n",
       "      <td>0.2000</td>\n",
       "    </tr>\n",
       "    <tr>\n",
       "      <th>591</th>\n",
       "      <td>Échalote, sautée/poêlée sans matière grasse</td>\n",
       "      <td>282.0</td>\n",
       "      <td>2.00</td>\n",
       "      <td>12.3000</td>\n",
       "      <td>0.40</td>\n",
       "      <td>3.80</td>\n",
       "      <td>0.120</td>\n",
       "      <td>0.0000</td>\n",
       "    </tr>\n",
       "    <tr>\n",
       "      <th>3010</th>\n",
       "      <td>Cornichon, au vinaigre</td>\n",
       "      <td>81.9</td>\n",
       "      <td>1.06</td>\n",
       "      <td>0.7800</td>\n",
       "      <td>0.00</td>\n",
       "      <td>0.60</td>\n",
       "      <td>0.000</td>\n",
       "      <td>1.7200</td>\n",
       "    </tr>\n",
       "    <tr>\n",
       "      <th>3072</th>\n",
       "      <td>Ciboule ou Ciboulette, fraîche</td>\n",
       "      <td>124.0</td>\n",
       "      <td>2.57</td>\n",
       "      <td>2.1000</td>\n",
       "      <td>0.52</td>\n",
       "      <td>1.75</td>\n",
       "      <td>0.150</td>\n",
       "      <td>0.0280</td>\n",
       "    </tr>\n",
       "  </tbody>\n",
       "</table>\n",
       "</div>"
      ],
      "text/plain": [
       "                                      alim_nom_fr  \\\n",
       "1169     Boeuf, steak haché, cuit (aliment moyen)   \n",
       "2882               Huile végétale (aliment moyen)   \n",
       "3011                                     Moutarde   \n",
       "2936                          Ketchup, préemballé   \n",
       "3047                          Poivre noir, poudre   \n",
       "3043         Sel marin gris, non iodé, non fluoré   \n",
       "3014                          Câpres, au vinaigre   \n",
       "3073                                Persil, frais   \n",
       "1902                                  Oeuf, poché   \n",
       "591   Échalote, sautée/poêlée sans matière grasse   \n",
       "3010                       Cornichon, au vinaigre   \n",
       "3072               Ciboule ou Ciboulette, fraîche   \n",
       "\n",
       "      Energie, Règlement UE N° 1169/2011 (kJ/100 g)  \\\n",
       "1169                                          963.0   \n",
       "2882                                         3700.0   \n",
       "3011                                          632.0   \n",
       "2936                                          420.0   \n",
       "3047                                         1380.0   \n",
       "3043                                            0.0   \n",
       "3014                                            0.0   \n",
       "3073                                          180.0   \n",
       "1902                                          575.0   \n",
       "591                                           282.0   \n",
       "3010                                           81.9   \n",
       "3072                                          124.0   \n",
       "\n",
       "      Protéines, N x 6.25 (g/100 g)  Glucides (g/100 g)  Lipides (g/100 g)  \\\n",
       "1169                          23.80              0.0018              15.10   \n",
       "2882                           0.21              0.0000              99.90   \n",
       "3011                           6.92              4.3300              11.20   \n",
       "2936                           1.27             21.4000               0.19   \n",
       "3047                          13.30             39.5000               7.50   \n",
       "3043                           0.00              0.0000               0.00   \n",
       "3014                           2.18              3.5000               0.86   \n",
       "3073                           3.71              3.4800               0.63   \n",
       "1902                          12.50              0.7100               9.47   \n",
       "591                            2.00             12.3000               0.40   \n",
       "3010                           1.06              0.7800               0.00   \n",
       "3072                           2.57              2.1000               0.52   \n",
       "\n",
       "      Sucres (g/100 g)  AG saturés (g/100 g)  Sel chlorure de sodium (g/100 g)  \n",
       "1169              0.00                 6.650                            0.2100  \n",
       "2882              0.00                13.500                            0.0098  \n",
       "3011              1.66                 0.760                            6.3000  \n",
       "2936             20.80                 0.069                            2.5900  \n",
       "3047              0.64                 2.900                            0.0360  \n",
       "3043              0.00                 0.000                           80.5000  \n",
       "3014              0.41                 0.230                            4.0600  \n",
       "3073              0.95                 0.100                            0.5900  \n",
       "1902              0.37                 2.990                            0.2000  \n",
       "591               3.80                 0.120                            0.0000  \n",
       "3010              0.60                 0.000                            1.7200  \n",
       "3072              1.75                 0.150                            0.0280  "
      ]
     },
     "execution_count": 8,
     "metadata": {},
     "output_type": "execute_result"
    }
   ],
   "source": [
    "tab #on ne retrouve pas tabasco et maïzena "
   ]
  },
  {
   "cell_type": "markdown",
   "id": "e22f97e3-77fb-4745-9739-f68eec3253ed",
   "metadata": {},
   "source": [
    "### Brouillon : "
   ]
  },
  {
   "cell_type": "code",
   "execution_count": 9,
   "id": "7c73adc9-1f34-42f6-9a1a-2c92d1c821a3",
   "metadata": {},
   "outputs": [
    {
     "data": {
      "text/plain": [
       "alim_nom_fr                                      Boeuf, steak haché, cuit (aliment moyen)\n",
       "Energie, Règlement UE N° 1169/2011 (kJ/100 g)                                       963.0\n",
       "Protéines, N x 6.25 (g/100 g)                                                        23.8\n",
       "Glucides (g/100 g)                                                                 0.0018\n",
       "Lipides (g/100 g)                                                                    15.1\n",
       "Sucres (g/100 g)                                                                      0.0\n",
       "AG saturés (g/100 g)                                                                 6.65\n",
       "Sel chlorure de sodium (g/100 g)                                                     0.21\n",
       "Name: 1169, dtype: object"
      ]
     },
     "execution_count": 9,
     "metadata": {},
     "output_type": "execute_result"
    }
   ],
   "source": [
    "tab.iloc[0, :]"
   ]
  },
  {
   "cell_type": "code",
   "execution_count": 10,
   "id": "3bf956b3-2bd8-45d9-878d-74798366c842",
   "metadata": {},
   "outputs": [],
   "source": [
    "import chromedriver_autoinstaller\n",
    "from selenium import webdriver\n",
    "from selenium.webdriver.common.keys import Keys\n",
    "from selenium.webdriver.common.by import By\n",
    "from tqdm.auto import tqdm\n",
    "from IPython.display import Image\n",
    "import time\n",
    "import pandas as pd"
   ]
  },
  {
   "cell_type": "code",
   "execution_count": 11,
   "id": "4b0573fb-724e-4314-8bed-f1826185a286",
   "metadata": {},
   "outputs": [],
   "source": [
    "chromedriver_autoinstaller.install() \n",
    "chrome_options = webdriver.ChromeOptions()\n",
    "chrome_options.add_argument('--headless')\n",
    "chrome_options.add_argument('--no-sandbox')"
   ]
  },
  {
   "cell_type": "code",
   "execution_count": 12,
   "id": "520c7d25-c73b-4f8d-bfe6-e5752c45a173",
   "metadata": {},
   "outputs": [],
   "source": [
    "driver = webdriver.Chrome(\"chromedriver\", options=chrome_options)\n",
    "    \n",
    "driver.get('https://ciqual.anses.fr/')\n",
    "switch_to_french = driver.find_element(By.XPATH, \"//a[@id='fr-switch']\")\n",
    "driver.execute_script(\"arguments[0].click();\", switch_to_french)"
   ]
  },
  {
   "cell_type": "code",
   "execution_count": 13,
   "id": "6f01208f-3fe8-490b-83f8-1abab5926460",
   "metadata": {},
   "outputs": [],
   "source": [
    "ciqual = \"https://minio.lab.sspcloud.fr/mthaury/Ciqual.xls\"\n",
    "\n",
    "ciqual = pd.read_excel(ciqual)\n",
    "\n",
    "ciqual.drop(['alim_grp_code', 'alim_ssgrp_code', 'alim_ssssgrp_code',\n",
    "       'alim_grp_nom_fr', 'alim_ssgrp_nom_fr', 'alim_ssssgrp_nom_fr',\n",
    "       'alim_code', 'alim_nom_sci',\n",
    "       'Energie, Règlement UE N° 1169/2011 (kcal/100 g)',\n",
    "       'Energie, N x facteur Jones, avec fibres  (kJ/100 g)',\n",
    "       'Energie, N x facteur Jones, avec fibres  (kcal/100 g)',\n",
    "       'Eau (g/100 g)', 'Protéines, N x facteur de Jones (g/100 g)', 'Fructose (g/100 g)',\n",
    "       'Galactose (g/100 g)', 'Glucose (g/100 g)', 'Lactose (g/100 g)',\n",
    "       'Maltose (g/100 g)', 'Saccharose (g/100 g)', 'Amidon (g/100 g)',\n",
    "       'Fibres alimentaires (g/100 g)', 'Polyols totaux (g/100 g)',\n",
    "       'Cendres (g/100 g)', 'Alcool (g/100 g)', 'Acides organiques (g/100 g)', 'AG monoinsaturés (g/100 g)',\n",
    "       'AG polyinsaturés (g/100 g)', 'AG 4:0, butyrique (g/100 g)',\n",
    "       'AG 6:0, caproïque (g/100 g)', 'AG 8:0, caprylique (g/100 g)',\n",
    "       'AG 10:0, caprique (g/100 g)', 'AG 12:0, laurique (g/100 g)',\n",
    "       'AG 14:0, myristique (g/100 g)', 'AG 16:0, palmitique (g/100 g)',\n",
    "       'AG 18:0, stéarique (g/100 g)', 'AG 18:1 9c (n-9), oléique (g/100 g)',\n",
    "       'AG 18:2 9c,12c (n-6), linoléique (g/100 g)',\n",
    "       'AG 18:3 c9,c12,c15 (n-3), alpha-linolénique (g/100 g)',\n",
    "       'AG 20:4 5c,8c,11c,14c (n-6), arachidonique (g/100 g)',\n",
    "       'AG 20:5 5c,8c,11c,14c,17c (n-3) EPA (g/100 g)',\n",
    "       'AG 22:6 4c,7c,10c,13c,16c,19c (n-3) DHA (g/100 g)',\n",
    "       'Cholestérol (mg/100 g)','Calcium (mg/100 g)', 'Chlorure (mg/100 g)', 'Cuivre (mg/100 g)',\n",
    "       'Fer (mg/100 g)', 'Iode (µg/100 g)', 'Magnésium (mg/100 g)',\n",
    "       'Manganèse (mg/100 g)', 'Phosphore (mg/100 g)', 'Potassium (mg/100 g)',\n",
    "       'Sélénium (µg/100 g)', 'Sodium (mg/100 g)', 'Zinc (mg/100 g)',\n",
    "       'Rétinol (µg/100 g)', 'Beta-Carotène (µg/100 g)',\n",
    "       'Vitamine D (µg/100 g)', 'Vitamine E (mg/100 g)',\n",
    "       'Vitamine K1 (µg/100 g)', 'Vitamine K2 (µg/100 g)',\n",
    "       'Vitamine C (mg/100 g)', 'Vitamine B1 ou Thiamine (mg/100 g)',\n",
    "       'Vitamine B2 ou Riboflavine (mg/100 g)',\n",
    "       'Vitamine B3 ou PP ou Niacine (mg/100 g)',\n",
    "       'Vitamine B5 ou Acide pantothénique (mg/100 g)',\n",
    "       'Vitamine B6 (mg/100 g)', 'Vitamine B9 ou Folates totaux (µg/100 g)',\n",
    "       'Vitamine B12 (µg/100 g)'], axis = 1, inplace = True)"
   ]
  },
  {
   "cell_type": "code",
   "execution_count": 14,
   "id": "85949e71-a857-47c0-8da7-ccb51e3b6a0b",
   "metadata": {},
   "outputs": [
    {
     "name": "stdout",
     "output_type": "stream",
     "text": [
      "je vais récupérer le driver\n",
      "ce que récupère le driver est : [<selenium.webdriver.remote.webelement.WebElement (session=\"2c6e810a2b9b30ecaf7411eeddd7ccf0\", element=\"adbf72ab-21e4-4322-846e-a68885255b2b\")>]\n",
      "la correspondance est Boeuf, steak haché, cuit (aliment moyen)\n",
      "1\n"
     ]
    },
    {
     "data": {
      "text/html": [
       "<div>\n",
       "<style scoped>\n",
       "    .dataframe tbody tr th:only-of-type {\n",
       "        vertical-align: middle;\n",
       "    }\n",
       "\n",
       "    .dataframe tbody tr th {\n",
       "        vertical-align: top;\n",
       "    }\n",
       "\n",
       "    .dataframe thead th {\n",
       "        text-align: right;\n",
       "    }\n",
       "</style>\n",
       "<table border=\"1\" class=\"dataframe\">\n",
       "  <thead>\n",
       "    <tr style=\"text-align: right;\">\n",
       "      <th></th>\n",
       "      <th>alim_nom_fr</th>\n",
       "      <th>Energie, Règlement UE N° 1169/2011 (kJ/100 g)</th>\n",
       "      <th>Protéines, N x 6.25 (g/100 g)</th>\n",
       "      <th>Glucides (g/100 g)</th>\n",
       "      <th>Lipides (g/100 g)</th>\n",
       "      <th>Sucres (g/100 g)</th>\n",
       "      <th>AG saturés (g/100 g)</th>\n",
       "      <th>Sel chlorure de sodium (g/100 g)</th>\n",
       "    </tr>\n",
       "  </thead>\n",
       "  <tbody>\n",
       "    <tr>\n",
       "      <th>1169</th>\n",
       "      <td>Boeuf, steak haché, cuit (aliment moyen)</td>\n",
       "      <td>963</td>\n",
       "      <td>23,8</td>\n",
       "      <td>0,0018</td>\n",
       "      <td>15,1</td>\n",
       "      <td>0</td>\n",
       "      <td>6,65</td>\n",
       "      <td>0,21</td>\n",
       "    </tr>\n",
       "  </tbody>\n",
       "</table>\n",
       "</div>"
      ],
      "text/plain": [
       "                                   alim_nom_fr  \\\n",
       "1169  Boeuf, steak haché, cuit (aliment moyen)   \n",
       "\n",
       "     Energie, Règlement UE N° 1169/2011 (kJ/100 g)  \\\n",
       "1169                                           963   \n",
       "\n",
       "     Protéines, N x 6.25 (g/100 g) Glucides (g/100 g) Lipides (g/100 g)  \\\n",
       "1169                          23,8             0,0018              15,1   \n",
       "\n",
       "     Sucres (g/100 g) AG saturés (g/100 g) Sel chlorure de sodium (g/100 g)  \n",
       "1169                0                 6,65                             0,21  "
      ]
     },
     "execution_count": 14,
     "metadata": {},
     "output_type": "execute_result"
    }
   ],
   "source": [
    "research_bar = driver.find_element(\"xpath\", \"//input[@id='champ-recherche']\")\n",
    "research_bar.clear()\n",
    "time.sleep(1)\n",
    "research_bar.send_keys(\"boeuf haché\")\n",
    "time.sleep(1)\n",
    "    \n",
    "search_button = driver.find_element(\"xpath\", \"//a[@id='loupe']\")\n",
    "search_button.click()\n",
    "time.sleep(1)\n",
    "print(\"je vais récupérer le driver\")\n",
    "\n",
    "nutrition = driver.find_elements(\"xpath\", \"//div[@class='titre-fiche']\") \n",
    "print(\"ce que récupère le driver est :\", nutrition)\n",
    "        \n",
    "correspondance = (nutrition[0]).text\n",
    "        \n",
    "print(\"la correspondance est\", correspondance)\n",
    "print(len(ciqual.loc[ciqual['alim_nom_fr'] == correspondance]))\n",
    "ciqual.loc[ciqual['alim_nom_fr'] == correspondance]"
   ]
  },
  {
   "cell_type": "code",
   "execution_count": 15,
   "id": "d5a75446-05eb-4040-964f-a81e6dcf2bcc",
   "metadata": {},
   "outputs": [
    {
     "data": {
      "text/html": [
       "<div>\n",
       "<style scoped>\n",
       "    .dataframe tbody tr th:only-of-type {\n",
       "        vertical-align: middle;\n",
       "    }\n",
       "\n",
       "    .dataframe tbody tr th {\n",
       "        vertical-align: top;\n",
       "    }\n",
       "\n",
       "    .dataframe thead th {\n",
       "        text-align: right;\n",
       "    }\n",
       "</style>\n",
       "<table border=\"1\" class=\"dataframe\">\n",
       "  <thead>\n",
       "    <tr style=\"text-align: right;\">\n",
       "      <th></th>\n",
       "      <th>alim_nom_fr</th>\n",
       "      <th>Energie, Règlement UE N° 1169/2011 (kJ/100 g)</th>\n",
       "      <th>Protéines, N x 6.25 (g/100 g)</th>\n",
       "      <th>Glucides (g/100 g)</th>\n",
       "      <th>Lipides (g/100 g)</th>\n",
       "      <th>Sucres (g/100 g)</th>\n",
       "      <th>AG saturés (g/100 g)</th>\n",
       "      <th>Sel chlorure de sodium (g/100 g)</th>\n",
       "    </tr>\n",
       "  </thead>\n",
       "  <tbody>\n",
       "    <tr>\n",
       "      <th>0</th>\n",
       "      <td>pas de correspondance</td>\n",
       "      <td>0</td>\n",
       "      <td>0</td>\n",
       "      <td>0</td>\n",
       "      <td>0</td>\n",
       "      <td>0</td>\n",
       "      <td>0</td>\n",
       "      <td>0</td>\n",
       "    </tr>\n",
       "  </tbody>\n",
       "</table>\n",
       "</div>"
      ],
      "text/plain": [
       "             alim_nom_fr Energie, Règlement UE N° 1169/2011 (kJ/100 g)  \\\n",
       "0  pas de correspondance                                             0   \n",
       "\n",
       "  Protéines, N x 6.25 (g/100 g) Glucides (g/100 g) Lipides (g/100 g)  \\\n",
       "0                             0                  0                 0   \n",
       "\n",
       "  Sucres (g/100 g) AG saturés (g/100 g) Sel chlorure de sodium (g/100 g)  \n",
       "0                0                    0                                0  "
      ]
     },
     "execution_count": 15,
     "metadata": {},
     "output_type": "execute_result"
    }
   ],
   "source": [
    "df = pd.DataFrame({'alim_nom_fr' : ['pas de correspondance'], \n",
    "              'Energie, Règlement UE N° 1169/2011 (kJ/100 g)':['0'], \n",
    "              'Protéines, N x 6.25 (g/100 g)':['0'], 'Glucides (g/100 g)':['0'], \n",
    "              'Lipides (g/100 g)' : ['0'], 'Sucres (g/100 g)' : ['0'],\n",
    "              'AG saturés (g/100 g)' : ['0'], 'Sel chlorure de sodium (g/100 g)' : ['0']})\n",
    "\n",
    "df"
   ]
  }
 ],
 "metadata": {
  "kernelspec": {
   "display_name": "Python 3 (ipykernel)",
   "language": "python",
   "name": "python3"
  },
  "language_info": {
   "codemirror_mode": {
    "name": "ipython",
    "version": 3
   },
   "file_extension": ".py",
   "mimetype": "text/x-python",
   "name": "python",
   "nbconvert_exporter": "python",
   "pygments_lexer": "ipython3",
   "version": "3.10.4"
  }
 },
 "nbformat": 4,
 "nbformat_minor": 5
}
