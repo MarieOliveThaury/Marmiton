{
 "cells": [
  {
   "cell_type": "markdown",
   "id": "707dd7f2-9160-4de2-b757-65d1702e190a",
   "metadata": {},
   "source": [
    "## I) Récupération des données Marmiton"
   ]
  },
  {
   "cell_type": "markdown",
   "id": "b64f1151-3eb5-4711-9ba9-dc46752fb2cc",
   "metadata": {},
   "source": [
    "## 1) Récupération de la liste des urls des recettes correspondant à la recherche de l'utilisateur : \n",
    "\n",
    "(par exemple, on renvoie les 16 recettes correspondant à la recherche 'steak tartare')"
   ]
  },
  {
   "cell_type": "code",
   "execution_count": 9,
   "id": "b1198b6a-fa15-4132-86f6-0c39f3c62d68",
   "metadata": {},
   "outputs": [
    {
     "name": "stdout",
     "output_type": "stream",
     "text": [
      "Requirement already satisfied: lxml in /opt/mamba/lib/python3.10/site-packages (4.9.1)\n"
     ]
    }
   ],
   "source": [
    "!pip install lxml "
   ]
  },
  {
   "cell_type": "code",
   "execution_count": 3,
   "id": "c2e496bf-7210-48da-8ad0-be35f6add5c0",
   "metadata": {},
   "outputs": [],
   "source": [
    "from scrapping_marmiton import *"
   ]
  },
  {
   "cell_type": "code",
   "execution_count": 7,
   "id": "d150e961-7c8b-43dc-9585-308b82a3f489",
   "metadata": {},
   "outputs": [
    {
     "name": "stdout",
     "output_type": "stream",
     "text": [
      "['https://www.marmiton.org/recettes/recette_steak-tartare_18121.aspx', 'https://www.marmiton.org/recettes/recette_steak-tartare-arrange_50144.aspx', 'https://www.marmiton.org/recettes/recette_steak-tartare-vegetarien_30154.aspx', 'https://www.marmiton.org/recettes/recette_sauce-legere-et-relevee-pour-steack-tartare_222507.aspx', 'https://www.marmiton.org/recettes/recette_steak-tartare-a-l-italienne-tomate-sechee-et-mozzarella_315226.aspx', 'https://www.marmiton.org/recettes/recette_steak-tartare-maison_22175.aspx', 'https://www.marmiton.org/recettes/recette_steak-tartare-a-la-coreenne_43082.aspx', 'https://www.marmiton.org/recettes/recette_steak-tartare-au-poivron-rouge_28172.aspx', 'https://www.marmiton.org/recettes/recette_steak-tartare-au-vinaigre-balsamique_73859.aspx', 'https://www.marmiton.org/recettes/recette_steak-tartare-et-riz-aux-legumes_28609.aspx', 'https://www.marmiton.org/recettes/recette_steak-tartare-a-l-americaine_27808.aspx', 'https://www.marmiton.org/recettes/recette_tartare-thon-saumon-en-verrine_46501.aspx', 'https://www.marmiton.org/recettes/recette_hamburgers-sauce-tartare-maison_335187.aspx', 'https://www.marmiton.org/recettes/recette_tartare-de-boeuf-a-la-cannelle_85156.aspx', 'https://www.marmiton.org/recettes/recette_tartare-de-boeuf-aux-5-epices_315004.aspx']\n"
     ]
    },
    {
     "data": {
      "text/plain": [
       "15"
      ]
     },
     "execution_count": 7,
     "metadata": {},
     "output_type": "execute_result"
    }
   ],
   "source": [
    "result_st = find_all_dishes('Steak tartare', 10)\n",
    "print(result_st)\n",
    "len(result_st)"
   ]
  },
  {
   "cell_type": "code",
   "execution_count": 6,
   "id": "08c0f970-f912-47ca-8265-022263645bb6",
   "metadata": {},
   "outputs": [
    {
     "data": {
      "text/plain": [
       "295"
      ]
     },
     "execution_count": 6,
     "metadata": {},
     "output_type": "execute_result"
    }
   ],
   "source": [
    "result_vg = find_all_dishes('Végétarien')\n",
    "len(result_vg)"
   ]
  },
  {
   "cell_type": "markdown",
   "id": "02fad383-b338-4bcb-8c00-68ea7fcb19d1",
   "metadata": {},
   "source": [
    "## 2) Récupération des ingrédients d'une recette (=1 url): "
   ]
  },
  {
   "cell_type": "code",
   "execution_count": 4,
   "id": "d8d95fbf-2479-4c09-8f95-bf2de2183c75",
   "metadata": {},
   "outputs": [],
   "source": [
    "url_test = \"https://www.marmiton.org/recettes/recette_moelleux-au-chocolat-sans-beurre-sans-sucre_14748.aspx\""
   ]
  },
  {
   "cell_type": "code",
   "execution_count": 5,
   "id": "e880446b-f322-4420-866d-371b50b08d61",
   "metadata": {},
   "outputs": [
    {
     "data": {
      "text/plain": [
       "('Moelleux au chocolat sans beurre sans sucre ',\n",
       " {'chocolat noir': '200g',\n",
       "  'maïzena': '2c.à.s rase',\n",
       "  'oeufs': '4',\n",
       "  'crème liquide': '20cl'},\n",
       " 6.0)"
      ]
     },
     "execution_count": 5,
     "metadata": {},
     "output_type": "execute_result"
    }
   ],
   "source": [
    "find_recipe(url_test)"
   ]
  },
  {
   "cell_type": "code",
   "execution_count": 15,
   "id": "e4ea9921-ce68-4716-9946-2543715fdd9c",
   "metadata": {},
   "outputs": [],
   "source": [
    "url_test2 = result_st[0]"
   ]
  },
  {
   "cell_type": "code",
   "execution_count": 16,
   "id": "0a3a0ead-5919-4d4c-8ff7-4544ac07cdcc",
   "metadata": {},
   "outputs": [
    {
     "data": {
      "text/plain": [
       "('Steak tartare',\n",
       " {'moutarde de Dijon': '1c.à.c',\n",
       "  'oignon': '1c.à.s',\n",
       "  'câpres': '1c.à.s',\n",
       "  'sauce worcestershire': '1c.à.c',\n",
       "  'ketchup': '1c.à.s',\n",
       "  'tabasco': '',\n",
       "  'poivre': '',\n",
       "  'sel': '',\n",
       "  \"huile d'olive\": '2c.à.s',\n",
       "  'persil': '1c.à.c',\n",
       "  'boeuf': '250g',\n",
       "  \"jaune d'oeuf\": '1'},\n",
       " 2.0)"
      ]
     },
     "execution_count": 16,
     "metadata": {},
     "output_type": "execute_result"
    }
   ],
   "source": [
    "find_recipe(url_test2)"
   ]
  },
  {
   "cell_type": "markdown",
   "id": "8fcfdb74-9141-4ad0-9f68-a5e52840ca5c",
   "metadata": {},
   "source": [
    "On récupère en effet la quantité. Toutefois il faudra gérer le cas où la quantité n'est pas spécifiée (comme par exemple \"sel\")."
   ]
  },
  {
   "cell_type": "markdown",
   "id": "80ded926-8039-443c-8d92-b75a8578ad49",
   "metadata": {},
   "source": [
    "On teste la fonction find_recipe sur la recette de steak tartare pour voir si les ingrédients relevés dans le dictionnaire apparaissent dans le même ordre que sur le site."
   ]
  },
  {
   "cell_type": "code",
   "execution_count": 17,
   "id": "b51501ec-961d-4258-ab80-58504d6a5271",
   "metadata": {},
   "outputs": [
    {
     "data": {
      "text/plain": [
       "('Steak tartare arrangé',\n",
       " {'boeuf haché': '450g',\n",
       "  'huile': '',\n",
       "  'moutarde': '',\n",
       "  'ketchup': '',\n",
       "  'tabasco': '',\n",
       "  'poivre': '',\n",
       "  'sel': '',\n",
       "  'câpres': '',\n",
       "  'persil': '',\n",
       "  'oeuf': '1',\n",
       "  'échalote': '1',\n",
       "  'cornichons': '',\n",
       "  'ciboulette': ''},\n",
       " 2.0)"
      ]
     },
     "execution_count": 17,
     "metadata": {},
     "output_type": "execute_result"
    }
   ],
   "source": [
    "url_test3 = 'https://www.marmiton.org/recettes/recette_steak-tartare-arrange_50144.aspx'\n",
    "find_recipe(url_test3)"
   ]
  },
  {
   "cell_type": "code",
   "execution_count": 2,
   "id": "1c4436e3-ed4a-4db8-b839-4aecc6a2cb81",
   "metadata": {},
   "outputs": [
    {
     "data": {
      "text/plain": [
       "('Nasi goreng',\n",
       " {'oignons': '2',\n",
       "  'ail': '1gousse',\n",
       "  'curry': '1c.à.s',\n",
       "  'huile': '3c.à.s',\n",
       "  'coriandre': '2c.à.s',\n",
       "  'riz': '350g',\n",
       "  'filet de poulet': '300g',\n",
       "  'oeufs': '4',\n",
       "  'tiges d’oignons verts': '2',\n",
       "  'cive': '4',\n",
       "  'crevettes grises': '12'},\n",
       " 4.0)"
      ]
     },
     "execution_count": 2,
     "metadata": {},
     "output_type": "execute_result"
    }
   ],
   "source": [
    "find_recipe(\"https://www.marmiton.org/recettes/recette_nasi-goreng_533820.aspx\")"
   ]
  },
  {
   "cell_type": "markdown",
   "id": "1c6402d8-4e23-4a17-b891-1dffc1bc0a05",
   "metadata": {},
   "source": [
    "## 3) Récupération de toutes les recettes d'une recherche"
   ]
  },
  {
   "cell_type": "code",
   "execution_count": 7,
   "id": "c831dc69-629e-465e-8631-66894e4cef72",
   "metadata": {},
   "outputs": [
    {
     "data": {
      "application/vnd.jupyter.widget-view+json": {
       "model_id": "6637755ea5274a2cbb16d495775737fd",
       "version_major": 2,
       "version_minor": 0
      },
      "text/plain": [
       "  0%|          | 0/15 [00:00<?, ?it/s]"
      ]
     },
     "metadata": {},
     "output_type": "display_data"
    },
    {
     "data": {
      "text/plain": [
       "{'Steak tartare': {'lien': 'https://www.marmiton.org/recettes/recette_steak-tartare_18121.aspx',\n",
       "  'recette': {'moutarde de Dijon': '1c.à.c',\n",
       "   'oignon': '1c.à.s',\n",
       "   'câpres': '1c.à.s',\n",
       "   'sauce worcestershire': '1c.à.c',\n",
       "   'ketchup': '1c.à.s',\n",
       "   'tabasco': '',\n",
       "   'poivre': '',\n",
       "   'sel': '',\n",
       "   \"huile d'olive\": '2c.à.s',\n",
       "   'persil': '1c.à.c',\n",
       "   'boeuf': '250g',\n",
       "   \"jaune d'oeuf\": '1'},\n",
       "  'nombre de personnes': 2.0},\n",
       " 'Steak tartare arrangé': {'lien': 'https://www.marmiton.org/recettes/recette_steak-tartare-arrange_50144.aspx',\n",
       "  'recette': {'boeuf haché': '450g',\n",
       "   'huile': '',\n",
       "   'moutarde': '',\n",
       "   'ketchup': '',\n",
       "   'tabasco': '',\n",
       "   'poivre': '',\n",
       "   'sel': '',\n",
       "   'câpres': '',\n",
       "   'persil': '',\n",
       "   'oeuf': '1',\n",
       "   'échalote': '1',\n",
       "   'cornichons': '',\n",
       "   'ciboulette': ''},\n",
       "  'nombre de personnes': 2.0},\n",
       " 'Steak tartare végétarien': {'lien': 'https://www.marmiton.org/recettes/recette_steak-tartare-vegetarien_30154.aspx',\n",
       "  'recette': {'carotte': '500g',\n",
       "   'câpres': '2c.à.s',\n",
       "   'poivron rouge': '1',\n",
       "   'oignon': '1',\n",
       "   'persil': '1c.à.s',\n",
       "   'moutarde': '2c.à.s',\n",
       "   'tabasco': '1trait',\n",
       "   'poivre': '',\n",
       "   'sel': '',\n",
       "   'mayonnaise': '3c.à.s',\n",
       "   'sauce anglaise': '1c.à.s'},\n",
       "  'nombre de personnes': 4.0},\n",
       " 'Sauce légère et relevée pour steak tartare': {'lien': 'https://www.marmiton.org/recettes/recette_sauce-legere-et-relevee-pour-steack-tartare_222507.aspx',\n",
       "  'recette': {'moutarde de Dijon': '1c.à.s',\n",
       "   'fromage blanc': '6cuillères',\n",
       "   'poivre': '',\n",
       "   'sel': '',\n",
       "   'câpres': '1c.à.c',\n",
       "   'ciboulette': '',\n",
       "   'échalote': '1',\n",
       "   'mayonnaise': ''},\n",
       "  'nombre de personnes': 2.0},\n",
       " \"Steak tartare à l'italienne : tomate séchée et mozzarella\": {'lien': 'https://www.marmiton.org/recettes/recette_steak-tartare-a-l-italienne-tomate-sechee-et-mozzarella_315226.aspx',\n",
       "  'recette': {'filet de boeuf': '250g',\n",
       "   \"huile d'olive\": '2c.à.s',\n",
       "   'moutarde': '1c.à.s',\n",
       "   'ketchup': '1c.à.s',\n",
       "   'câpres': '20',\n",
       "   'olives': '7',\n",
       "   'tomates séchées': '4',\n",
       "   'Parmesan': '50g',\n",
       "   'sel': '',\n",
       "   'poivre': '',\n",
       "   'tabasco': '',\n",
       "   \"jaune d'oeuf\": '1',\n",
       "   'oignons nouveaux': '2',\n",
       "   'mozzarella': '1',\n",
       "   'ciboulette': '2c.à.s'},\n",
       "  'nombre de personnes': 2.0},\n",
       " 'Steak tartare maison': {'lien': 'https://www.marmiton.org/recettes/recette_steak-tartare-maison_22175.aspx',\n",
       "  'recette': {'boeuf haché': '300g',\n",
       "   'moutarde': '1c.à.c',\n",
       "   'ketchup': '',\n",
       "   'poivre': '',\n",
       "   'sel': '',\n",
       "   \"jaunes d'oeuf\": '2',\n",
       "   'échalotes': '2'},\n",
       "  'nombre de personnes': 2.0},\n",
       " 'Steak tartare à la coréenne': {'lien': 'https://www.marmiton.org/recettes/recette_steak-tartare-a-la-coreenne_43082.aspx',\n",
       "  'recette': {'viande hachée': '150g',\n",
       "   'sésame': '1c.à.c',\n",
       "   'huile de sésame': '1c.à.c',\n",
       "   'pomme': '1⁄4',\n",
       "   'ail': '1petite gousse',\n",
       "   'jus de citron': '',\n",
       "   'poire': '1⁄4',\n",
       "   'oeuf': '1'},\n",
       "  'nombre de personnes': 1.0},\n",
       " 'Steak tartare au poivron rouge': {'lien': 'https://www.marmiton.org/recettes/recette_steak-tartare-au-poivron-rouge_28172.aspx',\n",
       "  'recette': {'poivron rouge': '1',\n",
       "   'persil': '',\n",
       "   'moutarde': '4c.à.c',\n",
       "   \"huile d'olive\": '4c.à.c',\n",
       "   'poivre': '',\n",
       "   'sel': '',\n",
       "   'steaks': '4',\n",
       "   'échalotes': '4',\n",
       "   'cornichons': '16',\n",
       "   'oeufs': '4'},\n",
       "  'nombre de personnes': 4.0},\n",
       " 'steak tartare au vinaigre balsamique': {'lien': 'https://www.marmiton.org/recettes/recette_steak-tartare-au-vinaigre-balsamique_73859.aspx',\n",
       "  'recette': {'boeuf haché': '300g',\n",
       "   \"huile d'olive\": '2c.à.s',\n",
       "   'vinaigre balsamique': '2c.à.s',\n",
       "   'câpres': '1c.à.s',\n",
       "   'poivre': '',\n",
       "   'tabasco': '',\n",
       "   'échalote': '1',\n",
       "   'herbes': '1c.à.s'},\n",
       "  'nombre de personnes': 2.0},\n",
       " 'Steak tartare et riz aux légumes': {'lien': 'https://www.marmiton.org/recettes/recette_steak-tartare-et-riz-aux-legumes_28609.aspx',\n",
       "  'recette': {'viande hachée': '300g',\n",
       "   'ketchup': '',\n",
       "   'oignon': '1',\n",
       "   'persil': '1c.à.s',\n",
       "   'câpres': '6',\n",
       "   'tabasco': '',\n",
       "   'cognac': '',\n",
       "   'sauce worcestershire': '',\n",
       "   'riz': '200g',\n",
       "   'poivre': '',\n",
       "   'sel': '',\n",
       "   'mayonnaise': '',\n",
       "   'échalote': '1',\n",
       "   'ciboulette': '1c.à.s',\n",
       "   'radis': '1botte',\n",
       "   \"fonds d'artichaut\": '2'},\n",
       "  'nombre de personnes': 2.0},\n",
       " \"Steak tartare à l'américaine\": {'lien': 'https://www.marmiton.org/recettes/recette_steak-tartare-a-l-americaine_27808.aspx',\n",
       "  'recette': {'boeuf haché': '600g',\n",
       "   'persil': '50g',\n",
       "   'vinaigre': '1c.à.s',\n",
       "   'tomates': '2',\n",
       "   'échalotes': '2',\n",
       "   'cornichons': '2',\n",
       "   \"jaunes d'oeuf\": '4',\n",
       "   'mayonnaise': '2cuillères',\n",
       "   'oeufs': '4'},\n",
       "  'nombre de personnes': 4.0},\n",
       " 'Tartare thon - saumon en verrine': {'lien': 'https://www.marmiton.org/recettes/recette_tartare-thon-saumon-en-verrine_46501.aspx',\n",
       "  'recette': {'tomates': '4',\n",
       "   'jus de citron': '',\n",
       "   'vinaigre de vin': '1c.à.s',\n",
       "   \"huile d'olive\": '7c.à.s',\n",
       "   'poivre': '',\n",
       "   'sel': '',\n",
       "   'saumon frais': '1pavé',\n",
       "   'steak': '1',\n",
       "   'concombre': '1',\n",
       "   'feta': '150g'},\n",
       "  'nombre de personnes': 4.0},\n",
       " 'Hamburgers sauce tartare maison': {'lien': 'https://www.marmiton.org/recettes/recette_hamburgers-sauce-tartare-maison_335187.aspx',\n",
       "  'recette': {'tomate': '1⁄2',\n",
       "   'pains pour hamburger': '2',\n",
       "   'steaks': '2',\n",
       "   'cheddar': '2tranches',\n",
       "   'salade': '2feuilles',\n",
       "   'oignon': '1⁄2',\n",
       "   'persil': '1c.à.c',\n",
       "   'moutarde': '1c.à.s',\n",
       "   'huile de tournesol': '1⁄4bouteille',\n",
       "   'sauce worcestershire': '1c.à.c',\n",
       "   'vinaigre de cidre': '1c.à.c',\n",
       "   'sel': '1pincée',\n",
       "   'oeufs': '3',\n",
       "   'ciboulette': '1c.à.c',\n",
       "   'cornichons': '8'},\n",
       "  'nombre de personnes': 2.0},\n",
       " 'Tartare de boeuf à la cannelle': {'lien': 'https://www.marmiton.org/recettes/recette_tartare-de-boeuf-a-la-cannelle_85156.aspx',\n",
       "  'recette': {'ail': '1c.à.c',\n",
       "   'cannelle': '1c.à.c',\n",
       "   'cube de bouillon': '1',\n",
       "   'coriandre': '1c.à.c',\n",
       "   'steaks': '2',\n",
       "   'oeuf': '1'},\n",
       "  'nombre de personnes': 2.0},\n",
       " 'Tartare de boeuf aux 5 épices': {'lien': 'https://www.marmiton.org/recettes/recette_tartare-de-boeuf-aux-5-epices_315004.aspx',\n",
       "  'recette': {'oignons': '2',\n",
       "   'coriandre': '1bouquet',\n",
       "   \"huile d'olive\": '3c.à.s',\n",
       "   'citron': '',\n",
       "   'poivre': '',\n",
       "   'sel': '',\n",
       "   'steaks': '4',\n",
       "   'cerfeuil': '1bouquet',\n",
       "   'mélange 5 épices': '5g'},\n",
       "  'nombre de personnes': 4.0}}"
      ]
     },
     "execution_count": 7,
     "metadata": {},
     "output_type": "execute_result"
    }
   ],
   "source": [
    "find_all_recipes(\"Steak tartare\")"
   ]
  }
 ],
 "metadata": {
  "kernelspec": {
   "display_name": "Python 3 (ipykernel)",
   "language": "python",
   "name": "python3"
  },
  "language_info": {
   "codemirror_mode": {
    "name": "ipython",
    "version": 3
   },
   "file_extension": ".py",
   "mimetype": "text/x-python",
   "name": "python",
   "nbconvert_exporter": "python",
   "pygments_lexer": "ipython3",
   "version": "3.10.4"
  }
 },
 "nbformat": 4,
 "nbformat_minor": 5
}
