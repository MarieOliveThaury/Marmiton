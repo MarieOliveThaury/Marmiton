{
 "cells": [
  {
   "cell_type": "markdown",
   "id": "707dd7f2-9160-4de2-b757-65d1702e190a",
   "metadata": {},
   "source": [
    "I) Récupération des données"
   ]
  },
  {
   "cell_type": "markdown",
   "id": "b64f1151-3eb5-4711-9ba9-dc46752fb2cc",
   "metadata": {},
   "source": [
    "1. Récupération de la liste des urls des recettes correspondant à la recherche de l'utilisateur : \n",
    "\n",
    "(par exemple, on renvoie les 16 recettes correspondant à la recherche 'steak tartare')"
   ]
  },
  {
   "cell_type": "code",
   "execution_count": 2,
   "id": "b1198b6a-fa15-4132-86f6-0c39f3c62d68",
   "metadata": {},
   "outputs": [
    {
     "name": "stdout",
     "output_type": "stream",
     "text": [
      "Collecting lxml\n",
      "  Downloading lxml-4.9.1-cp310-cp310-manylinux_2_17_x86_64.manylinux2014_x86_64.manylinux_2_24_x86_64.whl (6.9 MB)\n",
      "\u001b[2K     \u001b[90m━━━━━━━━━━━━━━━━━━━━━━━━━━━━━━━━━━━━━━━━\u001b[0m \u001b[32m6.9/6.9 MB\u001b[0m \u001b[31m18.3 MB/s\u001b[0m eta \u001b[36m0:00:00\u001b[0m00:01\u001b[0m00:01\u001b[0m\n",
      "\u001b[?25hInstalling collected packages: lxml\n",
      "Successfully installed lxml-4.9.1\n"
     ]
    }
   ],
   "source": [
    "!pip install lxml "
   ]
  },
  {
   "cell_type": "code",
   "execution_count": 26,
   "id": "c2e496bf-7210-48da-8ad0-be35f6add5c0",
   "metadata": {},
   "outputs": [],
   "source": [
    "from scrapping import *"
   ]
  },
  {
   "cell_type": "code",
   "execution_count": 83,
   "id": "d150e961-7c8b-43dc-9585-308b82a3f489",
   "metadata": {},
   "outputs": [
    {
     "name": "stdout",
     "output_type": "stream",
     "text": [
      "['https://www.marmiton.org/recettes/recette_steak-tartare_18121.aspx', 'https://www.marmiton.org/recettes/recette_steak-tartare-arrange_50144.aspx', 'https://www.marmiton.org/recettes/recette_steak-tartare-vegetarien_30154.aspx', 'https://www.marmiton.org/recettes/recette_sauce-legere-et-relevee-pour-steack-tartare_222507.aspx', 'https://www.marmiton.org/recettes/recette_steak-tartare-a-l-italienne-tomate-sechee-et-mozzarella_315226.aspx', 'https://www.marmiton.org/recettes/recette_steak-tartare-maison_22175.aspx', 'https://www.marmiton.org/recettes/recette_steak-tartare-a-la-coreenne_43082.aspx', 'https://www.marmiton.org/recettes/recette_steak-tartare-au-poivron-rouge_28172.aspx', 'https://www.marmiton.org/recettes/recette_steak-tartare-au-vinaigre-balsamique_73859.aspx', 'https://www.marmiton.org/recettes/recette_steak-tartare-et-riz-aux-legumes_28609.aspx', 'https://www.marmiton.org/recettes/recette_steak-tartare-a-l-americaine_27808.aspx', 'https://www.marmiton.org/recettes/recette_tartare-thon-saumon-en-verrine_46501.aspx', 'https://www.marmiton.org/recettes/recette_hamburgers-sauce-tartare-maison_335187.aspx', 'https://www.marmiton.org/recettes/recette_tartare-de-boeuf-a-la-cannelle_85156.aspx', 'https://www.marmiton.org/recettes/recette_tartare-de-boeuf-aux-5-epices_315004.aspx']\n"
     ]
    },
    {
     "data": {
      "text/plain": [
       "15"
      ]
     },
     "execution_count": 83,
     "metadata": {},
     "output_type": "execute_result"
    }
   ],
   "source": [
    "result_st = find_all_recipes('Steak tartare')\n",
    "print(result_st)\n",
    "len(result_st)"
   ]
  },
  {
   "cell_type": "code",
   "execution_count": 79,
   "id": "08c0f970-f912-47ca-8265-022263645bb6",
   "metadata": {},
   "outputs": [
    {
     "data": {
      "text/plain": [
       "294"
      ]
     },
     "execution_count": 79,
     "metadata": {},
     "output_type": "execute_result"
    }
   ],
   "source": [
    "result_vg = find_all_recipes('Végétarien')\n",
    "len(result_vg)"
   ]
  },
  {
   "cell_type": "markdown",
   "id": "02fad383-b338-4bcb-8c00-68ea7fcb19d1",
   "metadata": {},
   "source": [
    "2) Récupérer les ingrédients d'une recette : "
   ]
  },
  {
   "cell_type": "code",
   "execution_count": 19,
   "id": "d8d95fbf-2479-4c09-8f95-bf2de2183c75",
   "metadata": {},
   "outputs": [],
   "source": [
    "url_test = \"https://www.marmiton.org/recettes/recette_moelleux-au-chocolat-sans-beurre-sans-sucre_14748.aspx\""
   ]
  },
  {
   "cell_type": "code",
   "execution_count": 27,
   "id": "b6698e96-3eae-401b-a2a7-1d883bdbdc64",
   "metadata": {},
   "outputs": [
    {
     "data": {
      "text/plain": [
       "{'chocolat noir': '200g',\n",
       " 'maïzena': '2c.à.s rase',\n",
       " 'oeufs': '4',\n",
       " 'crème liquide': '20cl'}"
      ]
     },
     "execution_count": 27,
     "metadata": {},
     "output_type": "execute_result"
    }
   ],
   "source": [
    "find_recipe(url_test)"
   ]
  },
  {
   "cell_type": "code",
   "execution_count": 94,
   "id": "e4ea9921-ce68-4716-9946-2543715fdd9c",
   "metadata": {},
   "outputs": [],
   "source": [
    "url_test2 = result_st[0]"
   ]
  },
  {
   "cell_type": "code",
   "execution_count": 95,
   "id": "0a3a0ead-5919-4d4c-8ff7-4544ac07cdcc",
   "metadata": {},
   "outputs": [
    {
     "data": {
      "text/plain": [
       "{'moutarde de Dijon': '1c.à.c',\n",
       " 'oignon': '1c.à.s',\n",
       " 'câpres': '1c.à.s',\n",
       " 'sauce worcestershire': '1c.à.c',\n",
       " 'ketchup': '1c.à.s',\n",
       " 'tabasco': '',\n",
       " 'poivre': '',\n",
       " 'sel': '',\n",
       " \"huile d'olive\": '2c.à.s',\n",
       " 'persil': '1c.à.c',\n",
       " 'boeuf': '250g',\n",
       " \"jaune d'oeuf\": '1'}"
      ]
     },
     "execution_count": 95,
     "metadata": {},
     "output_type": "execute_result"
    }
   ],
   "source": [
    "find_recipe(url_test2)"
   ]
  },
  {
   "cell_type": "markdown",
   "id": "0f668db7-03e2-447b-9d05-20662536a867",
   "metadata": {},
   "source": [
    "On récupère en effet la quantité. Toutefois il faudra gérer le cas où la quantité n'est pas spécifiée (comme par exemple \"sel\")."
   ]
  },
  {
   "cell_type": "markdown",
   "id": "03295606-752c-49c6-85d3-b830b77b83ba",
   "metadata": {},
   "source": [
    "3. Récupérer d'autres données (genre le nombre d'avis, la note...)"
   ]
  }
 ],
 "metadata": {
  "kernelspec": {
   "display_name": "Python 3 (ipykernel)",
   "language": "python",
   "name": "python3"
  },
  "language_info": {
   "codemirror_mode": {
    "name": "ipython",
    "version": 3
   },
   "file_extension": ".py",
   "mimetype": "text/x-python",
   "name": "python",
   "nbconvert_exporter": "python",
   "pygments_lexer": "ipython3",
   "version": "3.10.4"
  }
 },
 "nbformat": 4,
 "nbformat_minor": 5
}
