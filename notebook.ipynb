{
 "cells": [
  {
   "cell_type": "markdown",
   "id": "707dd7f2-9160-4de2-b757-65d1702e190a",
   "metadata": {},
   "source": [
    "I) Récupération des données"
   ]
  },
  {
   "cell_type": "markdown",
   "id": "b64f1151-3eb5-4711-9ba9-dc46752fb2cc",
   "metadata": {},
   "source": [
    "1. Récupération de la liste des urls des recettes correspondant à la recherche de l'utilisateur : \n",
    "\n",
    "(par exemple, on renvoie les 16 recettes correspondant à la recherche 'steak tartare')"
   ]
  },
  {
   "cell_type": "code",
   "execution_count": 111,
   "id": "b1198b6a-fa15-4132-86f6-0c39f3c62d68",
   "metadata": {},
   "outputs": [
    {
     "name": "stdout",
     "output_type": "stream",
     "text": [
      "Requirement already satisfied: lxml in /opt/mamba/lib/python3.10/site-packages (4.9.1)\n"
     ]
    }
   ],
   "source": [
    "!pip install lxml "
   ]
  },
  {
   "cell_type": "code",
   "execution_count": 133,
   "id": "c2e496bf-7210-48da-8ad0-be35f6add5c0",
   "metadata": {},
   "outputs": [],
   "source": [
    "from scrapping import *"
   ]
  },
  {
   "cell_type": "code",
   "execution_count": 113,
   "id": "d150e961-7c8b-43dc-9585-308b82a3f489",
   "metadata": {},
   "outputs": [
    {
     "name": "stdout",
     "output_type": "stream",
     "text": [
      "['https://www.marmiton.org/recettes/recette_steak-tartare_18121.aspx', 'https://www.marmiton.org/recettes/recette_steak-tartare-arrange_50144.aspx', 'https://www.marmiton.org/recettes/recette_steak-tartare-vegetarien_30154.aspx', 'https://www.marmiton.org/recettes/recette_sauce-legere-et-relevee-pour-steack-tartare_222507.aspx', 'https://www.marmiton.org/recettes/recette_steak-tartare-a-l-italienne-tomate-sechee-et-mozzarella_315226.aspx', 'https://www.marmiton.org/recettes/recette_steak-tartare-maison_22175.aspx', 'https://www.marmiton.org/recettes/recette_steak-tartare-a-la-coreenne_43082.aspx', 'https://www.marmiton.org/recettes/recette_steak-tartare-au-poivron-rouge_28172.aspx', 'https://www.marmiton.org/recettes/recette_steak-tartare-au-vinaigre-balsamique_73859.aspx', 'https://www.marmiton.org/recettes/recette_steak-tartare-et-riz-aux-legumes_28609.aspx', 'https://www.marmiton.org/recettes/recette_steak-tartare-a-l-americaine_27808.aspx', 'https://www.marmiton.org/recettes/recette_tartare-thon-saumon-en-verrine_46501.aspx', 'https://www.marmiton.org/recettes/recette_hamburgers-sauce-tartare-maison_335187.aspx', 'https://www.marmiton.org/recettes/recette_tartare-de-boeuf-a-la-cannelle_85156.aspx', 'https://www.marmiton.org/recettes/recette_tartare-de-boeuf-aux-5-epices_315004.aspx']\n"
     ]
    },
    {
     "data": {
      "text/plain": [
       "15"
      ]
     },
     "execution_count": 113,
     "metadata": {},
     "output_type": "execute_result"
    }
   ],
   "source": [
    "result_st = find_all_recipes('Steak tartare')\n",
    "print(result_st)\n",
    "len(result_st)"
   ]
  },
  {
   "cell_type": "code",
   "execution_count": 135,
   "id": "08c0f970-f912-47ca-8265-022263645bb6",
   "metadata": {},
   "outputs": [
    {
     "data": {
      "text/plain": [
       "294"
      ]
     },
     "execution_count": 135,
     "metadata": {},
     "output_type": "execute_result"
    }
   ],
   "source": [
    "result_vg = find_all_recipes('Végétarien')\n",
    "len(result_vg)"
   ]
  },
  {
   "cell_type": "markdown",
   "id": "02fad383-b338-4bcb-8c00-68ea7fcb19d1",
   "metadata": {},
   "source": [
    "2) Récupérer les ingrédients d'une recette : "
   ]
  },
  {
   "cell_type": "code",
   "execution_count": 38,
   "id": "d8d95fbf-2479-4c09-8f95-bf2de2183c75",
   "metadata": {},
   "outputs": [
    {
     "data": {
      "text/plain": [
       "200"
      ]
     },
     "execution_count": 38,
     "metadata": {},
     "output_type": "execute_result"
    }
   ],
   "source": [
    "url_test = url_results[0] #On prend pour exemple le premier résultat de la recherche \"steak tartare\"\n",
    "requests.get(url_test).status_code"
   ]
  },
  {
   "cell_type": "code",
   "execution_count": 39,
   "id": "1c24c54b-5681-45f9-87c9-e6d86696bd87",
   "metadata": {},
   "outputs": [],
   "source": [
    "recipe = requests.get(url_test).text\n",
    "recipeST = BeautifulSoup(recipe)"
   ]
  },
  {
   "cell_type": "code",
   "execution_count": 48,
   "id": "d56b40c2-ee54-4763-a847-d75f5492cdc7",
   "metadata": {},
   "outputs": [
    {
     "name": "stdout",
     "output_type": "stream",
     "text": [
      "['moutarde de Dijon', 'oignon', 'câpres', 'sauce worcestershire', 'ketchup', 'tabasco', 'poivre', 'sel', \"huile d'olive\", 'persil', 'boeuf', \"jaune d'oeuf\"]\n"
     ]
    }
   ],
   "source": [
    "ingredients_table = recipeST.find('div', {'class' : 'MuiGrid-root RCP__sc-vgpd2s-6 ghZzUe MuiGrid-container MuiGrid-spacing-xs-2'})\n",
    "ingredients1 = ingredients_table.findAll('span', {'class' : 'RCP__sc-8cqrvd-3 itCXhd'})\n",
    "ingredients2 = ingredients_table.findAll('span', {'class' : 'RCP__sc-8cqrvd-3 cDbUWZ'})\n",
    "ingredients = ingredients1 + ingredients2\n",
    "noms_ingredients = []\n",
    "for ingredient in ingredients:\n",
    "    nom_ingredient = ingredient.string\n",
    "    noms_ingredients.append(nom_ingredient)\n",
    "print(noms_ingredients)"
   ]
  },
  {
   "cell_type": "markdown",
   "id": "0375b101-5d82-4892-b4e7-9f38ab046b91",
   "metadata": {},
   "source": [
    "On a récupéré la liste des ingrédients de la recette du steak tartare ! Essayons maintenant de choper les quantités."
   ]
  },
  {
   "cell_type": "code",
   "execution_count": 54,
   "id": "b9d4bbbc-0a6c-4402-ab79-afe6a7d1f700",
   "metadata": {},
   "outputs": [
    {
     "name": "stdout",
     "output_type": "stream",
     "text": [
      "1 c.à.c\n",
      "1 c.à.s\n",
      "1 c.à.s\n",
      "1 c.à.c\n",
      "1 c.à.s\n",
      " \n",
      "\n",
      "\n",
      "2 c.à.s\n",
      "1 c.à.c\n",
      "250 g\n",
      "1\n"
     ]
    }
   ],
   "source": [
    "qte = ingredients_table.findAll('span', {'class' : 'SHRD__sc-10plygc-0 epviYI'})\n",
    "qtes = []\n",
    "for q in qte:\n",
    "    print(q.text)"
   ]
  },
  {
   "cell_type": "markdown",
   "id": "0f668db7-03e2-447b-9d05-20662536a867",
   "metadata": {},
   "source": [
    "On récupère en effet la quantité. Toutefois il faudra gérer le cas où la quantité n'est pas spécifiée (comme par exemple \"sel\")."
   ]
  }
 ],
 "metadata": {
  "kernelspec": {
   "display_name": "Python 3 (ipykernel)",
   "language": "python",
   "name": "python3"
  },
  "language_info": {
   "codemirror_mode": {
    "name": "ipython",
    "version": 3
   },
   "file_extension": ".py",
   "mimetype": "text/x-python",
   "name": "python",
   "nbconvert_exporter": "python",
   "pygments_lexer": "ipython3",
   "version": "3.10.4"
  }
 },
 "nbformat": 4,
 "nbformat_minor": 5
}
