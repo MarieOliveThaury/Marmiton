{
 "cells": [
  {
   "cell_type": "markdown",
   "id": "e4fe2312-3a45-40f4-96f7-fbc01acc28ef",
   "metadata": {},
   "source": [
    "Structure URL d'une recherche Marmiton : \"https://www.marmiton.org/recettes/recherche.aspx?aqt=\" + \"nom-du-plat\"\n",
    "\n",
    "Importation des modules nécessaires au Webscraping\n",
    "\n",
    "Test de récupération d'un code source avec la recherche \"Steak tartare\""
   ]
  },
  {
   "cell_type": "code",
   "execution_count": 19,
   "id": "5b607023-e671-4f5d-9cc7-0eae0fa10711",
   "metadata": {},
   "outputs": [],
   "source": [
    "import requests\n",
    "from bs4 import BeautifulSoup\n",
    "import lxml"
   ]
  },
  {
   "cell_type": "code",
   "execution_count": 20,
   "id": "ecd83ec9-9714-4199-84f2-74b839e37c75",
   "metadata": {},
   "outputs": [
    {
     "data": {
      "text/plain": [
       "200"
      ]
     },
     "execution_count": 20,
     "metadata": {},
     "output_type": "execute_result"
    }
   ],
   "source": [
    "#Transformation de la recherche en texte compatible URL, minuscules et tirets entre les mots\n",
    "def to_url(search):\n",
    "    return (search.lower()).replace(' ', '-')\n",
    "\n",
    "s = 'Steak tartare'\n",
    "\n",
    "url_st = \"https://www.marmiton.org/recettes/recherche.aspx?aqt=\" + to_url(s)\n",
    "\n",
    "requests.get(url_st).status_code"
   ]
  },
  {
   "cell_type": "markdown",
   "id": "5f14cbd1-85c6-4071-bd8b-44b3749a4fd9",
   "metadata": {},
   "source": [
    "La page de recherche ainsi renseignée possède bien un contenu : c'est déjà ça."
   ]
  },
  {
   "cell_type": "code",
   "execution_count": 24,
   "id": "c2e496bf-7210-48da-8ad0-be35f6add5c0",
   "metadata": {},
   "outputs": [],
   "source": [
    "response = requests.get(url_st).text\n",
    "st = BeautifulSoup(response)"
   ]
  },
  {
   "cell_type": "code",
   "execution_count": 25,
   "id": "d150e961-7c8b-43dc-9585-308b82a3f489",
   "metadata": {},
   "outputs": [],
   "source": [
    "import re\n",
    "import numpy as np"
   ]
  },
  {
   "cell_type": "code",
   "execution_count": 34,
   "id": "8dc02e0f-1832-42a6-8ac2-f349e4146851",
   "metadata": {},
   "outputs": [
    {
     "name": "stdout",
     "output_type": "stream",
     "text": [
      "12\n"
     ]
    }
   ],
   "source": [
    "found_recipes = st.findAll('a', {'class' : 'MRTN__sc-1gofnyi-2 gACiYG'})\n",
    "print(len(found_recipes))"
   ]
  },
  {
   "cell_type": "markdown",
   "id": "432827d5-8ae9-4833-8d31-81b4f14fe0a8",
   "metadata": {},
   "source": [
    "L'attribut \"class = MRTN__sc-1gofnyi-2 gACiYG\" semble se retrouver pour toutes les pages de résultats. Il semble être ce qui caractérise les résultats.\n",
    "\n",
    "Attention : le site de Marmiton n'affiche que 12 résultats par page. Pour la recherche steak tartare, le site annonce un total de 16 résultats mais la commande ci-dessus ne prend que les 12 premiers, puisqu'il ne traite que la première page de résultats. Il faudra trouver un moyen de traiter TOUTES les pages."
   ]
  },
  {
   "cell_type": "code",
   "execution_count": 37,
   "id": "e28a4f8b-462e-4fb5-9fa3-8b2f479f0fa8",
   "metadata": {},
   "outputs": [
    {
     "name": "stdout",
     "output_type": "stream",
     "text": [
      "12\n",
      "['https://www.marmiton.org/recettes/recette_steak-tartare_18121.aspx', 'https://www.marmiton.org/recettes/recette_steak-tartare-arrange_50144.aspx', 'https://www.marmiton.org/recettes/recette_steak-tartare-vegetarien_30154.aspx', 'https://www.marmiton.org/recettes/recette_sauce-legere-et-relevee-pour-steack-tartare_222507.aspx', 'https://www.marmiton.org/recettes/recette_steak-tartare-a-l-italienne-tomate-sechee-et-mozzarella_315226.aspx', 'https://www.marmiton.org/recettes/recette_steak-tartare-maison_22175.aspx', 'https://www.marmiton.org/recettes/recette_steak-tartare-a-la-coreenne_43082.aspx', 'https://www.marmiton.org/recettes/recette_steak-tartare-au-poivron-rouge_28172.aspx', 'https://www.marmiton.org/recettes/recette_steak-tartare-au-vinaigre-balsamique_73859.aspx', 'https://www.marmiton.org/recettes/recette_steak-tartare-et-riz-aux-legumes_28609.aspx', 'https://www.marmiton.org/recettes/recette_steak-tartare-a-l-americaine_27808.aspx', 'https://www.marmiton.org/videos/steak-tartare-v530805.html']\n"
     ]
    }
   ],
   "source": [
    "url_results = []\n",
    "for recipe in found_recipes:\n",
    "    href = recipe.get('href')\n",
    "    url_results.append('https://www.marmiton.org' + href)\n",
    "print(len(url_results))\n",
    "print(url_results)"
   ]
  },
  {
   "cell_type": "markdown",
   "id": "83776a7c-b115-4511-bd3d-08686dc98400",
   "metadata": {},
   "source": [
    "Tentons maintenant de récupérer les ingrédients d'une recette."
   ]
  },
  {
   "cell_type": "code",
   "execution_count": 38,
   "id": "d8d95fbf-2479-4c09-8f95-bf2de2183c75",
   "metadata": {},
   "outputs": [
    {
     "data": {
      "text/plain": [
       "200"
      ]
     },
     "execution_count": 38,
     "metadata": {},
     "output_type": "execute_result"
    }
   ],
   "source": [
    "url_test = url_results[0] #On prend pour exemple le premier résultat de la recherche \"steak tartare\"\n",
    "requests.get(url_test).status_code"
   ]
  },
  {
   "cell_type": "code",
   "execution_count": 39,
   "id": "1c24c54b-5681-45f9-87c9-e6d86696bd87",
   "metadata": {},
   "outputs": [],
   "source": [
    "recipe = requests.get(url_test).text\n",
    "recipeST = BeautifulSoup(recipe)"
   ]
  },
  {
   "cell_type": "code",
   "execution_count": 48,
   "id": "d56b40c2-ee54-4763-a847-d75f5492cdc7",
   "metadata": {},
   "outputs": [
    {
     "name": "stdout",
     "output_type": "stream",
     "text": [
      "['moutarde de Dijon', 'oignon', 'câpres', 'sauce worcestershire', 'ketchup', 'tabasco', 'poivre', 'sel', \"huile d'olive\", 'persil', 'boeuf', \"jaune d'oeuf\"]\n"
     ]
    }
   ],
   "source": [
    "ingredients_table = recipeST.find('div', {'class' : 'MuiGrid-root RCP__sc-vgpd2s-6 ghZzUe MuiGrid-container MuiGrid-spacing-xs-2'})\n",
    "ingredients1 = ingredients_table.findAll('span', {'class' : 'RCP__sc-8cqrvd-3 itCXhd'})\n",
    "ingredients2 = ingredients_table.findAll('span', {'class' : 'RCP__sc-8cqrvd-3 cDbUWZ'})\n",
    "ingredients = ingredients1 + ingredients2\n",
    "noms_ingredients = []\n",
    "for ingredient in ingredients:\n",
    "    nom_ingredient = ingredient.string\n",
    "    noms_ingredients.append(nom_ingredient)\n",
    "print(noms_ingredients)"
   ]
  },
  {
   "cell_type": "markdown",
   "id": "0375b101-5d82-4892-b4e7-9f38ab046b91",
   "metadata": {},
   "source": [
    "On a récupéré la liste des ingrédients de la recette du steak tartare ! Essayons maintenant de choper les quantités."
   ]
  },
  {
   "cell_type": "code",
   "execution_count": 54,
   "id": "b9d4bbbc-0a6c-4402-ab79-afe6a7d1f700",
   "metadata": {},
   "outputs": [
    {
     "name": "stdout",
     "output_type": "stream",
     "text": [
      "1 c.à.c\n",
      "1 c.à.s\n",
      "1 c.à.s\n",
      "1 c.à.c\n",
      "1 c.à.s\n",
      " \n",
      "\n",
      "\n",
      "2 c.à.s\n",
      "1 c.à.c\n",
      "250 g\n",
      "1\n"
     ]
    }
   ],
   "source": [
    "qte = ingredients_table.findAll('span', {'class' : 'SHRD__sc-10plygc-0 epviYI'})\n",
    "qtes = []\n",
    "for q in qte:\n",
    "    print(q.text)"
   ]
  },
  {
   "cell_type": "markdown",
   "id": "0f668db7-03e2-447b-9d05-20662536a867",
   "metadata": {},
   "source": [
    "On récupère en effet la quantité. Toutefois il faudra gérer le cas où la quantité n'est pas spécifiée (comme par exemple \"sel\")."
   ]
  }
 ],
 "metadata": {
  "kernelspec": {
   "display_name": "Python 3 (ipykernel)",
   "language": "python",
   "name": "python3"
  },
  "language_info": {
   "codemirror_mode": {
    "name": "ipython",
    "version": 3
   },
   "file_extension": ".py",
   "mimetype": "text/x-python",
   "name": "python",
   "nbconvert_exporter": "python",
   "pygments_lexer": "ipython3",
   "version": "3.10.4"
  }
 },
 "nbformat": 4,
 "nbformat_minor": 5
}
